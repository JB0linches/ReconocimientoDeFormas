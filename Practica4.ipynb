{
 "cells": [
  {
   "cell_type": "markdown",
   "metadata": {
    "colab_type": "text",
    "id": "AfaNEPeRXCe8",
    "tags": []
   },
   "source": [
    "# **Práctica Final Reconocimiento de Formas**\n",
    "\n",
    "* **Alumno 1**: Bolinches Segovia, Jorge\n",
    "* **Alumno 2**: Cerezo Pomykol, Jan\n",
    "\n",
    "**Nota**: El alumno *Cercadillo Muñoz, Daniel*, que figura como autor en las anteriores entregas, sin haber participado en la elaboración de ninguna de ellas, nos ha confirmado oficialmente que ha abandonado la asignatura, por tanto no consta como autor en esta práctica."
   ]
  },
  {
   "cell_type": "markdown",
   "metadata": {},
   "source": [
    "# **Introducción**"
   ]
  },
  {
   "cell_type": "markdown",
   "metadata": {
    "tags": []
   },
   "source": [
    "Este notebook de Jupyter contiene las soluciones propuestas a los apartados del enunciado de la práctica correspondiente a la primera parte de la asignatura. Incluye tanto la implementación de los clasificadores como las pruebas realizadas con estos. A continuación se explica brevemente el procedimiento seguido para implementar cada clasificador, así como los métodos de reducción de la dimensionalidad vistos en clase, y que se emplean más adelante:\n",
    "\n",
    "***\n",
    "\n",
    "#### **Clasificador distancia euclídea:**\n",
    "Este clasificador asigna datos según la distancia mínima a los centroides de cada clase.\n",
    "\n",
    "El entrenamiento de este clasificador consiste en calcular los centroides $z_{i}$ de cada clase. Esto es lo que hace la función `fit` del clasificador.\n",
    "\n",
    "$$z_{i} = \\frac{1}{card(\\alpha_{i})}\\sum\\limits _{\\forall x\\in\\alpha_{i}}x$$\n",
    "\n",
    "La predicción consiste en calcular la distancia euclídea de cada vector de entrada a los centroides de cada clase y elegir la clase que se corresponde con la menor distancia euclídea asociada. El cálculo de pertenencia se hace con `decision_function`. La función de pertenencia es la siguiente:\n",
    "\n",
    "$$ de_{i}(x) \\equiv D_{E}(x, z_{i}) = \\sqrt{\\sum\\limits_{j=0}^{n}(x_{j}-z_{i})^{2}}$$\n",
    "\n",
    "Donde $D_{E}(x, z_{i})$ es la distancia eculídea de $x$ al centroide $z_{i}$ y $n$ es la dimensión de cada dato. Dado que esta función proporciona la distancia a una clase, se selecciona el valor mínimo de las distancias a cada clase. Se asigna el elemento $x$ a la clase $\\alpha_{i}$ si:\n",
    "\n",
    "$$ i = \\arg\\min_{j}\\{de_{i}(x)\\} $$\n",
    "\n",
    "Esta operación se ejecuta en la función `predict`.\n",
    "\n",
    "***\n",
    "\n",
    "#### **Clasificador estadístico bayesiano:**\n",
    "\n",
    "Este clasificador parte de la hipótesis de distribución gaussiana. La función de pertenencia del clasificador es la siguiente:\n",
    "\n",
    "$$ db_{i}(x) = -\\frac{1}{2}ln|\\Sigma_{i}|-\\frac{1}{2}(x-\\mu_{i})^{T}\\Sigma_{i}^{-1}(x-\\mu_{i})+\\ln P(\\alpha_{i})$$\n",
    "\n",
    "Donde $\\Sigma_{i}$ es la matriz de covarianzas de la clase $\\alpha_{i}$, $P(\\alpha_{i})$ es la probabilidad a priori de la clase $\\alpha_{i}$, y $\\mu_{i}$ es la media de la clase $\\alpha_{i}$. Dado que esta función proporciona una probabilidad de pertenencia a una clase, se selecciona el valor máximo. Se asigna el elemento $x$ a la clase $\\alpha_{i}$ si:\n",
    "\n",
    "$$ i = \\arg\\max_{j}\\{db_{i}(x)\\} $$\n",
    "\n",
    "En la implementación se emplea $dbq_{i} = \\ln(db_{i}(x))$, que tiene forma cuadrática:\n",
    "\n",
    "$$ dbq_{i}(x) = x^{T}[-\\frac{1}{2}\\Sigma_{i}^{-1}]x + [\\mu_{i}^{T}\\Sigma_{i}^{-1}]x -\\frac{1}{2}\\mu_{i}^{T}\\Sigma_{i}^{-1}\\mu_{i} -\\frac{1}{2}\\ln|\\Sigma_{i}| + \\ln P(\\alpha_{i})$$\n",
    "\n",
    "En la implementación (`ClassifEstadistico`), los términos $a$, $b$ y $c$ de la expresión cuadrática $ax^{2}+bx+c$ se corresponden con:\n",
    "\n",
    "$$a = -\\frac{1}{2}\\Sigma_{i}^{-1}$$\n",
    "\n",
    "$$b = \\mu_{i}^{T}\\Sigma_{i}^{-1}$$\n",
    "\n",
    "$$c = -\\frac{1}{2}\\mu_{i}^{T}\\Sigma_{i}^{-1}\\mu_{i} -\\frac{1}{2}\\ln|\\Sigma_{i}| + \\ln P(\\alpha_{i})$$\n",
    "\n",
    "Estos términos se calculan en el entrenamiento del clasificador `fit`, dado que son independientes del vector $x$ de entrada a la hora de clasificar. En la función clasificadora (`decision_function`), se calcula $dbq_{i}(x)$. De esta forma se reduce el tiempo de clasificación de nuevos datos, aumentando ligeramente el tiempo de entrenamiento (que sólo se hace una vez).\n",
    "\n",
    "El clasificador estadístico regularizado añade dos hiperparámetros en el cálculo de la matriz de covarianzas: $\\lambda$ y $\\gamma$. El primero indica una medida de similitud entre clases, mientras que el segundo sirve para regularizar la matriz de covarianzas. El hiperparámetro $\\lambda$ también indica lo parecida o distinta que es la matriz de covarianzas de la clase a la matriz de covarianzas de todos los datos. Primero se calcula la matriz $\\Sigma_{i}^{\\lambda}$:\n",
    "\n",
    "$$\\Sigma_{i}^{\\lambda} = \\frac{(1-\\lambda)n_{i}\\Sigma_{i} + \\lambda nS_{w}}{(1-\\lambda)n_{i} + \\lambda n}$$\n",
    "\n",
    "Donde $n_{i}$ es el número de representantes de la clase $i$, $n$ es el número total de representantes, y $S_{w}$ es la matriz\n",
    "\n",
    "$$S_{w} = \\sum\\limits_{i=0}^{c}\\frac{n_{i}}{n}\\Sigma_{i}$$\n",
    "\n",
    "donde $c$ es el número de clases. Esta matriz es una matriz de covarianzas de todas las clases, pero teniendo en cuenta la proporción de datos de cada clase.\n",
    "\n",
    "A continuación se calcula la matriz $\\Sigma_{i}^{\\lambda, \\gamma}$, que tiene en cuenta el parámetro $\\gamma$:\n",
    "\n",
    "$$\\Sigma_{i}^{\\lambda, \\gamma} = (1-\\gamma)\\Sigma_{i}^{\\lambda} + \\gamma c_{i} I_{d}$$\n",
    "\n",
    "Donde $I_{d}$ es la matriz identidad $d x d$, $d$ la dimensión de cada representante y $c_{i}$ es:\n",
    "\n",
    "$$c_{i} = \\frac{Tr\\{\\Sigma_{i}^{\\lambda}\\}}{d}$$\n",
    "\n",
    "Con la nueva matriz de covarianzas $\\Sigma_{i}^{\\lambda, \\gamma}$ se obtiene $dbrq_{i}(x)$: \n",
    "\n",
    "$$ dbrq_{i}(x) = x^{T}[-\\frac{1}{2}\\Sigma_{i}^{\\lambda, \\gamma -1}]x + [\\mu_{i}^{T}\\Sigma_{i}^{\\lambda, \\gamma -1}]x -\\frac{1}{2}\\mu_{i}^{T}\\Sigma_{i}^{\\lambda, \\gamma -1}\\mu_{i} -\\frac{1}{2}\\ln|\\Sigma_{i}^{\\lambda, \\gamma}| + \\ln P(\\alpha_{i})$$\n",
    "\n",
    "La función de pertenencia sigue siendo la misma: se asigna el elemento $x$ a la clase $\\alpha_{i}$ si:\n",
    "\n",
    "$$ i = \\arg\\max_{j}\\{dbrq_{i}(x)\\} $$\n",
    "\n",
    "***\n",
    "\n",
    "En la sección de implementaciones se incluyen las implemetanciones de los siguientes clasificadores:\n",
    "* **Clasificador de la distancia euclídea**: implementado con la función $de_{i}(x)$. Está disponible en la clase `ClassifEuclid`.\n",
    "* **Clasificador estadístico sin regularizar:** implementado con la función $dbq_{i}(x)$. Está disponible en la clase `ClassifEstadistico`.\n",
    "* **Clasificador estadístico regularizado:** implementado con la función $dbrq_{i}(x)$. Está disponible en la clase `ClassifEstadisticoRegularizado_metodo_clase`.\n",
    "* **Clasificador estadístico regularizado (método de sklearn):** implementado con regularización por autovectores. Está disponible en la clase `ClassifEstadisticoRegularizado_metodo_sklearn`. Este clasificador está basado en la solución por *singular value decomposition*. Esto supone que la matriz de covarianzas $\\Sigma_{i}$ es igual a $\\frac{1}{n-1}X^{T}X = \\frac{1}{n-1}VS^{2}V^{T}$. Donde $V$ proviene de la descomposición de valores singulares de $\\Sigma_{i} = USV^{T}$. Con esto es posible calcular los valores de pertenencia a cada clase sin tener que calcular explícitamente $\\Sigma_{i}^{-1}$, evitando así los errores al intentar invertir una matriz no inversible. Este procedimiento se explica [aquí](https://scikit-learn.org/stable/modules/lda_qda.html#estimation-algorithms). El motivo por el que hemos implementado esta versión es porque con el método de regularización que hemos visto en clase no es posible probar todos los valores de hiperparámetros. La teoría supone que los hiperparámetros $\\lambda$ y $\\gamma$ son lo suficientemente buenos como para que la matriz de covarianzas final no sea singular. Pero cuando se intenta probar un hiperparámetro que no elimina la singularidad, aparecen errores por intentar invertir una matriz no inversible. La solución que hemos tomado en nuestra implementación del clasificador estadístico regularizado (metodo_clase) para que no aparezcan errores es la siguiente. Cuando el determinante de la matriz de covarianzas sea 0, entonces no se asignarán datos a esa clase (se le asigna probabilidad 0). Claramente no es una solución buena, ni tampoco arregla el hecho de que la matriz de covarianzas sea singular, pero al menos podemos probar el clasificador con múltiples combinaciones de $\\lambda$ y $\\gamma$ sin que salten errores al intentar calcular la matriz inversa. De esta forma, si los hiperparámetros con los que se entrena son buenos, entonces la tasa de aciertos será la correcta porque no habrá matrices singulares. En el caso de que sea una combinación mala, la tasa será muy baja. Aún así, nuestro clasificador regularizado sólo lo empleamos para clasificar datos que se han filtrado mediante Análisis de Componentes Principales y/o Análisis Discriminante Lineal, por tanto no deberían aparecer matrices singulares si se estiman bien los parámetros $k$ y $c$ (se explican a continuación).\n",
    "\n",
    "***\n",
    "\n",
    "#### **Técnicas de reducción de la dimensionalidad empleadas:**\n",
    "\n",
    "##### **Análisis de Componentes Principales:**\n",
    "\n",
    "Este método tiene como objetivo eliminar características muy poco discriminantes de un conjunto de datos, de forma que se conserva la mayoría de la información eliminando un número considerable de datos poco relevantes. Esta técnica se puede emplear en múltiples campos, pero detallaremos el procedimiento para esta práctica.\n",
    "\n",
    "Partiendo de un conjunto de datos $X$ que contiene dimensiones que no aportan información dado que la varianza de esa dimensión es muy pequeña, el Análisis de Componentes Principales consiste en escoger las componentes asociadas a las varianzas más altas de cada una de las dimensiones. Dicho de otra forma, es un método de selección de componentes que maximiza la varianza del conjunto de datos.\n",
    "\n",
    "1. El primer paso consiste en calcular la media del vector $X$ de datos.\n",
    "\n",
    "$$\\bar X = \\frac{1}{m}\\sum\\limits_{i=1}^{m}X_{i}$$\n",
    "\n",
    "2. El segundo paso consiste en estandarizar el conjunto de datos. Para ello se resta al vector $X$ su media $\\bar X$.\n",
    "\n",
    "$$\\hat X = X - \\bar X$$\n",
    "\n",
    "3. Se calcula la matriz de covarianzas $\\Sigma_{\\hat X}$ de $\\hat X$.\n",
    "\n",
    "4. Se calcula la descomposición espectral de la matriz $\\Sigma_{\\hat X}$. Los autovalores ordenados de mayor a menor, proporcionan los autovectores correspondientes a las direcciones de máxima varianza del conjunto de datos (se maximiza $\\Sigma_{\\hat X}$). En este punto es posible entender por qué es importante estandarizar los datos (paso 2), veamos un ejemplo. Imaginemos que queremos clasificar personas según su salario anual y el número de días que trabajan al año. Supongamos que en una variable medimos el salario anual de las personas, y en otra el número de días que se trabaja al año. En este caso el salario estará en el rango de las decenas de miles, mientras que el número de días nunca será superior a 365. Si los sueldos de nuestro conjunto de datos varían entre 20.000€ hasta 45.000€ (por ejemplo), y los días varían entre 100 y 300 días, se ve claramente que el autovector asociado al autovalor mayor es el de los salarios. El objetivo del Análisis de Componentes Principales es reducir el conjunto de datos sin perder demasiada información. En este ejemplo, el salario es la variable que tiene mayor varianza. Pero podría darse el caso de que no es la variable más importante para el problema que queremos resolver, por tanto sería incorrecto seleccionar el autovector asociado. Es por esto por lo que es necesario estandarizar los datos.\n",
    "\n",
    "$$\\Sigma_{\\hat X} = P\\Lambda P^{T}$$\n",
    "\n",
    "5. Se construye la matriz de proyección $A$, compuesta por los $k$ autovectores de mayor autovalor asociado ($P_{1-k}$). El valor de $k$ es un hiperparámetro, indica el número de componentes que se conservarán.\n",
    "\n",
    "$$A = P_{1-k}$$\n",
    "\n",
    "6. Se proyectan los datos estandarizados sobre el nuevo espacio:\n",
    "\n",
    "$$X_{pr} = A^{T}\\hat X$$\n",
    "\n",
    "Con el conjunto de datos $X_{pr}$ se entrena el clasificador. Cuando se quiere evaluar, es necesario estandarizar los datos del test y proyectarlos sobre el mismo espacio:\n",
    "\n",
    "$$X_{pr} = A^{T}(X-\\bar X)$$\n",
    "\n",
    "##### **Análisis Discriminante Lineal:**\n",
    "\n",
    "Este método, al igual que el Análisis de Componentes Principales, consiste en reducir la dimensionalidad de un conjunto de datos. Tiene como objetivo maximizar la separación entre las clases, pero minimizando la varianza dentro de cada clase, es decir, maximiza el Ratio de Fisher. Esta técnica también se puede emplear en múltiples campos, pero detallaremos el procedimiento seguido en esta práctica.\n",
    "\n",
    "1. Primero hay que calcular la matrix $S_{w}$, que representa la suma de las covarianzas de cada clase ($\\Sigma_{i}$).\n",
    "\n",
    "$$S_{w} = \\sum\\limits_{i=0}^{c}\\Sigma_{i}$$\n",
    "\n",
    "2. Se calcula la matriz de dispersión entre clases $S_{b}$:\n",
    "\n",
    "$$S_{b} = \\sum\\limits_{i=0}^{c}N_{i}(x_{i}-\\bar x)(x_{i}-\\bar x)^{T}$$\n",
    "\n",
    "Donde $N_{i}$ representa el número de datos de la clase $i$ y $\\bar x$ la media total. Lo que pretende este método es minimizar $S_{w}$ y maximizar $S_{b}$.\n",
    "\n",
    "3. Calcular la descomposición espectral de $S_{w}^{-1}S_{b}$:\n",
    "\n",
    "$$S_{w}^{-1}S_{b} = P\\Lambda P^{T}$$\n",
    "\n",
    "Previamente a este paso, lo que se quería era minimizar $S_{w}$ y maximizar $S_{b}$, pero al invertir la matriz $S_{w}$, ahora lo que se quiere es maximizarla. Los autovectores asociados a los autovalores de mayor valor de esta descomposición espectral nos proporcionan las direcciones en las que hay maxima varianza de $S_{b}$ y máxima varianza de $S_{w}^{-1}$ (que es equivalente a buscar la mínima varianza de $S_{w}$.\n",
    "\n",
    "4. Se construye la matriz de proyección $A$, compuesta por los $c-1$ autovectores de mayor autovalor asociado ($P_{1-(c-1)}$). El valor de $c$ es un hiperparámetro, indica el número de componentes que se conservarán.\n",
    "\n",
    "$$A = P_{1-(c-1)}$$\n",
    "\n",
    "Este método asigna el dato $x$ a la clase que minimize la distancia de Mahalanobis, teniendo en cuenta además la probabilidad a priori de cada clase.\n",
    "Cuando se quiere evaluar, es necesario proyectar los datos del test sobre el mismo espacio:\n",
    "\n",
    "$$X_{pr} = A^{T}X$$"
   ]
  },
  {
   "cell_type": "markdown",
   "metadata": {},
   "source": [
    "# **Implementación de clasificadores y funciones auxiliares**"
   ]
  },
  {
   "cell_type": "code",
   "execution_count": 1,
   "metadata": {},
   "outputs": [],
   "source": [
    "import numpy as np\n",
    "from abc import abstractmethod\n",
    "from sklearn.base import BaseEstimator\n",
    "\n",
    "class Classifier(BaseEstimator):\n",
    "\n",
    "    @abstractmethod\n",
    "    def fit(self, X, y):\n",
    "        pass\n",
    "\n",
    "    @abstractmethod\n",
    "    def decision_function(self, X):\n",
    "        pass\n",
    "    \n",
    "    @abstractmethod\n",
    "    def predict(self, X):\n",
    "        pass\n",
    "    \n",
    "    def score(self, X, y):\n",
    "        return self.num_aciertos(X, y) / len(y)\n"
   ]
  },
  {
   "cell_type": "markdown",
   "metadata": {},
   "source": [
    "#### **Clasificador de la distancia euclídea**"
   ]
  },
  {
   "cell_type": "code",
   "execution_count": 2,
   "metadata": {},
   "outputs": [],
   "source": [
    "class ClassifEuclid(Classifier, BaseEstimator):\n",
    "    \n",
    "    def __init__(self, labels=[]):\n",
    "        \"\"\"Constructor de la clase\n",
    "        labels: lista de etiquetas de esta clase (argumento necesario)\"\"\"\n",
    "        self.labels = labels\n",
    "        self.Z = None # Array de centroides\n",
    "\n",
    "    def fit(self, X, y):\n",
    "        \"\"\"Entrena el clasificador\n",
    "        X: matriz numpy cada fila es un dato, cada columna una medida\n",
    "        y: vector de etiquetas, tantos elementos como filas en X\n",
    "        retorna objeto clasificador\"\"\"\n",
    "        n_clases = len(self.labels)\n",
    "        n_caracteristicas = X.shape[1]\n",
    "        self.Z = np.empty((n_clases, n_caracteristicas))\n",
    "        for c in range(n_clases):\n",
    "            self.Z[c] = np.mean(X[y==c], axis=0)\n",
    "        return self\n",
    "\n",
    "    def decision_function(self, X):\n",
    "        \"\"\"Estima el grado de pertenencia de cada dato a todas las clases \n",
    "        X: matriz numpy cada fila es un dato, cada columna una medida del vector de caracteristicas. \n",
    "        Retorna una matriz, con tantas filas como datos y tantas columnas como clases tenga\n",
    "        el problema, cada fila almacena los valores pertenencia de un dato a cada clase\"\"\"\n",
    "        # Calcular la distancia de cada fila a cada centroide\n",
    "        aux = X[:,None]-self.Z\n",
    "        return np.sqrt(np.einsum('abc,abc->ab', aux, aux))\n",
    "\n",
    "    def predict(self, X):\n",
    "        \"\"\"Estima la etiqueta de cada dato. La etiqueta puede ser un entero o bien un string.\n",
    "        X: matriz numpy cada fila es un dato, cada columna una medida\n",
    "        retorna un vector con las etiquetas de cada dato\"\"\"\n",
    "        # Devuelve un array con el índice con valor mínimo de cada fila.\n",
    "        # Cada índice se corresponde con la clase a la que pertenece.\n",
    "        return np.argmin(self.decision_function(X), axis=1)\n",
    "    \n",
    "    def num_aciertos(self, X, y):\n",
    "        \"\"\"Cuenta el numero de aciertos del clasificador para un conjunto de datos X.\n",
    "        X: matriz de datos a clasificar\n",
    "        y: vector de etiquetas correctas\"\"\"\n",
    "        # Contar el número de datos iguales en ambos vectores\n",
    "        return np.sum(self.predict(X)==y)\n"
   ]
  },
  {
   "cell_type": "markdown",
   "metadata": {},
   "source": [
    "#### **Clasificador estadístico bayesiano**"
   ]
  },
  {
   "cell_type": "code",
   "execution_count": 3,
   "metadata": {},
   "outputs": [],
   "source": [
    "class ClassifEstadistico(Classifier, BaseEstimator):\n",
    "    \n",
    "    def __init__(self, labels=[]):\n",
    "        \"\"\"Constructor de la clase\n",
    "        labels: lista de etiquetas de esta clase (argumento necesario)\"\"\"\n",
    "        self.labels = labels\n",
    "        # Terminos de la expresión cuadrática del clasificador\n",
    "        self.a = None\n",
    "        self.b = None\n",
    "        self.c = None\n",
    "\n",
    "    def fit(self,X,y):\n",
    "        \"\"\"Entrena el clasificador\n",
    "        X: matriz numpy cada fila es un dato, cada columna una medida\n",
    "        y: vector de etiquetas, tantos elementos como filas en X\n",
    "        retorna objeto clasificador\"\"\"\n",
    "        n_labels = len(self.labels)\n",
    "        n_caracteristicas = X.shape[1]\n",
    "        self.a = np.empty((n_labels, n_caracteristicas, n_caracteristicas))\n",
    "        self.b = np.empty((n_labels, n_caracteristicas))\n",
    "        self.c = np.empty(n_labels)\n",
    "        for c in range(len(self.labels)):\n",
    "            X_clase = X[y==c]\n",
    "            cov = np.cov(X_clase, rowvar=False)\n",
    "            mu = np.mean(X_clase, axis=0)\n",
    "            cov_inv = np.linalg.inv(cov)\n",
    "            det = np.linalg.det(cov)\n",
    "            self.a[c] = -.5 * cov_inv\n",
    "            self.b[c] = mu.T @ cov_inv\n",
    "            self.c[c] = -.5 * (mu.T @ cov_inv @ mu) -.5 * np.log(det) + np.log(X_clase.shape[0] / X.shape[0])\n",
    "        return self\n",
    "\n",
    "    def decision_function(self,X):\n",
    "        \"\"\"Estima el grado de pertenencia de cada dato a todas las clases \n",
    "        X: matriz numpy cada fila es un dato, cada columna una medida del vector de caracteristicas. \n",
    "        Retorna una matriz, con tantas filas como datos y tantas columnas como clases tenga\n",
    "        el problema, cada fila almacena los valores pertenencia de un dato a cada clase\"\"\"\n",
    "        return np.einsum('ab,cdb,ad->ac', X, self.a, X) + np.einsum('ab,cb->ca', self.b, X) + self.c[None,:]\n",
    "\n",
    "    def predict(self,X):\n",
    "        \"\"\"Estima la etiqueta de cada dato. La etiqueta puede ser un entero o bien un string.\n",
    "        X: matriz numpy cada fila es un dato, cada columna una medida\n",
    "        retorna un vector con las etiquetas de cada dato\"\"\"\n",
    "        return np.argmax(self.decision_function(X), axis=1)\n",
    "    \n",
    "    def num_aciertos(self,X,y):\n",
    "        \"\"\"Cuenta el numero de aciertos del clasificador para un conjunto de datos X.\n",
    "        X: matriz de datos a clasificar\n",
    "        y: vector de etiquetas correctas\"\"\"\n",
    "        return np.sum(self.predict(X)==y)\n"
   ]
  },
  {
   "cell_type": "markdown",
   "metadata": {},
   "source": [
    "#### **Clasificador estadístico bayesiano regularizado (método visto en clase, explicado en la introducción)**"
   ]
  },
  {
   "cell_type": "code",
   "execution_count": 4,
   "metadata": {},
   "outputs": [],
   "source": [
    "class ClassifEstadisticoRegularizado_metodo_clase2(Classifier, BaseEstimator):\n",
    "    \n",
    "    def __init__(self, labels=[]):\n",
    "        \"\"\"Constructor de la clase\n",
    "        labels: lista de etiquetas de esta clase (argumento necesario)\"\"\"\n",
    "        self.labels = labels\n",
    "        # Terminos de la expresión cuadrática del clasificador\n",
    "        self.a = []\n",
    "        self.b = []\n",
    "        self.c = []\n",
    "        self.dont_ignore = None\n",
    "\n",
    "    def fit(self, X, y, l=0, g=0):\n",
    "        \"\"\"Entrena el clasificador\n",
    "        X: matriz numpy cada fila es un dato, cada columna una medida\n",
    "        y: vector de etiquetas, tantos elementos como filas en X\n",
    "        l: (lambda) hiperparámetro de similitud entre matrices de covarianza (ver introduccion)\n",
    "        g: (gamma) hiperparámetro de regularización (ver introduccion)\n",
    "        retorna objeto clasificador\"\"\"\n",
    "        tol = 1e-1\n",
    "        n_labels = len(self.labels)\n",
    "        n_caracteristicas = X.shape[1]\n",
    "        self.dont_ignore = np.var(X - np.mean(X, axis=0), axis=0) > tol\n",
    "\n",
    "        for c in range(n_labels):\n",
    "            X_clase = X[y==c][:, self.dont_ignore]\n",
    "            mu = np.mean(X_clase, axis=0)\n",
    "            cov = np.cov(X_clase, rowvar=False)\n",
    "            print(len(np.diagonal(cov) < tol))\n",
    "            det = np.linalg.det(cov)\n",
    "            cov_inv = np.linalg.inv(cov)\n",
    "            priori = X_clase.shape[0] / X.shape[0]\n",
    "            self.a.append(-.5 * self.cov_lg_inv[c])\n",
    "            self.b.append(self.mu[c].T @ cov_inv)\n",
    "            self.c.append(-.5 * (mu.T @ cov_inv @ mu) -.5 * np.log(det) + np.log(priori))\n",
    "        return self\n",
    "\n",
    "    def decision_function(self,X):\n",
    "        \"\"\"Estima el grado de pertenencia de cada dato a todas las clases \n",
    "        X: matriz numpy cada fila es un dato, cada columna una medida del vector de caracteristicas. \n",
    "        Retorna una matriz, con tantas filas como datos y tantas columnas como clases tenga\n",
    "        el problema, cada fila almacena los valores pertenencia de un dato a cada clase\"\"\"\n",
    "        X_data = X[:, self.dont_ignore]\n",
    "        res = np.zeros((X.shape[0], len(self.labels)))\n",
    "        for c in self.dont_ignore:\n",
    "            #res[:,c] = -.5 * np.log(self.det[c]) - .5 * np.diagonal((X - self.mu[c]) @ self.cov_lg_inv[c] @ (X - self.mu[c]).T) + np.log(self.priori)\n",
    "            res[:,c] = np.einsum('ab,db,ad->a', X_data, self.a[c], X_data) + np.einsum('b,cb->c', self.b[c], X_data) + self.c[c]\n",
    "        return res\n",
    "        #return np.einsum('ab,cdb,ad->ac', X, self.a, X) + np.einsum('ab,cb->ca', self.b, X) + self.c[None,:]\n",
    "\n",
    "    def predict(self,X):\n",
    "        \"\"\"Estima la etiqueta de cada dato. La etiqueta puede ser un entero o bien un string.\n",
    "        X: matriz numpy cada fila es un dato, cada columna una medida\n",
    "        retorna un vector con las etiquetas de cada dato\"\"\"\n",
    "        return np.argmax(self.decision_function(X), axis=1)\n",
    "    \n",
    "    def num_aciertos(self,X,y):\n",
    "        \"\"\"Cuenta el numero de aciertos del clasificador para un conjunto de datos X.\n",
    "        X: matriz de datos a clasificar\n",
    "        y: vector de etiquetas correctas\"\"\"\n",
    "        return np.sum(self.predict(X)==y)\n",
    "\n",
    "class ClassifEstadisticoRegularizado_metodo_clase(Classifier, BaseEstimator):\n",
    "    \n",
    "    def __init__(self, labels=[]):\n",
    "        \"\"\"Constructor de la clase\n",
    "        labels: lista de etiquetas de esta clase (argumento necesario)\"\"\"\n",
    "        self.labels = labels\n",
    "        self.dont_ignore = []\n",
    "        # Terminos de la expresión cuadrática del clasificador\n",
    "        self.a = None\n",
    "        self.b = None\n",
    "        self.c = None\n",
    "\n",
    "    def fit(self, X, y, l=0, g=0):\n",
    "        \"\"\"Entrena el clasificador\n",
    "        X: matriz numpy cada fila es un dato, cada columna una medida\n",
    "        y: vector de etiquetas, tantos elementos como filas en X\n",
    "        l: (lambda) hiperparámetro de similitud entre matrices de covarianza (ver introduccion)\n",
    "        g: (gamma) hiperparámetro de regularización (ver introduccion)\n",
    "        retorna objeto clasificador\"\"\"\n",
    "        n_labels = len(self.labels)\n",
    "        n_caracteristicas = X.shape[1]\n",
    "        self.a = np.empty((n_labels, n_caracteristicas, n_caracteristicas))\n",
    "        self.b = np.empty((n_labels, n_caracteristicas))\n",
    "        self.c = np.empty(n_labels)\n",
    "        cov = np.empty((n_labels, n_caracteristicas, n_caracteristicas))\n",
    "        cov_pooled = np.zeros((n_caracteristicas, n_caracteristicas))\n",
    "        for c in range(n_labels):\n",
    "            X_clase = X[y==c]\n",
    "            cov[c] = np.cov(X_clase, rowvar=False)\n",
    "            cov_pooled = cov_pooled + ((X_clase.shape[0] / X.shape[0]) * cov[c])  # Matriz Sw en el libro de Webb (formula 2.15, pagina 42)\n",
    "        for c in range(n_labels):\n",
    "            X_clase = X[y==c]\n",
    "            mu = np.mean(X_clase, axis=0)\n",
    "            cov_l = (((1 - l) * X_clase.shape[0] * cov[c]) + (l * X.shape[0] * cov_pooled)) / ((1 - l) * X_clase.shape[0] + l * X.shape[0])\n",
    "            cov_lg = (1 - g) * cov_l + g * (np.trace(cov_l) / n_caracteristicas) * np.eye(n_caracteristicas)\n",
    "            det = np.linalg.det(cov_lg)\n",
    "            if det > 0:\n",
    "                cov_lg_inv = np.linalg.inv(cov_lg)\n",
    "                priori = X_clase.shape[0] / X.shape[0]\n",
    "                self.dont_ignore.append(c)\n",
    "                self.a[c] = -.5 * cov_lg_inv\n",
    "                self.b[c] = mu.T @ cov_lg_inv\n",
    "                self.c[c] = -.5 * (mu.T @ cov_lg_inv @ mu) -.5 * np.log(det) + np.log(priori)\n",
    "        return self\n",
    "\n",
    "    def decision_function(self,X):\n",
    "        \"\"\"Estima el grado de pertenencia de cada dato a todas las clases \n",
    "        X: matriz numpy cada fila es un dato, cada columna una medida del vector de caracteristicas. \n",
    "        Retorna una matriz, con tantas filas como datos y tantas columnas como clases tenga\n",
    "        el problema, cada fila almacena los valores pertenencia de un dato a cada clase\"\"\"\n",
    "        res = np.zeros((X.shape[0], len(self.labels)))\n",
    "        for c in self.dont_ignore:\n",
    "            #res[:,c] = -.5 * np.log(self.det[c]) - .5 * np.diagonal((X - self.mu[c]) @ self.cov_lg_inv[c] @ (X - self.mu[c]).T) + np.log(self.priori[c])\n",
    "            res[:,c] = np.einsum('ab,db,ad->a', X, self.a[c], X) + np.einsum('b,cb->c', self.b[c], X) + self.c[c]\n",
    "        return res\n",
    "        #return np.einsum('ab,cdb,ad->ac', X, self.a, X) + np.einsum('ab,cb->ca', self.b, X) + self.c[None,:]\n",
    "\n",
    "    def predict(self,X):\n",
    "        \"\"\"Estima la etiqueta de cada dato. La etiqueta puede ser un entero o bien un string.\n",
    "        X: matriz numpy cada fila es un dato, cada columna una medida\n",
    "        retorna un vector con las etiquetas de cada dato\"\"\"\n",
    "        return np.argmax(self.decision_function(X), axis=1)\n",
    "    \n",
    "    def num_aciertos(self,X,y):\n",
    "        \"\"\"Cuenta el numero de aciertos del clasificador para un conjunto de datos X.\n",
    "        X: matriz de datos a clasificar\n",
    "        y: vector de etiquetas correctas\"\"\"\n",
    "        return np.sum(self.predict(X)==y)\n"
   ]
  },
  {
   "cell_type": "markdown",
   "metadata": {},
   "source": [
    "#### **Clasificador estadístico bayesiano regularizado por autovectores (método de sklearn)**"
   ]
  },
  {
   "cell_type": "code",
   "execution_count": 5,
   "metadata": {
    "colab": {},
    "colab_type": "code",
    "id": "FsWqPK6l2flD"
   },
   "outputs": [],
   "source": [
    "class ClassifEstadisticoRegularizado_metodo_sklearn(Classifier, BaseEstimator):\n",
    "    \n",
    "    def __init__(self, labels=[]):\n",
    "        self.labels = labels\n",
    "        self.reg_param = 0 # hiperparametro\n",
    "        self.mu = None # Array de medias\n",
    "        self.cov = None # Array de matrices de covarianza de cada clase\n",
    "        self.prob_clases = None\n",
    "        self.ajustes = []\n",
    "        self.autovectores = []\n",
    "    \n",
    "    def fit(self, X, y, reg_param=0):\n",
    "        self.reg_param = reg_param\n",
    "        n_labels = len(self.labels)\n",
    "        n_caracteristicas = X.shape[1]\n",
    "        self.mu = np.empty((n_labels, n_caracteristicas))\n",
    "        self.cov = np.empty((n_labels, n_caracteristicas, n_caracteristicas))\n",
    "        self.prob_clases = np.empty(n_labels)\n",
    "        for c in range(len(self.labels)):\n",
    "            X_clase = X[y==c, :]\n",
    "            self.mu[c] = np.mean(X_clase, axis=0)\n",
    "            X_new = X_clase - self.mu[c]\n",
    "            # descomposicion espectral\n",
    "            _, autovalores, autovectores = np.linalg.svd(X_new, full_matrices=False)\n",
    "            ajuste = (autovalores ** 2) / (X_new.shape[0] - 1)\n",
    "            ajuste = ((1 - self.reg_param) * ajuste) + self.reg_param\n",
    "            self.cov[c] = (ajuste * autovectores.T) @ autovectores # np.dot(ajuste * autovectores.T, autovectores)\n",
    "            self.ajustes.append(np.copy(ajuste))\n",
    "            self.autovectores.append(np.copy(autovectores))\n",
    "            self.prob_clases[c] = X_clase.shape[0] / X.shape[0]\n",
    "        return self\n",
    "\n",
    "    def decision_function(self,X):\n",
    "        \"\"\"Estima el grado de pertenencia de cada dato a todas las clases \n",
    "        X: matriz numpy cada fila es un dato, cada columna una medida del vector de caracteristicas. \n",
    "        Retorna una matriz, con tantas filas como datos y tantas columnas como clases tenga\n",
    "        el problema, cada fila almacena los valores pertenencia de un dato a cada clase\"\"\"\n",
    "        res = np.empty((X.shape[0], len(self.labels)))\n",
    "        for c in range(len(self.labels)):\n",
    "            res[:,c] = np.sum(((X - self.mu[c]) @ (self.autovectores[c] * (self.ajustes[c] ** -.5)[:, None]).T) ** 2, axis=1)\n",
    "        aux = np.asarray([np.sum(np.log(x)) for x in self.ajustes])\n",
    "        return (-.5 * (res.T + aux[:, None]) + np.log(self.prob_clases)[:, None]).T\n",
    "    \n",
    "    def predict(self,X):\n",
    "        \"\"\"Estima la etiqueta de cada dato. La etiqueta puede ser un entero o bien un string.\n",
    "        X: matriz numpy cada fila es un dato, cada columna una medida\n",
    "        retorna un vector con las etiquetas de cada dato\"\"\"\n",
    "        return np.argmax(self.decision_function(X), axis=1)\n",
    "    \n",
    "    def num_aciertos(self,X,y):\n",
    "        \"\"\"Cuenta el numero de aciertos del clasificador para un conjunto de datos X.\n",
    "        X: matriz de datos a clasificar\n",
    "        y: vector de etiquetas correctas\"\"\"\n",
    "        return np.sum(self.predict(X)==y)\n"
   ]
  },
  {
   "cell_type": "markdown",
   "metadata": {},
   "source": [
    "#### **Clase Splitter para GridSearchCV**"
   ]
  },
  {
   "cell_type": "code",
   "execution_count": 6,
   "metadata": {},
   "outputs": [],
   "source": [
    "class ExclusionSplitter:\n",
    "    \"\"\"Esta clase nos permite usar GridSearchCV con la valuación por exclusion.\"\"\"\n",
    "    def __init__(self, train_indices, test_indices):\n",
    "        self.train_indices = train_indices\n",
    "        self.test_indices = test_indices\n",
    "\n",
    "    def split(self, X, y=None, groups=None):\n",
    "        return [(self.train_indices, self.test_indices)]\n",
    "\n",
    "    def get_n_splits(self, X=None, y=None, groups=None):\n",
    "        return 1\n"
   ]
  },
  {
   "cell_type": "markdown",
   "metadata": {},
   "source": [
    "#### **Implemetación de Grid Search, pero sin Cross Validation**\n",
    "La base de datos Isolet NO la podemos evaluar con CrossValidation porque cuenta con unos 8000 datos, que son demasiados para computar en un tiempo razonable. Esta función evalua el clasificador estadístico regularizado implementado por nosotros por medio de exclusión para cada combinación de hiperparámetros $\\gamma = 0.0, 0.1, 0.2, \\dots, 1.0$ y $\\lambda = 0.0, 0.1, 0.2, \\dots, 1.0$."
   ]
  },
  {
   "cell_type": "code",
   "execution_count": 7,
   "metadata": {},
   "outputs": [],
   "source": [
    "from time import time\n",
    "def GridSearchExclusion(X_train, y_train, X_test, y_test):\n",
    "    g = [0.0, 0.1, 0.2, 0.3, 0.4, 0.5, 0.6, 0.7, 0.8, 0.9, 1.0] # hiperparametro gamma (ver clasificador estadistico regularizado en la introduccion)\n",
    "    l = [0.0, 0.1, 0.2, 0.3, 0.4, 0.5, 0.6, 0.7, 0.8, 0.9, 1.0] # hiperparametro lambda (ver clasificador estadistico regularizado en la introduccion)\n",
    "    scores_exclusion = np.empty((len(g), len(l)))\n",
    "    t0 = time()\n",
    "    best_g = [0.0]\n",
    "    best_l = [0.0]\n",
    "    best_score = 0.0\n",
    "    for gi in range(len(g)):\n",
    "        for li in range(len(l)):\n",
    "            clss_est = ClassifEstadisticoRegularizado_metodo_clase(np.unique(y_train))\n",
    "            clss_est.fit(X_train, y_train, l=l[li], g=g[gi])\n",
    "            scores_exclusion[gi][li] = clss_est.score(X_test, y_test)\n",
    "            if scores_exclusion[gi][li] == best_score:\n",
    "                best_g.append(g[gi])\n",
    "                best_l.append(l[li])\n",
    "            if scores_exclusion[gi][li] > best_score:\n",
    "                best_g = [g[gi]]\n",
    "                best_l = [l[li]]\n",
    "                best_score = scores_exclusion[gi][li]\n",
    "    print(\"Finalizado en %.3fs\" % (time() - t0))\n",
    "    return scores_exclusion, best_g, best_l"
   ]
  },
  {
   "cell_type": "markdown",
   "metadata": {},
   "source": [
    "#### **Implemetación de una función que dibuja en un mapa de calor las puntuaciones dadas por** `GridSearchExclusion`"
   ]
  },
  {
   "cell_type": "code",
   "execution_count": 8,
   "metadata": {},
   "outputs": [],
   "source": [
    "import matplotlib.pyplot as plt\n",
    "def plot_scores(scores):\n",
    "    im = plt.imshow(scores, cmap='viridis', interpolation='nearest', extent=[0, 1, 1, 0])\n",
    "    plt.title(\"scores\")\n",
    "    plt.xlabel(\"lambda\")\n",
    "    plt.ylabel(\"gamma\")\n",
    "    cax = plt.axes([0.83, 0.12, 0.05, 0.76])\n",
    "    plt.colorbar(cax=cax)\n",
    "    plt.show()"
   ]
  },
  {
   "cell_type": "markdown",
   "metadata": {},
   "source": [
    "#### **Implemetación de una función que imprime las componentes y la varianza acumulada de cada una (ver Evaluación de Isolet con ACP)**"
   ]
  },
  {
   "cell_type": "code",
   "execution_count": 9,
   "metadata": {},
   "outputs": [],
   "source": [
    "def print_cumvar(autoval, n_datos, start, end):\n",
    "    # Primero se calcula la varianza que proporciona cada componente\n",
    "    var_autoval = (autoval ** 2) / (X_train.shape[0] - 1)\n",
    "    # Se calcula el ratio en funcion del total que la varianza de cada componente proporciona \n",
    "    var_ratio = var_autoval / np.sum(var_autoval)\n",
    "    # Se obtienen las varianzas acumuladas por cada componente\n",
    "    cum_var = np.cumsum(var_ratio)\n",
    "    # Visualizar las varianzas cumulativas correspondientes a las componentes principales del intervalo [start, end]\n",
    "    index=0\n",
    "    for e in range(start-1, end):\n",
    "        print(\"\\t\", \"%3d\" % (e+1), \": \", \"%.6f\" % cum_var[e], sep='', end='')\n",
    "        index = index + 1\n",
    "        if index % 9 == 0:\n",
    "            print()"
   ]
  },
  {
   "cell_type": "code",
   "execution_count": 10,
   "metadata": {},
   "outputs": [],
   "source": [
    "def print_scores_copy_paste(scores):\n",
    "    print('[', end='')\n",
    "    for q1 in scores:\n",
    "        print('[', end='')\n",
    "        for q2 in q1:\n",
    "            print(\"%.6f, \" % q2, end='')\n",
    "        print('],')\n",
    "    print(']')"
   ]
  },
  {
   "cell_type": "markdown",
   "metadata": {
    "colab_type": "text",
    "id": "T0U0Awu0X01F"
   },
   "source": [
    "# **Entrenamiento, predicción y evaluación de iris, wine y cancer**\n",
    "A continuación se realizan las pruebas correspondientes con las bases de datos iris, wine y cancer con el clasificador estadístico y el clasificador de la distancia euclídea. Al final se incluye una tabla resumen con los resultados. Por cada clasificador y base de datos se imprime el resultado obtenido por el clasificador equivalente de sklearn, con el fin de verificar los resultados."
   ]
  },
  {
   "cell_type": "code",
   "execution_count": 11,
   "metadata": {},
   "outputs": [
    {
     "name": "stdout",
     "output_type": "stream",
     "text": [
      "iris: datos: (150, 4) n_clases: 3\n",
      "\tclase 0:\t50 datos\n",
      "\tclase 1:\t50 datos\n",
      "\tclase 2:\t50 datos\n",
      "wine: datos: (178, 13) n_clases: 3\n",
      "\tclase 0:\t59 datos\n",
      "\tclase 1:\t71 datos\n",
      "\tclase 2:\t48 datos\n",
      "cancer: datos: (569, 30) n_clases: 2\n",
      "\tclase 0:\t212 datos\n",
      "\tclase 1:\t357 datos\n"
     ]
    }
   ],
   "source": [
    "from sklearn.datasets import load_iris, load_wine, load_breast_cancer\n",
    "from sklearn.neighbors import NearestCentroid\n",
    "from sklearn.discriminant_analysis import QuadraticDiscriminantAnalysis\n",
    "from sklearn.model_selection import cross_val_score\n",
    "# Load data\n",
    "dataset_iris = load_iris()\n",
    "X_iris = dataset_iris.data\n",
    "y_iris = dataset_iris.target\n",
    "dataset_wine = load_wine()\n",
    "X_wine = dataset_wine.data\n",
    "y_wine = dataset_wine.target\n",
    "dataset_cancer = load_breast_cancer()\n",
    "X_cancer = dataset_cancer.data\n",
    "y_cancer = dataset_cancer.target\n",
    "print(\"iris: datos:\", X_iris.shape, \"n_clases:\", len(np.unique(y_iris)))\n",
    "for e in np.unique(y_iris):\n",
    "    print(\"\\tclase %d:\\t%d datos\" % (e, X_iris[y_iris==e].shape[0]))\n",
    "print(\"wine: datos:\", X_wine.shape, \"n_clases:\", len(np.unique(y_wine)))\n",
    "for e in np.unique(y_wine):\n",
    "    print(\"\\tclase %d:\\t%d datos\" % (e, X_wine[y_wine==e].shape[0]))\n",
    "print(\"cancer: datos:\", X_cancer.shape, \"n_clases:\", len(np.unique(y_cancer)))\n",
    "for e in np.unique(y_cancer):\n",
    "    print(\"\\tclase %d:\\t%d datos\" % (e, X_cancer[y_cancer==e].shape[0]))"
   ]
  },
  {
   "cell_type": "markdown",
   "metadata": {},
   "source": [
    "#### **Clasificador de la distancia euclídea**"
   ]
  },
  {
   "cell_type": "markdown",
   "metadata": {},
   "source": [
    "##### Base de datos **iris**"
   ]
  },
  {
   "cell_type": "code",
   "execution_count": 12,
   "metadata": {},
   "outputs": [
    {
     "name": "stdout",
     "output_type": "stream",
     "text": [
      "\tiris:   Aciertos: 139/150 (92.67%)\n",
      "\t\tEvaluación por resustitución: 0.9267\n",
      "\t\tEvaluación por validación cruzada: 0.9133, std: 0.0499\n",
      "\t\tClasificador sklearn: 139 aciertos\n"
     ]
    }
   ],
   "source": [
    "# Nuestro clasificador\n",
    "clsf_euc = ClassifEuclid(dataset_iris.target_names)\n",
    "clsf_euc.fit(np.array(X_iris), y_iris)\n",
    "n_aciertos = clsf_euc.num_aciertos(X_iris, y_iris)\n",
    "print(\"\\tiris:   Aciertos: \", n_aciertos, \"/\", len(y_iris), \" (\", \"%.2f\" % ((n_aciertos / len(y_iris))*100), \"%)\", sep='')\n",
    "# Evaluación por resustitución y validación cruzada\n",
    "print(\"\\t\\tEvaluación por resustitución:\", \"%.4f\" % clsf_euc.score(X_iris, y_iris))\n",
    "scores = cross_val_score(clsf_euc, X_iris, y_iris, cv=5)\n",
    "print(\"\\t\\tEvaluación por validación cruzada: \", \"%.4f\" % np.mean(scores), \", std: \", \"%.4f\" % np.std(scores), sep='')\n",
    "# Comparación con el clasificador de sklearn\n",
    "nc = NearestCentroid().fit(X_iris, y_iris)\n",
    "print(\"\\t\\t\", \"Clasificador sklearn: \", np.sum(nc.predict(X_iris)==y_iris), \" aciertos\", sep='')"
   ]
  },
  {
   "cell_type": "markdown",
   "metadata": {},
   "source": [
    "##### Base de datos **wine**"
   ]
  },
  {
   "cell_type": "code",
   "execution_count": 13,
   "metadata": {},
   "outputs": [
    {
     "name": "stdout",
     "output_type": "stream",
     "text": [
      "\twine:   Aciertos: 129/178 (72.47%)\n",
      "\t\tEvaluación por resustitución: 0.7247\n",
      "\t\tEvaluación por validación cruzada: 0.7187, std: 0.0804\n",
      "\t\tClasificador sklearn: 129 aciertos\n"
     ]
    }
   ],
   "source": [
    "# Nuestro clasificador\n",
    "clsf_euc = ClassifEuclid(dataset_wine.target_names)\n",
    "clsf_euc.fit(np.array(X_wine), y_wine)\n",
    "n_aciertos = clsf_euc.num_aciertos(X_wine, y_wine)\n",
    "print(\"\\twine:   Aciertos: \", n_aciertos, \"/\", len(y_wine), \" (\", \"%.2f\" % ((n_aciertos / len(y_wine))*100), \"%)\", sep='')\n",
    "# Evaluación por resustitución y validación cruzada\n",
    "print(\"\\t\\tEvaluación por resustitución:\", \"%.4f\" % clsf_euc.score(X_wine, y_wine))\n",
    "scores = cross_val_score(clsf_euc, X_wine, y_wine, cv=5)\n",
    "print(\"\\t\\tEvaluación por validación cruzada: \", \"%.4f\" % np.mean(scores), \", std: \", \"%.4f\" % np.std(scores), sep='')\n",
    "# Comparación con el clasificador de sklearn\n",
    "nc = NearestCentroid().fit(X_wine, y_wine)\n",
    "print(\"\\t\\t\", \"Clasificador sklearn: \", np.sum(nc.predict(X_wine)==y_wine), \" aciertos\", sep='')"
   ]
  },
  {
   "cell_type": "markdown",
   "metadata": {},
   "source": [
    "##### Base de datos **cancer**"
   ]
  },
  {
   "cell_type": "code",
   "execution_count": 14,
   "metadata": {
    "colab": {},
    "colab_type": "code",
    "id": "xasWFNlhX85L",
    "tags": []
   },
   "outputs": [
    {
     "name": "stdout",
     "output_type": "stream",
     "text": [
      "\tcancer: Aciertos: 507/569 (89.10%)\n",
      "\t\tEvaluación por resustitución: 0.8910\n",
      "\t\tEvaluación por validación cruzada: 0.8841, std: 0.0840\n",
      "\t\tClasificador sklearn: 507 aciertos\n"
     ]
    }
   ],
   "source": [
    "# Nuestro clasificador\n",
    "clsf_euc = ClassifEuclid(dataset_cancer.target_names)\n",
    "clsf_euc.fit(np.array(X_cancer), y_cancer)\n",
    "n_aciertos = clsf_euc.num_aciertos(X_cancer, y_cancer)\n",
    "print(\"\\tcancer: Aciertos: \", n_aciertos, \"/\", len(y_cancer), \" (\", \"%.2f\" % ((n_aciertos / len(y_cancer))*100), \"%)\", sep='')\n",
    "# Evaluación por resustitución y validación cruzada\n",
    "print(\"\\t\\tEvaluación por resustitución:\", \"%.4f\" % clsf_euc.score(X_cancer, y_cancer))\n",
    "scores = cross_val_score(clsf_euc, X_cancer, y_cancer, cv=5)\n",
    "print(\"\\t\\tEvaluación por validación cruzada: \", \"%.4f\" % np.mean(scores), \", std: \", \"%.4f\" % np.std(scores), sep='')\n",
    "# Comparación con el clasificador de sklearn\n",
    "nc = NearestCentroid().fit(X_cancer, y_cancer)\n",
    "print(\"\\t\\t\", \"Clasificador sklearn: \", np.sum(nc.predict(X_cancer)==y_cancer), \" aciertos\", sep='')"
   ]
  },
  {
   "cell_type": "markdown",
   "metadata": {},
   "source": [
    "#### **Clasificador estadístico bayesiano**"
   ]
  },
  {
   "cell_type": "markdown",
   "metadata": {},
   "source": [
    "##### Base de datos **iris**"
   ]
  },
  {
   "cell_type": "code",
   "execution_count": 15,
   "metadata": {},
   "outputs": [
    {
     "name": "stdout",
     "output_type": "stream",
     "text": [
      "\tiris:   Aciertos: 147/150 (98.00%)\n",
      "\t\tEvaluación por resustitución: 0.9800\n",
      "\t\tEvaluación por validación cruzada: 0.9600, std: 0.0646\n",
      "\t\tClasificador sklearn: 147 aciertos\n"
     ]
    }
   ],
   "source": [
    "# Nuestro clasificador\n",
    "clsf_est = ClassifEstadistico(dataset_iris.target_names)\n",
    "clsf_est.fit(np.array(X_iris), y_iris)\n",
    "n_aciertos = clsf_est.num_aciertos(X_iris, y_iris)\n",
    "print(\"\\tiris:   Aciertos: \", n_aciertos, \"/\", len(y_iris), \" (\", \"%.2f\" % ((n_aciertos / len(y_iris))*100), \"%)\", sep='')\n",
    "# Evaluación por resustitución y validación cruzada\n",
    "print(\"\\t\\tEvaluación por resustitución:\", \"%.4f\" % clsf_est.score(X_iris, y_iris))\n",
    "scores = cross_val_score(clsf_est, X_iris, y_iris, cv=5)\n",
    "print(\"\\t\\tEvaluación por validación cruzada: \", \"%.4f\" % np.mean(scores), \", std: \", \"%.4f\" % np.std(scores), sep='')\n",
    "# Comparación con el clasificador de sklearn\n",
    "nc = QuadraticDiscriminantAnalysis().fit(X_iris, y_iris)\n",
    "print(\"\\t\\t\", \"Clasificador sklearn: \", np.sum(nc.predict(X_iris)==y_iris), \" aciertos\", sep='')"
   ]
  },
  {
   "cell_type": "markdown",
   "metadata": {},
   "source": [
    "##### Base de datos **wine**"
   ]
  },
  {
   "cell_type": "code",
   "execution_count": 16,
   "metadata": {},
   "outputs": [
    {
     "name": "stdout",
     "output_type": "stream",
     "text": [
      "\twine:   Aciertos: 177/178 (99.44%)\n",
      "\t\tEvaluación por resustitución: 0.9944\n",
      "\t\tEvaluación por validación cruzada: 0.7108, std: 0.3660\n",
      "\t\tClasificador sklearn: 177 aciertos\n"
     ]
    }
   ],
   "source": [
    "# Nuestro clasificador\n",
    "clsf_est = ClassifEstadistico(dataset_wine.target_names)\n",
    "clsf_est.fit(np.array(X_wine), y_wine)\n",
    "n_aciertos = clsf_est.num_aciertos(X_wine, y_wine)\n",
    "print(\"\\twine:   Aciertos: \", n_aciertos, \"/\", len(y_wine), \" (\", \"%.2f\" % ((n_aciertos / len(y_wine))*100), \"%)\", sep='')\n",
    "# Evaluación por resustitución y validación cruzada\n",
    "print(\"\\t\\tEvaluación por resustitución:\", \"%.4f\" % clsf_est.score(X_wine, y_wine))\n",
    "scores = cross_val_score(clsf_est, X_wine, y_wine, cv=5)\n",
    "print(\"\\t\\tEvaluación por validación cruzada: \", \"%.4f\" % np.mean(scores), \", std: \", \"%.4f\" % np.std(scores), sep='')\n",
    "# Comparación con el clasificador de sklearn\n",
    "nc = QuadraticDiscriminantAnalysis().fit(X_wine, y_wine)\n",
    "print(\"\\t\\t\", \"Clasificador sklearn: \", np.sum(nc.predict(X_wine)==y_wine), \" aciertos\", sep='')"
   ]
  },
  {
   "cell_type": "markdown",
   "metadata": {},
   "source": [
    "##### Base de datos **cancer**"
   ]
  },
  {
   "cell_type": "code",
   "execution_count": 17,
   "metadata": {},
   "outputs": [
    {
     "name": "stdout",
     "output_type": "stream",
     "text": [
      "\tcancer: Aciertos: 554/569 (97.36%)\n",
      "\t\tEvaluación por resustitución: 0.9736\n",
      "\t\tEvaluación por validación cruzada: 0.9613, std: 0.0090\n",
      "\t\tClasificador sklearn: 554 aciertos\n"
     ]
    }
   ],
   "source": [
    "# Nuestro clasificador\n",
    "clsf_est = ClassifEstadistico(dataset_cancer.target_names)\n",
    "clsf_est.fit(np.array(X_cancer), y_cancer)\n",
    "n_aciertos = clsf_est.num_aciertos(X_cancer, y_cancer)\n",
    "print(\"\\tcancer: Aciertos: \", n_aciertos, \"/\", len(y_cancer), \" (\", \"%.2f\" % ((n_aciertos / len(y_cancer))*100), \"%)\", sep='')\n",
    "# Evaluación por resustitución y validación cruzada\n",
    "print(\"\\t\\tEvaluación por resustitución:\", \"%.4f\" % clsf_est.score(X_cancer, y_cancer))\n",
    "scores = cross_val_score(clsf_est, X_cancer, y_cancer, cv=5)\n",
    "print(\"\\t\\tEvaluación por validación cruzada: \", \"%.4f\" % np.mean(scores), \", std: \", \"%.4f\" % np.std(scores), sep='')\n",
    "# Comparación con el clasificador de sklearn\n",
    "nc = QuadraticDiscriminantAnalysis().fit(X_cancer, y_cancer)\n",
    "print(\"\\t\\t\", \"Clasificador sklearn: \", np.sum(nc.predict(X_cancer)==y_cancer), \" aciertos\", sep='')"
   ]
  },
  {
   "cell_type": "markdown",
   "metadata": {},
   "source": [
    "### **Resumen de resultados**"
   ]
  },
  {
   "cell_type": "markdown",
   "metadata": {
    "tags": []
   },
   "source": [
    "Resultados de los tres experimentos (**clasificador distancia euclídea**):\n",
    "\n",
    "| Base de datos | Acierto resustitucion | Acierto validacion cruzada |\n",
    "| --- | --- | --- |\n",
    "| Iris   | 0.9267 | 0.9133 |\n",
    "| Wine   | 0.7247 | 0.7187 |\n",
    "| Cancer | 0.8910 | 0.8841 |\n",
    "\n",
    "Resultados de los tres experimentos (**clasificador estadístico**):\n",
    "\n",
    "| Base de datos | Acierto resustitucion | Acierto validacion cruzada |\n",
    "| --- | --- | --- |\n",
    "| Iris   | 0.9800 | 0.9600 |\n",
    "| Wine   | 0.9944 | 0.7108 |\n",
    "| Cancer | 0.9736 | 0.9613 |\n",
    "\n",
    "Dimensiones de las bases de datos:\n",
    "\n",
    "| Base de datos | Número de clases | Número de datos | Dimension de cada dato |\n",
    "| --- | --- | --- | --- |\n",
    "| Iris   | 3 | 150 | 4 |\n",
    "| Wine   | 3 | 178 | 13 |\n",
    "| Cancer | 2 | 569 | 30 |\n",
    "\n",
    "Como se puede observar, el clasificador estadístico tiene mejor tasa de aciertos con iris y cancer, comparado con el de la distancia euclídea. Esto se debe a que las clases no están muy separadas y la dispersión dentro de cada clase es alta. Es decir, el Ratio de Fisher es bajo. El clasificador estadístico funciona mejor en estas situaciones porque la frontera de indecisión del clasificador estadístico entre dos clases se puede adaptar más que la del clasificador de la distancia euclídea. En el clasificador de la distancia euclídea, las fronteras de indecisión siempre son puntos (en una dimensión), rectas (en dos dimensiones), planos (en tres dimensiones), hiperplanos (en cuatro dimensiones), etc. En el caso del clasificador estadístico, si las clases tienen la misma matriz de covarianzas, las fronteras de indecisión son iguales que en el de la distancia euclídea. Pero si las clases tienen distintas matrices de covarianzas, entonces las fronteras de indecisión pueden tomar formas curvadas que se adaptan mejor a la distribución de las clases.\n",
    "\n",
    "En el caso de la base de datos iris, vemos que el clasificador de la distancia euclídea funciona relativamente bien. Esto se debe a que las clases son muy separables, el Ratio de Fisher es muy alto (cuando este clasificador da mejores resultados). Tanto wine como cancer no tienen las clases lo suficientemente separadas como para que el clasificador de la distancia euclídea de muy buenos resultados. La separabilidad entre las clases se puede compensar con el clasificador estadístico, que da mejores tasas de aciertos en las bases de datos iris y cancer.\n",
    "\n",
    "La base de datos wine presenta 178 datos con 13 características. El motivo por el que da peores resultados es porque se da el fenómeno de *underfitting*. Se proporcionan pocos datos comparados con el número de dimensiones, por lo que el sesgo es muy alto.\n",
    "\n",
    "***\n"
   ]
  },
  {
   "cell_type": "markdown",
   "metadata": {},
   "source": [
    "# **Entrenamiento y evaluación de Isolet**"
   ]
  },
  {
   "cell_type": "code",
   "execution_count": 26,
   "metadata": {},
   "outputs": [],
   "source": [
    "import pandas as pd\n",
    "import os.path\n",
    "from sklearn.datasets import fetch_openml\n",
    "\n",
    "# Si existe la base de datos, cargo las variables\n",
    "if os.path.exists(\"isolet_X.pickle\"):\n",
    "    X = pd.read_pickle('isolet_X.pickle')\n",
    "    y = pd.read_pickle('isolet_y.pickle')\n",
    "else:\n",
    "    # Cargamos desde internet ( https://www.openml.org ) y la guardamos en el directorio local\n",
    "    X, y = fetch_openml('isolet', version=1, return_X_y=True, cache=False)\n",
    "    # Guardamos los datos para no volver a descargarlos\n",
    "    X.to_pickle(\"isolet_X.pickle\")\n",
    "    y.to_pickle(\"isolet_y.pickle\")\n",
    "\n",
    "X_train = np.array(X[:6238])\n",
    "y_train = pd.factorize(y)[0][:6238]\n",
    "X_test = np.array(X[6238:])\n",
    "y_test = pd.factorize(y)[0][6238:]\n",
    "\n",
    "X = np.array(X)\n",
    "y = pd.factorize(y)[0]\n"
   ]
  },
  {
   "cell_type": "code",
   "execution_count": 27,
   "metadata": {},
   "outputs": [
    {
     "name": "stderr",
     "output_type": "stream",
     "text": [
      "c:\\users\\jan\\appdata\\local\\programs\\python\\python39\\lib\\site-packages\\sklearn\\discriminant_analysis.py:873: UserWarning: Variables are collinear\n",
      "  warnings.warn(\"Variables are collinear\")\n"
     ]
    },
    {
     "name": "stdout",
     "output_type": "stream",
     "text": [
      "isolet: datos: (7797, 617) n_clases: 26\n",
      "\tClasificador distancia euclídea:\n",
      "\t\tEvaluación por resustitución:\t 0.8809\n",
      "\t\tEvaluación por exclusión:\t 0.8743\n",
      "\tClasificador estadístico regularizado con el método de clase:\n",
      "\t\tEvaluación por resustitución:\t 0.0384738698\n",
      "\t\tEvaluación por exclusión:\t 0.0384862091\n",
      "\tClasificador estadístico regularizado con el método de sklearn:\n",
      "\t\tEvaluación por resustitución:\t 1.0000\n",
      "\t\tEvaluación por exclusión:\t 0.0648\n",
      "\tClasificador estadístico de sklearn:\n",
      "\t\tEvaluación por resustitución:\t 1.0000\n",
      "\t\tEvaluación por exclusión:\t 0.0648\n"
     ]
    }
   ],
   "source": [
    "# Clasificador distancia euclidea\n",
    "clss_euc = ClassifEuclid(np.unique(y_train))\n",
    "clss_euc.fit(X_train, y_train)\n",
    "# Clasificador estadístico regularizado con el metodo de clase\n",
    "clss_est_mc = ClassifEstadisticoRegularizado_metodo_clase(np.unique(y_train))\n",
    "clss_est_mc.fit(X_train, y_train)\n",
    "# Clasificador estadístico regularizado con el metodo de sklearn\n",
    "clss_est_msk = ClassifEstadisticoRegularizado_metodo_sklearn(np.unique(y_train))\n",
    "clss_est_msk.fit(X_train, y_train)\n",
    "# Clasificador estadístico de sklearn\n",
    "clss_est_sk = QuadraticDiscriminantAnalysis()\n",
    "clss_est_sk.fit(X_train, y_train)\n",
    "\n",
    "print(\"isolet: datos:\", X.shape, \"n_clases:\", len(np.unique(y)))\n",
    "\n",
    "print(\"\\tClasificador distancia euclídea:\")\n",
    "print(\"\\t\\tEvaluación por resustitución:\\t\", \"%.4f\" % clss_euc.score(X_train, y_train))\n",
    "print(\"\\t\\tEvaluación por exclusión:\\t\", \"%.4f\" % clss_euc.score(X_test, y_test))\n",
    "print(\"\\tClasificador estadístico regularizado con el método de clase:\")\n",
    "print(\"\\t\\tEvaluación por resustitución:\\t\", \"%.10f\" % clss_est_mc.score(X_train, y_train))\n",
    "print(\"\\t\\tEvaluación por exclusión:\\t\", \"%.10f\" % clss_est_mc.score(X_test, y_test))\n",
    "print(\"\\tClasificador estadístico regularizado con el método de sklearn:\")\n",
    "print(\"\\t\\tEvaluación por resustitución:\\t\", \"%.4f\" % clss_est_msk.score(X_train, y_train))\n",
    "print(\"\\t\\tEvaluación por exclusión:\\t\", \"%.4f\" % clss_est_msk.score(X_test, y_test))\n",
    "print(\"\\tClasificador estadístico de sklearn:\")\n",
    "print(\"\\t\\tEvaluación por resustitución:\\t\", \"%.4f\" % clss_est_sk.score(X_train, y_train))\n",
    "print(\"\\t\\tEvaluación por exclusión:\\t\", \"%.4f\" % clss_est_sk.score(X_test, y_test))"
   ]
  },
  {
   "cell_type": "markdown",
   "metadata": {},
   "source": [
    "### **Resumen de resultados**\n",
    "\n",
    "| Clasificador | Acierto resustitucion | Acierto exclusion |\n",
    "| --- | --- | --- |\n",
    "| distancia euclídea   | 0.8809 | 0.8743 |\n",
    "| estadístico regularizado (metodo_clase)   | 0.038473 | 0.038486 |\n",
    "| estadístico regularizado (metodo_sklearn) | 1.0000 | 0.0648 |\n",
    "| estadístico de sklearn |  1.0000 | 0.0648 |\n"
   ]
  },
  {
   "cell_type": "markdown",
   "metadata": {},
   "source": [
    "#### **Comentarios sobre los resultados**"
   ]
  },
  {
   "cell_type": "markdown",
   "metadata": {},
   "source": [
    "Observando la tabla vemos que los resultados obtenidos por el clasificador de la distancia euclídea son decentes, mientras que los resultados obtenidos por los clasificadores estadísticos son pésimos., excepto en la evaluación por resustitución. Esto se debe a que el clasificador memoriza todos los datos. Los resultados de las pruebas por exclusión se deben a que la mayoría de las dimensiones de los datos no proporcionan información adicional (son variables colineares). Es por esto por lo que es imposible hallar la inversa de la matriz de covarianzas, que provoca que estos datos sean \"memorizados\" por el clasificador, causando un alto grado de *overfitting* como se puede ver por su alta tasa de aciertos en el conjunto de entrenamiento y su pésimo desempeño en el conjunto de test. Sin embargo esto no sucede con el euclideo puesto que no tiene en cuenta el factor de la dispersion de los datos y por tanto tampoco la independencia lineal de los vectores de la matriz de covarianza.\n",
    "\n",
    "El motivo por el que nuestra implementación da malos resultados en ambos tipos de evaluación es por lo que se explicó en la introducción. No se tienen en cuenta las clases cuyas matrices de covarianza sean singulares. Nuestra implementación sólo da buenos resultados con la combinación idónea de hiperparámetros, que en este caso son los valores por defecto ($\\lambda=0.0$ y $\\gamma=0.0$)."
   ]
  },
  {
   "cell_type": "markdown",
   "metadata": {},
   "source": [
    "### **Evaluación de Isolet con hiperparámetros**\n",
    "\n",
    "Ahora vamos a entrenar y evaluar el clasificador estadístico regularizado de sklearn con la base de datos Isolet. El motivo por el que empleamos el de sklearn y no nuestra implementación es porque el nuestro no está adaptado para ejecutar GridSearchCV. Más adelante se evalúa nuestra implementación con los hiperparámetros correspondientes."
   ]
  },
  {
   "cell_type": "code",
   "execution_count": 28,
   "metadata": {},
   "outputs": [],
   "source": [
    "from sklearn.model_selection import GridSearchCV\n",
    "\n",
    "# Funcion que evalua el clasificador con cada uno de los hiperparametros\n",
    "def find_best_parameters_quad(X, y, k, shrinkages):\n",
    "    # Creamos una instancia del clasificador\n",
    "    cbp = QuadraticDiscriminantAnalysis()\n",
    "    # definimos la rejilla en la que vamos a buscar\n",
    "    params = {'reg_param': shrinkages}\n",
    "    # Creamos una clase GridSearchCV que será una especie de supra-clasificador\n",
    "    # que se ajusta por validación cruzada.\n",
    "    clf = GridSearchCV(cbp, params, n_jobs=-1, scoring='accuracy', cv=k).fit(X, y)\n",
    "    # Como supra-clasificador que es, clf contiene todo tipo de datos sobre la evaluación\n",
    "    # por validación cruzada. Vamos a obtener en este caso el clasificador con mejor 'accuracy'\n",
    "    best_clf = clf.best_estimator_\n",
    "    # clf.cv_results_ contiene los resultados de la evaluación, obtengamos la media y\n",
    "    # desviación típica del score de validación\n",
    "    result_score_mean = clf.cv_results_['mean_test_score'][clf.best_index_]\n",
    "    result_score_std = clf.cv_results_['std_test_score'][clf.best_index_]\n",
    "    # print(\"Srinkage scores: \", clf.cv_results_['mean_test_score'])\n",
    "\n",
    "    # Imprimamos los mejores parametro que hemos encontrado y el resultado de su validación\n",
    "    print(\"\\tSelected shrinkage = {}\\n\" \\\n",
    "          \"\\tAccuracy: {:.3f} (+/- {:.3f})\".format(best_clf.reg_param, result_score_mean, result_score_std))\n",
    "    return best_clf\n"
   ]
  },
  {
   "cell_type": "markdown",
   "metadata": {},
   "source": [
    "Buscar un hiperparámetro lo suficientemente bueno.\n",
    "Primero se prueba con 0.0, 0.1, 0.2, ..., 1.0"
   ]
  },
  {
   "cell_type": "code",
   "execution_count": 29,
   "metadata": {},
   "outputs": [
    {
     "name": "stderr",
     "output_type": "stream",
     "text": [
      "c:\\users\\jan\\appdata\\local\\programs\\python\\python39\\lib\\site-packages\\sklearn\\discriminant_analysis.py:873: UserWarning: Variables are collinear\n",
      "  warnings.warn(\"Variables are collinear\")\n"
     ]
    },
    {
     "name": "stdout",
     "output_type": "stream",
     "text": [
      "\tSelected shrinkage = 0.2\n",
      "\tAccuracy: 0.956 (+/- 0.000)\n"
     ]
    }
   ],
   "source": [
    "# primero probar con 0.0, 0.1, 0.2, ..., 1.0\n",
    "h = [i/10 for i in range(11)]\n",
    "clf = find_best_parameters_quad(X, y, ExclusionSplitter(np.arange(0, len(X_train)), np.arange(len(X_train), len(X_train) + len(X_test))), h)\n",
    "# El mejor hiperparámetro es 0.2"
   ]
  },
  {
   "cell_type": "markdown",
   "metadata": {},
   "source": [
    "El mejor de la lista anterior es 0.2, ahora se probarán los cercanos a 0.2: 0.10, 0.11, ..., 0.30"
   ]
  },
  {
   "cell_type": "code",
   "execution_count": 30,
   "metadata": {},
   "outputs": [
    {
     "name": "stderr",
     "output_type": "stream",
     "text": [
      "c:\\users\\jan\\appdata\\local\\programs\\python\\python39\\lib\\site-packages\\sklearn\\discriminant_analysis.py:873: UserWarning: Variables are collinear\n",
      "  warnings.warn(\"Variables are collinear\")\n"
     ]
    },
    {
     "name": "stdout",
     "output_type": "stream",
     "text": [
      "\tSelected shrinkage = 0.23\n",
      "\tAccuracy: 0.956 (+/- 0.000)\n"
     ]
    }
   ],
   "source": [
    "# Probar con 0.10, 0.11, ..., 0.30\n",
    "h = [i/100 for i in range(10, 30)]\n",
    "clf = find_best_parameters_quad(X, y, ExclusionSplitter(np.arange(0, len(X_train)), np.arange(len(X_train), len(X_train) + len(X_test))), h)\n",
    "# El mejor hiperparámetro es 0.23"
   ]
  },
  {
   "cell_type": "markdown",
   "metadata": {},
   "source": [
    "El mejor de la lista anterior es 0.23, ahora se probarán los cercanos a 0.23: 0.220, 0.221, 0.222, ..., 0.239"
   ]
  },
  {
   "cell_type": "code",
   "execution_count": 31,
   "metadata": {},
   "outputs": [
    {
     "name": "stderr",
     "output_type": "stream",
     "text": [
      "c:\\users\\jan\\appdata\\local\\programs\\python\\python39\\lib\\site-packages\\sklearn\\discriminant_analysis.py:873: UserWarning: Variables are collinear\n",
      "  warnings.warn(\"Variables are collinear\")\n"
     ]
    },
    {
     "name": "stdout",
     "output_type": "stream",
     "text": [
      "\tSelected shrinkage = 0.23\n",
      "\tAccuracy: 0.956 (+/- 0.000)\n"
     ]
    }
   ],
   "source": [
    "# Probar con 0.220, 0.221, 0.222, ..., 0.239\n",
    "h = [i/1000 for i in range(220, 240)]\n",
    "clf = find_best_parameters_quad(X, y, ExclusionSplitter(np.arange(0, len(X_train)), np.arange(len(X_train), len(X_train) + len(X_test))), h)\n",
    "# El mejor hiperparámetro es 0.23"
   ]
  },
  {
   "cell_type": "markdown",
   "metadata": {},
   "source": [
    "El mejor hiperparámetro que hemos encontrado (para el clasificador de sklearn) es 0.23, que proporciona una tasa de aciertos del 95,6%."
   ]
  },
  {
   "cell_type": "markdown",
   "metadata": {},
   "source": [
    "### **Evaluación de Isolet** tras hacer un **Análisis de Componentes Principales**"
   ]
  },
  {
   "cell_type": "markdown",
   "metadata": {},
   "source": [
    "Ver sección de **Análisis de Componentes Principales** de la introducción. Se toma como base el hiperparámetro que indica número de componentes principales que seleccionamos. Este hiperparámetro indica el número de columnas que tendrá la matriz de proyección $A$. En el siguiente fragmento de código se toma como estimación base que $k=100$.\n",
    "\n",
    "En esta sección se prueba nuestra implementación del clasificador estadístico con todas las combinaciones de hiperparámetros $\\gamma$ y $\\lambda$ de la lista 0.0, 0.1, 0.2, ..., 1.0. No se prueba con listas más extensas porque tardaría demasiado en ejecutar. Tampoco se evalua con GridSearchCV por el mismo motivo. Se emplea la función `GridSearchExclusion`, definida en la parte de implementaciones, que evalúa por exclusión el clasificador estadístico regularizado (método de clase) con cada combinación de hiperparámetros $\\lambda$ y $\\gamma$."
   ]
  },
  {
   "cell_type": "code",
   "execution_count": 32,
   "metadata": {},
   "outputs": [
    {
     "name": "stdout",
     "output_type": "stream",
     "text": [
      "X_train_final: (6238, 100)\n",
      "X_test_final: (1559, 100)\n"
     ]
    }
   ],
   "source": [
    "# Paso 0: seleccionar el número de componentes principales\n",
    "n_componentes = 100 # hiperparámetro\n",
    "\n",
    "# Paso 1: calcular la media del conjunto de datos de entrenamiento\n",
    "X_train_mean = np.mean(X_train, axis=0)\n",
    "\n",
    "# Paso 2: estandarizar el conjunto de datos de entrenamiento\n",
    "X_norm = X_train - X_train_mean\n",
    "\n",
    "# Paso 3: calcular la nueva matriz de covarianzas del conjunto de datos estandarizados\n",
    "X_train_cov = np.cov(X_norm, rowvar=False)\n",
    "\n",
    "# Paso 4: calcular la descomposición espectral de la matriz de covarianzas\n",
    "u, autoval, autovec = np.linalg.svd(X_train_cov, full_matrices=False) # tarda 68.246s\n",
    "\n",
    "# Paso 5: construir la matriz de proyección A seleccionando las n_componentes componentes principales\n",
    "A = autovec[:n_componentes]\n",
    "\n",
    "# Paso 6: proyectar el conjunto de datos de entrenamiento estandarizado sobre el nuevo espacio\n",
    "X_train_final = (A @ X_norm.T).T\n",
    "\n",
    "# Paso 7: proyectar el conjunto de datos de test sobre el nuevo espacio:\n",
    "X_test_final = (A @ (X_test - np.mean(X_test, axis=0)).T).T\n",
    "\n",
    "print(\"X_train_final:\", X_train_final.shape)\n",
    "print(\"X_test_final:\", X_test_final.shape)"
   ]
  },
  {
   "cell_type": "markdown",
   "metadata": {},
   "source": [
    "En este punto tenemos `X_train_final` y `X_test_final` (ambos con 100 componentes), proyectado sobre el nuevo espacio. Ahora hay que entrenar el clasificador y evaluarlo con los nuevos datos."
   ]
  },
  {
   "cell_type": "code",
   "execution_count": 33,
   "metadata": {},
   "outputs": [
    {
     "name": "stdout",
     "output_type": "stream",
     "text": [
      "max_score exclusion:\t\t0.9660\n",
      "best hyperparams:\n",
      "\tgamma: 0.1 lambda: 0.1\n",
      "\tgamma: 0.5 lambda: 0.0\n"
     ]
    }
   ],
   "source": [
    "# Paso 8: entrenar el clasificador y evaluarlo para cada combinación de lambda y gamma\n",
    "\n",
    "# IMPORTANTE: el siguiente fragmento de codigo tarda en ejecutar unos 38 segundos.\n",
    "#             Los resultados se han precalculado y están guardados en scores_exclusion\n",
    "#             por si no se quiere ejecutar esta parte.\n",
    "\n",
    "scores_exclusion = np.array([[0.910199, 0.962155, 0.958307, 0.953175, 0.947402, 0.944836, 0.944195, 0.941629, 0.939064, 0.939064, 0.939064],\n",
    "                            [0.951251, 0.966004, 0.959589, 0.951892, 0.949326, 0.948685, 0.946119, 0.943554, 0.942912, 0.939705, 0.938422],\n",
    "                            [0.959589, 0.964721, 0.957024, 0.952534, 0.948685, 0.946761, 0.944195, 0.939705, 0.937139, 0.937139, 0.935856],\n",
    "                            [0.961514, 0.962155, 0.954458, 0.949326, 0.945478, 0.942271, 0.940346, 0.939064, 0.937139, 0.936498, 0.936498],\n",
    "                            [0.965362, 0.957665, 0.953175, 0.948044, 0.944836, 0.942271, 0.941629, 0.939064, 0.936498, 0.934573, 0.934573],\n",
    "                            [0.966004, 0.958307, 0.949326, 0.944195, 0.940988, 0.940988, 0.939064, 0.937781, 0.936498, 0.934573, 0.934573],\n",
    "                            [0.964721, 0.953175, 0.942271, 0.938422, 0.938422, 0.937781, 0.935215, 0.933932, 0.933932, 0.932649, 0.932649],\n",
    "                            [0.959589, 0.947402, 0.937781, 0.936498, 0.934573, 0.932649, 0.932649, 0.931366, 0.929442, 0.929442, 0.929442],\n",
    "                            [0.957024, 0.940346, 0.933932, 0.929442, 0.926876, 0.926235, 0.924952, 0.923028, 0.921745, 0.921103, 0.919820],\n",
    "                            [0.942912, 0.923028, 0.917896, 0.912123, 0.910840, 0.909557, 0.908275, 0.907633, 0.907633, 0.906992, 0.906992],\n",
    "                            [0.871071, 0.874278, 0.872996, 0.872354, 0.872354, 0.872354, 0.872354, 0.872354, 0.872354, 0.872354, 0.872354]])\n",
    "\n",
    "best_g = [0.1, 0.5]\n",
    "best_l = [0.1, 0.0]\n",
    "\n",
    "#scores_exclusion, best_g, best_l = GridSearchExclusion(X_train_final, y_train, X_test_final, y_test)\n",
    "\n",
    "print(\"max_score exclusion:\\t\\t%.4f\" % np.max(scores_exclusion))\n",
    "print(\"best hyperparams:\")\n",
    "for e in range(len(best_g)):\n",
    "    print(\"\\tgamma: %1.1f lambda: %1.1f\" % (best_g[e], best_l[e]))\n"
   ]
  },
  {
   "cell_type": "markdown",
   "metadata": {},
   "source": [
    "En los siguientes gráficos se muestran las puntuaciones del clasificador estadístico regularizado (con el método de clase) para cada valor de los hiperparámetros $\\lambda$ y $\\gamma$. Se han empleado los datos `X_train_final` y `X_test_final`, que se han obtenido previamente seleccionando las 100 primeras componentes principales."
   ]
  },
  {
   "cell_type": "code",
   "execution_count": 34,
   "metadata": {},
   "outputs": [
    {
     "data": {
      "image/png": "[encoded data removed]",
      "text/plain": [
       "<Figure size 432x288 with 2 Axes>"
      ]
     },
     "metadata": {
      "needs_background": "light"
     },
     "output_type": "display_data"
    }
   ],
   "source": [
    "plot_scores(scores_exclusion)"
   ]
  },
  {
   "cell_type": "markdown",
   "metadata": {},
   "source": [
    "Como se puede observar, por lo general cuanto menor sea el valor del hiperparámetro $\\lambda$, mejores resultados se obtiene. Los mejores resultados se obtienen cuando $\\gamma$ = 0,5."
   ]
  },
  {
   "cell_type": "markdown",
   "metadata": {},
   "source": [
    "#### Estimación del hiperparámetro $k$"
   ]
  },
  {
   "cell_type": "markdown",
   "metadata": {},
   "source": [
    "Como se ha mencionado en la introducción, el Análisis de Componentes Principales selecciona las componentes de máxima varianza, es decir, selecciona las que aportan más información. El hiperparámetro $k$ indica el número de componentes que se seleccionan. Ahora, en vez de estimar el hiperparámetro $k$, vamos a seleccionarlo de otra forma más interesante. Vamos a calcular el valor de $k$ para que la varianza de las $k$ componentes principales sea superior al 99% de la varianza total del conjunto de datos. Vamos a seguir el procedimiento indicado en la sección de Análisis de Componentes Principales de la introducción."
   ]
  },
  {
   "cell_type": "code",
   "execution_count": 35,
   "metadata": {},
   "outputs": [
    {
     "name": "stdout",
     "output_type": "stream",
     "text": [
      "\t  1: 0.749930\t  2: 0.845959\t  3: 0.893969\t  4: 0.919388\t  5: 0.939298\t  6: 0.952600\t  7: 0.962024\t  8: 0.968061\t  9: 0.972753\n",
      "\t 10: 0.976524\t 11: 0.979081\t 12: 0.981289\t 13: 0.983410\t 14: 0.985319\t 15: 0.986814\t 16: 0.988062\t 17: 0.989209\t 18: 0.990238\n",
      "\t 19: 0.991113\t 20: 0.991756\t 21: 0.992346\t 22: 0.992880\t 23: 0.993340\t 24: 0.993776\t 25: 0.994184\t 26: 0.994546\t 27: 0.994870\n",
      "\t 28: 0.995189\t 29: 0.995434\t 30: 0.995661\t 31: 0.995884\t 32: 0.996088\t 33: 0.996269\t 34: 0.996447\t 35: 0.996620\t 36: 0.996777\n",
      "\t 37: 0.996923\t 38: 0.997062\t 39: 0.997196\t 40: 0.997319\t 41: 0.997432\t 42: 0.997539\t 43: 0.997640\t 44: 0.997736\t 45: 0.997828\n",
      "\t 46: 0.997909\t 47: 0.997987\t 48: 0.998062\t 49: 0.998132\t 50: 0.998198\t 51: 0.998261\t 52: 0.998324\t 53: 0.998381\t 54: 0.998438\n",
      "\t 55: 0.998490\t 56: 0.998541\t 57: 0.998590\t 58: 0.998637\t 59: 0.998682\t 60: 0.998726\t 61: 0.998767\t 62: 0.998807\t 63: 0.998845\n",
      "\t 64: 0.998882\t 65: 0.998917\t 66: 0.998952\t 67: 0.998985\t 68: 0.999015\t 69: 0.999044\t 70: 0.999072\t 71: 0.999099\t 72: 0.999124\n",
      "\t 73: 0.999148\t 74: 0.999172\t 75: 0.999195\t 76: 0.999217\t 77: 0.999238\t 78: 0.999258\t 79: 0.999278\t 80: 0.999297\t 81: 0.999315\n",
      "\t 82: 0.999333\t 83: 0.999351\t 84: 0.999368\t 85: 0.999384\t 86: 0.999399\t 87: 0.999414\t 88: 0.999428\t 89: 0.999442\t 90: 0.999456\n",
      "\t 91: 0.999469\t 92: 0.999482\t 93: 0.999495\t 94: 0.999507\t 95: 0.999518\t 96: 0.999530\t 97: 0.999541\t 98: 0.999552\t 99: 0.999562\n",
      "\t100: 0.999572"
     ]
    }
   ],
   "source": [
    "print_cumvar(autoval, X_train.shape[0], 1, 100)"
   ]
  },
  {
   "cell_type": "markdown",
   "metadata": {},
   "source": [
    "Los valores mostrados muestran el índice de la componente, y la varianza acumulada de esa componente y las componentes previas. Como se puede observar, la primera componente proporciona el 74.99% de la varianza del conjunto de datos. Si queremos escoger las $k$ primeras componentes para conservar el 99% de la varianza del conjunto de datos, nos vale con seleccionar 18 componentes. Vamos a confirmar ahora que los resultados con 18 componentes no varían mucho comparados con los de 100 componentes."
   ]
  },
  {
   "cell_type": "code",
   "execution_count": 36,
   "metadata": {},
   "outputs": [
    {
     "name": "stdout",
     "output_type": "stream",
     "text": [
      "X_train_final: (6238, 18)\n",
      "X_test_final: (1559, 18)\n"
     ]
    }
   ],
   "source": [
    "# Seleccionamos las 18 primeras componentes\n",
    "A = autovec[:18]\n",
    "# Proyectar el conjunto de datos de entrenamiento estandarizado sobre el nuevo espacio\n",
    "X_train_final = (A @ X_norm.T).T\n",
    "# Proyectar el conjunto de datos de test sobre el nuevo espacio:\n",
    "X_test_final = (A @ (X_test - np.mean(X_test, axis=0)).T).T\n",
    "\n",
    "print(\"X_train_final:\", X_train_final.shape)\n",
    "print(\"X_test_final:\", X_test_final.shape)"
   ]
  },
  {
   "cell_type": "code",
   "execution_count": 37,
   "metadata": {},
   "outputs": [
    {
     "name": "stdout",
     "output_type": "stream",
     "text": [
      "Finalizado en 1.674s\n",
      "max_score exclusion:\t\t0.9140\n",
      "best hyperparams:\n",
      "\tgamma: 0.1 lambda: 0.0\n"
     ]
    }
   ],
   "source": [
    "# Entrenamos y evaluamos el clasificador con los hiperparámetros\n",
    "scores_exclusion, best_g, best_l = GridSearchExclusion(X_train_final, y_train, X_test_final, y_test)\n",
    "\n",
    "print(\"max_score exclusion:\\t\\t%.4f\" % np.max(scores_exclusion))\n",
    "print(\"best hyperparams:\")\n",
    "for e in range(len(best_g)):\n",
    "    print(\"\\tgamma: %1.1f lambda: %1.1f\" % (best_g[e], best_l[e]))\n"
   ]
  },
  {
   "cell_type": "code",
   "execution_count": 38,
   "metadata": {},
   "outputs": [
    {
     "data": {
      "image/png": "[encoded data removed]",
      "text/plain": [
       "<Figure size 432x288 with 2 Axes>"
      ]
     },
     "metadata": {
      "needs_background": "light"
     },
     "output_type": "display_data"
    }
   ],
   "source": [
    "plot_scores(scores_exclusion)"
   ]
  },
  {
   "cell_type": "markdown",
   "metadata": {},
   "source": [
    "Como se puede observar, este código se ha ejecutado en unos 2 segundos, mientras que el anterior ha tardado más de 30 (en mi ordenador). Obviamente se debe a la reducción en la dimensionalidad: se ha pasado de manejar matrices de 6238x100 a matrices de 6238x18. La puntuación con 100 componentes es 0.9660, mientras que con 18 componentes es 0.9140. Se ha reducido el tiempo de cómputo en un 97%, sacrificando sólo un 5,2% de precisión. Vamos a probar ahora cuánta precisión se obtiene tomando las $k$ primeras componentes, de forma que se conserva un 99,9% de la varianza total. Viendo los valores de varianzas acumuladas impresos anteriormente, nos basta con seleccionar las 68 primeras, conservando un 99,9015% de la varianza total. Una de las ventajas del método de Análisis de Componentes Principales es que no es necesario recalcular la matriz de proyección $A$ si se quiere probar con un $k$ distinto. Repetimos los pasos."
   ]
  },
  {
   "cell_type": "code",
   "execution_count": 39,
   "metadata": {},
   "outputs": [
    {
     "name": "stdout",
     "output_type": "stream",
     "text": [
      "X_train_final: (6238, 68)\n",
      "X_test_final: (1559, 68)\n"
     ]
    }
   ],
   "source": [
    "# Seleccionamos las 68 primeras componentes\n",
    "A = autovec[:68]\n",
    "# Proyectar el conjunto de datos de entrenamiento estandarizado sobre el nuevo espacio\n",
    "X_train_final = (A @ X_norm.T).T\n",
    "# Proyectar el conjunto de datos de test sobre el nuevo espacio:\n",
    "X_test_final = (A @ (X_test - np.mean(X_test, axis=0)).T).T\n",
    "print(\"X_train_final:\", X_train_final.shape)\n",
    "print(\"X_test_final:\", X_test_final.shape)"
   ]
  },
  {
   "cell_type": "code",
   "execution_count": 40,
   "metadata": {},
   "outputs": [
    {
     "name": "stdout",
     "output_type": "stream",
     "text": [
      "max_score exclusion:\t\t0.9666\n",
      "best hyperparams:\n",
      "\tgamma: 0.4 lambda: 0.0\n"
     ]
    }
   ],
   "source": [
    "# Entrenamos y evaluamos el clasificador con los hiperparámetros\n",
    "\n",
    "# IMPORTANTE: el siguiente fragmento de codigo tarda en ejecutar unos 15 segundos.\n",
    "#             Los resultados se han precalculado y están guardados en scores_exclusion por si no se quiere ejecutar esta parte.\n",
    "\n",
    "scores_exclusion = np.array([[0.930725, 0.958948, 0.949968, 0.948044, 0.943554, 0.942271, 0.940346, 0.938422, 0.937139, 0.935215, 0.935215],\n",
    "                            [0.950609, 0.959589, 0.951892, 0.946761, 0.944836, 0.944836, 0.940988, 0.937781, 0.937139, 0.935856, 0.935215],\n",
    "                            [0.957665, 0.958948, 0.949326, 0.946119, 0.943554, 0.942271, 0.940988, 0.939064, 0.937139, 0.936498, 0.935856],\n",
    "                            [0.964080, 0.955741, 0.948044, 0.943554, 0.942271, 0.939705, 0.939064, 0.938422, 0.937781, 0.937139, 0.934573],\n",
    "                            [0.966645, 0.954458, 0.944836, 0.942271, 0.940988, 0.940346, 0.937781, 0.937781, 0.936498, 0.934573, 0.932649],\n",
    "                            [0.961514, 0.952534, 0.942271, 0.939064, 0.937139, 0.934573, 0.933932, 0.933291, 0.932008, 0.932008, 0.932008],\n",
    "                            [0.957665, 0.944836, 0.936498, 0.934573, 0.932649, 0.931366, 0.930725, 0.930083, 0.930083, 0.929442, 0.928801],\n",
    "                            [0.955099, 0.940346, 0.934573, 0.930725, 0.929442, 0.928159, 0.927518, 0.926235, 0.925593, 0.923669, 0.922386],\n",
    "                            [0.949968, 0.932008, 0.926235, 0.923028, 0.920462, 0.919179, 0.917896, 0.915972, 0.914047, 0.914047, 0.914047],\n",
    "                            [0.933932, 0.914689, 0.909557, 0.906992, 0.904426, 0.903143, 0.903143, 0.901860, 0.901219, 0.901219, 0.899936],\n",
    "                            [0.869147, 0.872996, 0.872354, 0.872354, 0.871713, 0.871713, 0.871713, 0.871713, 0.871713, 0.871713, 0.871713]])\n",
    "\n",
    "best_g = [0.4]\n",
    "best_l = [0.0]\n",
    "\n",
    "#scores_exclusion, best_g, best_l = GridSearchExclusion(X_train_final, y_train, X_test_final, y_test)\n",
    "\n",
    "print(\"max_score exclusion:\\t\\t%.4f\" % np.max(scores_exclusion))\n",
    "print(\"best hyperparams:\")\n",
    "for e in range(len(best_g)):\n",
    "    print(\"\\tgamma: %1.1f lambda: %1.1f\" % (best_g[e], best_l[e]))\n"
   ]
  },
  {
   "cell_type": "code",
   "execution_count": 41,
   "metadata": {},
   "outputs": [
    {
     "data": {
      "image/png": "[encoded data removed]",
      "text/plain": [
       "<Figure size 432x288 with 2 Axes>"
      ]
     },
     "metadata": {
      "needs_background": "light"
     },
     "output_type": "display_data"
    }
   ],
   "source": [
    "plot_scores(scores_exclusion)"
   ]
  },
  {
   "cell_type": "markdown",
   "metadata": {},
   "source": [
    "Seleccionando las 68 primeras componentes, el porcentaje de la varianza del conjunto de datos que se conserva es 99,9015%. Esta vez se ha ejecutado en 66 segundos, pero la precisión ha sido de 0.9666. Esta precisión es incluso mayor que la que se obtiene con 100 componentes, 0.9660. Esto se debe al fenómeno conocido como *overfitting*. Si se seleccionan todas las componentes (caso estudiado arriba), el clasificador \"aprende\" de todas y cada una de ellas, el problema es que de las 617 componentes que tiene, la mayoría no proporciona información útil, por tanto influye negativamente en la clasificación de datos. Como se ha visto, con tan solo 18 de las 671 componentes se conserva un 99% de la varianza total, mientras que con 68 se conserva un 99,9%. En este caso, con 68 componentes, se ha obtenido una puntuación mayor que con 100 componentes, lo que indica que el \"número ideal de componentes\" se sitúa entre 68 y 100. Este valor de $k$ consigue un balance entre conservar la máxima varianza entre clases, pero sin que se produzca *overfitting*.\n",
    "\n",
    "Cabe destacar que sólamente se han probado los nuevos datos con las combinaciones de los hiperparámetros $\\lambda$ y $\\gamma$ de la lista `[0.0, 0.1, 0.2, 0.3, 0.4, 0.5, 0.6, 0.7, 0.8, 0.9, 1.0]`. La máxima puntuación que se obtenía antes de aplicar el Análisis de Componentes Principales (equivalente a seleccionar todas las componentes) es 0.956. Ahora se ha conseguido una puntuación incluso mayor: 0.9666. Este método no sólo elimina los datos menos importantes que empeoran los resultados, también simplifica el problema, por lo que se ejecuta el algoritmo de clasificación mucho más rápido. "
   ]
  },
  {
   "cell_type": "markdown",
   "metadata": {},
   "source": [
    "### **Evaluación de Isolet** tras hacer un **Análisis Discriminante Lineal**"
   ]
  },
  {
   "cell_type": "markdown",
   "metadata": {},
   "source": [
    "Se toma como base el hiperparámetro que indica número de componentes principales que seleccionamos. Este hiperparámetro indica el número de columnas que tendrá la matriz de proyección $A$ (ver Análisis de Componentes Principales en la introducción).\n",
    "\n",
    "En esta sección se prueba el clasificador estadístico con todas las combinaciones de hiperparámetros $\\gamma$ y $\\lambda$ de la lista 0.0, 0.1, 0.2, ..., 1.0. No se prueba con listas más extensas porque tardaría demasiado en ejecutar."
   ]
  },
  {
   "cell_type": "markdown",
   "metadata": {},
   "source": [
    "#### Estimación del hiperparámetro $c$"
   ]
  },
  {
   "cell_type": "markdown",
   "metadata": {},
   "source": [
    "Como se ha mencionado en la introducción, el Análisis Discriminante Lineal selecciona las componentes que minimizan la varianza dentro de cada clase y maximizan la varianza entre clases, es decir maximiza el Ratio de Fisher. El hiperparámetro $c$ indica el número de componentes que se seleccionan. Vamos a seleccionar este hiperparámetro con el mismo método que en la evaluación de Isolet con Análisis de Componentes Principales. Vamos a calcular el valor de $c$ para que la varianza de (Sw^-1)Sb sea superior al 99% de la varianza total del conjunto de datos."
   ]
  },
  {
   "cell_type": "code",
   "execution_count": 42,
   "metadata": {},
   "outputs": [],
   "source": [
    "# Calcular las matrices Sb y Sw (ver apartado de Análisis Discriminante Lineal de la introducción).\n",
    "n_caracteristicas = X_train.shape[1]\n",
    "Sw = np.zeros((n_caracteristicas, n_caracteristicas))\n",
    "Sb = np.zeros((n_caracteristicas, n_caracteristicas))\n",
    "n_clases = len(np.unique(y_train))\n",
    "mu_clases = np.mean(X_train, axis=0)\n",
    "for i in range(n_clases):\n",
    "    X_clase = X_train[y_train==i]\n",
    "    Sw = Sw + np.cov(X_clase, rowvar=False)\n",
    "    Sb = Sb + (len(X_clase) * ((X_clase - mu_clases).T @ (X_clase - mu_clases)))\n",
    "\n",
    "# Calcular la descomposición espectral de la matriz Sw^-1 Sb\n",
    "u, autoval, autovec = np.linalg.svd((np.linalg.inv(Sw)@Sb), full_matrices=False) # tarda 68.246s\n"
   ]
  },
  {
   "cell_type": "markdown",
   "metadata": {},
   "source": [
    "Calcular las varianzas acumuladas"
   ]
  },
  {
   "cell_type": "code",
   "execution_count": 43,
   "metadata": {},
   "outputs": [
    {
     "name": "stdout",
     "output_type": "stream",
     "text": [
      "\t  1: 0.729799\t  2: 0.866850\t  3: 0.903938\t  4: 0.937865\t  5: 0.952736\t  6: 0.964360\t  7: 0.972365\t  8: 0.977805\t  9: 0.982307\n",
      "\t 10: 0.985554\t 11: 0.987190\t 12: 0.988345\t 13: 0.989287\t 14: 0.989833\t 15: 0.990363\t 16: 0.990624\t 17: 0.990849\t 18: 0.991064\n",
      "\t 19: 0.991236\t 20: 0.991383\t 21: 0.991489\t 22: 0.991582\t 23: 0.991656\t 24: 0.991728\t 25: 0.991777\t 26: 0.991792\t 27: 0.991807\n",
      "\t 28: 0.991822\t 29: 0.991836\t 30: 0.991851\t 31: 0.991866\t 32: 0.991880\t 33: 0.991895\t 34: 0.991910\t 35: 0.991924\t 36: 0.991939\n",
      "\t 37: 0.991953\t 38: 0.991968\t 39: 0.991982\t 40: 0.991997\t 41: 0.992011\t 42: 0.992026\t 43: 0.992040\t 44: 0.992055\t 45: 0.992069\n",
      "\t 46: 0.992084\t 47: 0.992098\t 48: 0.992113\t 49: 0.992127\t 50: 0.992142\t 51: 0.992156\t 52: 0.992171\t 53: 0.992185\t 54: 0.992200\n",
      "\t 55: 0.992214\t 56: 0.992228\t 57: 0.992243\t 58: 0.992257\t 59: 0.992272\t 60: 0.992286\t 61: 0.992301\t 62: 0.992315\t 63: 0.992330\n",
      "\t 64: 0.992344\t 65: 0.992358\t 66: 0.992373\t 67: 0.992387\t 68: 0.992402\t 69: 0.992416\t 70: 0.992431\t 71: 0.992445\t 72: 0.992459\n",
      "\t 73: 0.992474\t 74: 0.992488\t 75: 0.992503\t 76: 0.992517\t 77: 0.992531\t 78: 0.992546\t 79: 0.992560\t 80: 0.992575\t 81: 0.992589\n",
      "\t 82: 0.992604\t 83: 0.992618\t 84: 0.992632\t 85: 0.992647\t 86: 0.992661\t 87: 0.992676\t 88: 0.992690\t 89: 0.992704\t 90: 0.992719\n",
      "\t 91: 0.992733\t 92: 0.992748\t 93: 0.992762\t 94: 0.992777\t 95: 0.992791\t 96: 0.992805\t 97: 0.992820\t 98: 0.992834\t 99: 0.992849\n",
      "\t100: 0.992863\t101: 0.992877\t102: 0.992892\t103: 0.992906\t104: 0.992921\t105: 0.992935\t106: 0.992949\t107: 0.992964\t108: 0.992978\n",
      "\t109: 0.992993\t110: 0.993007\t111: 0.993021\t112: 0.993036\t113: 0.993050\t114: 0.993065\t115: 0.993079\t116: 0.993093\t117: 0.993108\n",
      "\t118: 0.993122\t119: 0.993137\t120: 0.993151\t121: 0.993165\t122: 0.993180\t123: 0.993194\t124: 0.993209\t125: 0.993223\t126: 0.993237\n",
      "\t127: 0.993252\t128: 0.993266\t129: 0.993281\t130: 0.993295\t131: 0.993309\t132: 0.993324\t133: 0.993338\t134: 0.993353\t135: 0.993367\n",
      "\t136: 0.993381\t137: 0.993396\t138: 0.993410\t139: 0.993425\t140: 0.993439\t141: 0.993453\t142: 0.993468\t143: 0.993482\t144: 0.993497\n",
      "\t145: 0.993511\t146: 0.993525\t147: 0.993540\t148: 0.993554\t149: 0.993568\t150: 0.993583\t151: 0.993597\t152: 0.993612\t153: 0.993626\n",
      "\t154: 0.993640\t155: 0.993655\t156: 0.993669\t157: 0.993684\t158: 0.993698\t159: 0.993712\t160: 0.993727\t161: 0.993741\t162: 0.993756\n",
      "\t163: 0.993770\t164: 0.993784\t165: 0.993799\t166: 0.993813\t167: 0.993828\t168: 0.993842\t169: 0.993856\t170: 0.993871\t171: 0.993885\n",
      "\t172: 0.993900\t173: 0.993914\t174: 0.993928\t175: 0.993943\t176: 0.993957\t177: 0.993971\t178: 0.993986\t179: 0.994000\t180: 0.994015\n",
      "\t181: 0.994029\t182: 0.994043\t183: 0.994058\t184: 0.994072\t185: 0.994087\t186: 0.994101\t187: 0.994115\t188: 0.994130\t189: 0.994144\n",
      "\t190: 0.994159\t191: 0.994173\t192: 0.994187\t193: 0.994202\t194: 0.994216\t195: 0.994231\t196: 0.994245\t197: 0.994259\t198: 0.994274\n",
      "\t199: 0.994288\t200: 0.994302\t201: 0.994317\t202: 0.994331\t203: 0.994346\t204: 0.994360\t205: 0.994374\t206: 0.994389\t207: 0.994403\n",
      "\t208: 0.994418\t209: 0.994432\t210: 0.994446\t211: 0.994461\t212: 0.994475\t213: 0.994490\t214: 0.994504\t215: 0.994518\t216: 0.994533\n",
      "\t217: 0.994547\t218: 0.994561\t219: 0.994576\t220: 0.994590\t221: 0.994605\t222: 0.994619\t223: 0.994633\t224: 0.994648\t225: 0.994662\n",
      "\t226: 0.994677\t227: 0.994691\t228: 0.994705\t229: 0.994720\t230: 0.994734\t231: 0.994749\t232: 0.994763\t233: 0.994777\t234: 0.994792\n",
      "\t235: 0.994806\t236: 0.994821\t237: 0.994835\t238: 0.994849\t239: 0.994864\t240: 0.994878\t241: 0.994892\t242: 0.994907\t243: 0.994921\n",
      "\t244: 0.994936\t245: 0.994950\t246: 0.994964\t247: 0.994979\t248: 0.994993\t249: 0.995008\t250: 0.995022\t251: 0.995036\t252: 0.995051\n",
      "\t253: 0.995065\t254: 0.995080\t255: 0.995094\t256: 0.995108\t257: 0.995123\t258: 0.995137\t259: 0.995151\t260: 0.995166\t261: 0.995180\n",
      "\t262: 0.995195\t263: 0.995209\t264: 0.995223\t265: 0.995238\t266: 0.995252\t267: 0.995267\t268: 0.995281\t269: 0.995295\t270: 0.995310\n",
      "\t271: 0.995324\t272: 0.995339\t273: 0.995353\t274: 0.995367\t275: 0.995382\t276: 0.995396\t277: 0.995410\t278: 0.995425\t279: 0.995439\n",
      "\t280: 0.995454\t281: 0.995468\t282: 0.995482\t283: 0.995497\t284: 0.995511\t285: 0.995526\t286: 0.995540\t287: 0.995554\t288: 0.995569\n",
      "\t289: 0.995583\t290: 0.995598\t291: 0.995612\t292: 0.995626\t293: 0.995641\t294: 0.995655\t295: 0.995669\t296: 0.995684\t297: 0.995698\n",
      "\t298: 0.995713\t299: 0.995727\t300: 0.995741\t301: 0.995756\t302: 0.995770\t303: 0.995785\t304: 0.995799\t305: 0.995813\t306: 0.995828\n",
      "\t307: 0.995842\t308: 0.995857\t309: 0.995871\t310: 0.995885\t311: 0.995900\t312: 0.995914\t313: 0.995928\t314: 0.995943\t315: 0.995957\n",
      "\t316: 0.995972\t317: 0.995986\t318: 0.996000\t319: 0.996015\t320: 0.996029\t321: 0.996044\t322: 0.996058\t323: 0.996072\t324: 0.996087\n",
      "\t325: 0.996101\t326: 0.996116\t327: 0.996130\t328: 0.996144\t329: 0.996159\t330: 0.996173\t331: 0.996187\t332: 0.996202\t333: 0.996216\n",
      "\t334: 0.996231\t335: 0.996245\t336: 0.996259\t337: 0.996274\t338: 0.996288\t339: 0.996303\t340: 0.996317\t341: 0.996331\t342: 0.996346\n",
      "\t343: 0.996360\t344: 0.996374\t345: 0.996389\t346: 0.996403\t347: 0.996418\t348: 0.996432\t349: 0.996446\t350: 0.996461\t351: 0.996475\n",
      "\t352: 0.996490\t353: 0.996504\t354: 0.996518\t355: 0.996533\t356: 0.996547\t357: 0.996562\t358: 0.996576\t359: 0.996590\t360: 0.996605\n",
      "\t361: 0.996619\t362: 0.996633\t363: 0.996648\t364: 0.996662\t365: 0.996677\t366: 0.996691\t367: 0.996705\t368: 0.996720\t369: 0.996734\n",
      "\t370: 0.996749\t371: 0.996763\t372: 0.996777\t373: 0.996792\t374: 0.996806\t375: 0.996820\t376: 0.996835\t377: 0.996849\t378: 0.996864\n",
      "\t379: 0.996878\t380: 0.996892\t381: 0.996907\t382: 0.996921\t383: 0.996936\t384: 0.996950\t385: 0.996964\t386: 0.996979\t387: 0.996993\n",
      "\t388: 0.997007\t389: 0.997022\t390: 0.997036\t391: 0.997051\t392: 0.997065\t393: 0.997079\t394: 0.997094\t395: 0.997108\t396: 0.997122\n",
      "\t397: 0.997137\t398: 0.997151\t399: 0.997166\t400: 0.997180\t401: 0.997194\t402: 0.997209\t403: 0.997223\t404: 0.997237\t405: 0.997252\n",
      "\t406: 0.997266\t407: 0.997281\t408: 0.997295\t409: 0.997309\t410: 0.997324\t411: 0.997338\t412: 0.997352\t413: 0.997367\t414: 0.997381\n",
      "\t415: 0.997396\t416: 0.997410\t417: 0.997424\t418: 0.997439\t419: 0.997453\t420: 0.997467\t421: 0.997482\t422: 0.997496\t423: 0.997511\n",
      "\t424: 0.997525\t425: 0.997539\t426: 0.997554\t427: 0.997568\t428: 0.997582\t429: 0.997597\t430: 0.997611\t431: 0.997626\t432: 0.997640\n",
      "\t433: 0.997654\t434: 0.997669\t435: 0.997683\t436: 0.997697\t437: 0.997712\t438: 0.997726\t439: 0.997740\t440: 0.997755\t441: 0.997769\n",
      "\t442: 0.997784\t443: 0.997798\t444: 0.997812\t445: 0.997827\t446: 0.997841\t447: 0.997855\t448: 0.997870\t449: 0.997884\t450: 0.997898\n",
      "\t451: 0.997913\t452: 0.997927\t453: 0.997942\t454: 0.997956\t455: 0.997970\t456: 0.997985\t457: 0.997999\t458: 0.998013\t459: 0.998028\n",
      "\t460: 0.998042\t461: 0.998056\t462: 0.998071\t463: 0.998085\t464: 0.998099\t465: 0.998114\t466: 0.998128\t467: 0.998143\t468: 0.998157\n",
      "\t469: 0.998171\t470: 0.998186\t471: 0.998200\t472: 0.998214\t473: 0.998229\t474: 0.998243\t475: 0.998257\t476: 0.998272\t477: 0.998286\n",
      "\t478: 0.998300\t479: 0.998315\t480: 0.998329\t481: 0.998343\t482: 0.998358\t483: 0.998372\t484: 0.998386\t485: 0.998401\t486: 0.998415\n",
      "\t487: 0.998430\t488: 0.998444\t489: 0.998458\t490: 0.998473\t491: 0.998487\t492: 0.998501\t493: 0.998516\t494: 0.998530\t495: 0.998544\n",
      "\t496: 0.998559\t497: 0.998573\t498: 0.998587\t499: 0.998602\t500: 0.998616\t501: 0.998630\t502: 0.998645\t503: 0.998659\t504: 0.998673\n",
      "\t505: 0.998688\t506: 0.998702\t507: 0.998716\t508: 0.998731\t509: 0.998745\t510: 0.998759\t511: 0.998774\t512: 0.998788\t513: 0.998802\n",
      "\t514: 0.998817\t515: 0.998831\t516: 0.998845\t517: 0.998859\t518: 0.998874\t519: 0.998888\t520: 0.998902\t521: 0.998917\t522: 0.998931\n",
      "\t523: 0.998945\t524: 0.998960\t525: 0.998974\t526: 0.998988\t527: 0.999003\t528: 0.999017\t529: 0.999031\t530: 0.999046\t531: 0.999060\n",
      "\t532: 0.999074\t533: 0.999088\t534: 0.999103\t535: 0.999117\t536: 0.999131\t537: 0.999146\t538: 0.999160\t539: 0.999174\t540: 0.999189\n",
      "\t541: 0.999203\t542: 0.999217\t543: 0.999231\t544: 0.999246\t545: 0.999260\t546: 0.999274\t547: 0.999289\t548: 0.999303\t549: 0.999317\n",
      "\t550: 0.999331\t551: 0.999346\t552: 0.999360\t553: 0.999374\t554: 0.999388\t555: 0.999403\t556: 0.999417\t557: 0.999431\t558: 0.999446\n",
      "\t559: 0.999460\t560: 0.999474\t561: 0.999488\t562: 0.999503\t563: 0.999517\t564: 0.999531\t565: 0.999545\t566: 0.999559\t567: 0.999574\n",
      "\t568: 0.999588\t569: 0.999602\t570: 0.999616\t571: 0.999631\t572: 0.999645\t573: 0.999659\t574: 0.999673\t575: 0.999687\t576: 0.999701\n",
      "\t577: 0.999716\t578: 0.999730\t579: 0.999744\t580: 0.999758\t581: 0.999772\t582: 0.999786\t583: 0.999800\t584: 0.999814\t585: 0.999828\n",
      "\t586: 0.999842\t587: 0.999856\t588: 0.999870\t589: 0.999884\t590: 0.999898\t591: 0.999912\t592: 0.999925\t593: 0.999933\t594: 0.999941\n",
      "\t595: 0.999947\t596: 0.999953\t597: 0.999959\t598: 0.999964\t599: 0.999968\t600: 0.999973\t601: 0.999976\t602: 0.999980\t603: 0.999983\n",
      "\t604: 0.999986\t605: 0.999988\t606: 0.999990\t607: 0.999992\t608: 0.999993\t609: 0.999995\t610: 0.999996\t611: 0.999997\t612: 0.999998\n",
      "\t613: 0.999998\t614: 0.999999\t615: 0.999999\t616: 1.000000\t617: 1.000000"
     ]
    }
   ],
   "source": [
    "print_cumvar(autoval, X_train.shape[0], 1, 617)"
   ]
  },
  {
   "cell_type": "markdown",
   "metadata": {},
   "source": [
    "Esta vez es necesario imprimir todos los valores. Si queremos escoger las $c$ primeras componentes para conservar el 99% de la varianza del conjunto de datos, nos vale con seleccionar 15 componentes."
   ]
  },
  {
   "cell_type": "code",
   "execution_count": 44,
   "metadata": {},
   "outputs": [
    {
     "name": "stdout",
     "output_type": "stream",
     "text": [
      "X_train_final: (6238, 15)\n",
      "X_test_final: (1559, 15)\n"
     ]
    }
   ],
   "source": [
    "# Seleccionamos las 15 primeras componentes\n",
    "A = autovec[:15]\n",
    "# Proyectar el conjunto de datos de entrenamiento sobre el nuevo espacio\n",
    "X_train_final = (A @ X_train.T).T\n",
    "# Proyectar el conjunto de datos de test sobre el nuevo espacio:\n",
    "X_test_final = (A @ X_test.T).T\n",
    "\n",
    "print(\"X_train_final:\", X_train_final.shape)\n",
    "print(\"X_test_final:\", X_test_final.shape)"
   ]
  },
  {
   "cell_type": "code",
   "execution_count": 45,
   "metadata": {},
   "outputs": [
    {
     "name": "stdout",
     "output_type": "stream",
     "text": [
      "Finalizado en 1.256s\n",
      "max_score exclusion:\t\t0.9307\n",
      "best hyperparams:\n",
      "\tgamma: 0.2 lambda: 0.0\n",
      "\tgamma: 0.3 lambda: 0.0\n"
     ]
    }
   ],
   "source": [
    "# Entrenar el clasificador y evaluarlo para cada combinación de lambda y gamma\n",
    "scores_exclusion, best_g, best_l = GridSearchExclusion(X_train_final, y_train, X_test_final, y_test)\n",
    "\n",
    "print(\"max_score exclusion:\\t\\t%.4f\" % np.max(scores_exclusion))\n",
    "print(\"best hyperparams:\")\n",
    "for e in range(len(best_g)):\n",
    "    print(\"\\tgamma: %1.1f lambda: %1.1f\" % (best_g[e], best_l[e]))\n"
   ]
  },
  {
   "cell_type": "code",
   "execution_count": 46,
   "metadata": {},
   "outputs": [
    {
     "data": {
      "image/png": "[encoded data removed]",
      "text/plain": [
       "<Figure size 432x288 with 2 Axes>"
      ]
     },
     "metadata": {
      "needs_background": "light"
     },
     "output_type": "display_data"
    }
   ],
   "source": [
    "plot_scores(scores_exclusion)"
   ]
  },
  {
   "cell_type": "markdown",
   "metadata": {},
   "source": [
    "Comparando con el ACP, que obtuvo una tasa de aciertos del 91,4% (seleccionando las componentes correspondientes al 99% de la varianza), con el método de ADL obtenemos una tasa de aciertos de 93,07%.\n",
    "\n",
    "Vamos a probar ahora a escoger las $c$ primeras componentes que conserven el 99,9% de la varianza. Mirando en los valores impresos arriba, el número de componentes que hay que seleccionar es 527. Notese la diferencia con el Análisis de Componentes Principales, el 99% estaba en 18 componentes y el 99,9% en 68; mientras que en el Análisis Discriminante Lineal el 99% está en 15 y el 99,9% está en 527."
   ]
  },
  {
   "cell_type": "code",
   "execution_count": 47,
   "metadata": {},
   "outputs": [
    {
     "name": "stdout",
     "output_type": "stream",
     "text": [
      "X_train_final: (6238, 527)\n",
      "X_test_final: (1559, 527)\n"
     ]
    }
   ],
   "source": [
    "# Seleccionamos las 527 primeras componentes\n",
    "A = autovec[:527]\n",
    "# Proyectar el conjunto de datos de entrenamiento estandarizado sobre el nuevo espacio\n",
    "X_train_final = (A @ X_train.T).T\n",
    "# Proyectar el conjunto de datos de test sobre el nuevo espacio:\n",
    "X_test_final = (A @ X_test.T).T\n",
    "\n",
    "print(\"X_train_final:\", X_train_final.shape)\n",
    "print(\"X_test_final:\", X_test_final.shape)"
   ]
  },
  {
   "cell_type": "code",
   "execution_count": 48,
   "metadata": {},
   "outputs": [
    {
     "name": "stdout",
     "output_type": "stream",
     "text": [
      "max_score exclusion:\t\t0.0385\n",
      "best hyperparams:\n",
      "\ttodos\n"
     ]
    }
   ],
   "source": [
    "# Entrenar el clasificador y evaluarlo para cada combinación de lambda y gamma\n",
    "# IMPORTANTE: el siguiente fragmento de codigo tarda en ejecutar unos 38 segundos.\n",
    "#             Los resultados se han precalculado y están guardados en scores_exclusion por si no se quiere ejecutar esta parte.\n",
    "\n",
    "scores_exclusion = np.array([[0.038486, 0.038486, 0.038486, 0.038486, 0.038486, 0.038486, 0.038486, 0.038486, 0.038486, 0.038486, 0.038486],\n",
    "                            [0.038486, 0.038486, 0.038486, 0.038486, 0.038486, 0.038486, 0.038486, 0.038486, 0.038486, 0.038486, 0.038486],\n",
    "                            [0.038486, 0.038486, 0.038486, 0.038486, 0.038486, 0.038486, 0.038486, 0.038486, 0.038486, 0.038486, 0.038486],\n",
    "                            [0.038486, 0.038486, 0.038486, 0.038486, 0.038486, 0.038486, 0.038486, 0.038486, 0.038486, 0.038486, 0.038486],\n",
    "                            [0.038486, 0.038486, 0.038486, 0.038486, 0.038486, 0.038486, 0.038486, 0.038486, 0.038486, 0.038486, 0.038486],\n",
    "                            [0.038486, 0.038486, 0.038486, 0.038486, 0.038486, 0.038486, 0.038486, 0.038486, 0.038486, 0.038486, 0.038486],\n",
    "                            [0.038486, 0.038486, 0.038486, 0.038486, 0.038486, 0.038486, 0.038486, 0.038486, 0.038486, 0.038486, 0.038486],\n",
    "                            [0.038486, 0.038486, 0.038486, 0.038486, 0.038486, 0.038486, 0.038486, 0.038486, 0.038486, 0.038486, 0.038486],\n",
    "                            [0.038486, 0.038486, 0.038486, 0.038486, 0.038486, 0.038486, 0.038486, 0.038486, 0.038486, 0.038486, 0.038486],\n",
    "                            [0.038486, 0.038486, 0.038486, 0.038486, 0.038486, 0.038486, 0.038486, 0.038486, 0.038486, 0.038486, 0.038486],\n",
    "                            [0.038486, 0.038486, 0.038486, 0.038486, 0.038486, 0.038486, 0.038486, 0.038486, 0.038486, 0.038486, 0.038486]])\n",
    "\n",
    "best_g = [0.0, 0.0, 0.0, 0.0, 0.0, 0.0, 0.0, 0.0, 0.0, 0.0, 0.0, 0.1, 0.1, 0.1, 0.1, 0.1, 0.1, 0.1, 0.1, 0.1, 0.1, 0.1, 0.2, 0.2, 0.2, 0.2,\n",
    "          0.2, 0.2, 0.2, 0.2, 0.2, 0.2, 0.2, 0.3, 0.3, 0.3, 0.3, 0.3, 0.3, 0.3, 0.3, 0.3, 0.3, 0.3, 0.4, 0.4, 0.4, 0.4, 0.4, 0.4, 0.4, 0.4,\n",
    "          0.4, 0.4, 0.4, 0.5, 0.5, 0.5, 0.5, 0.5, 0.5, 0.5, 0.5, 0.5, 0.5, 0.5, 0.6, 0.6, 0.6, 0.6, 0.6, 0.6, 0.6, 0.6, 0.6, 0.6, 0.6, 0.7,\n",
    "          0.7, 0.7, 0.7, 0.7, 0.7, 0.7, 0.7, 0.7, 0.7, 0.7, 0.8, 0.8, 0.8, 0.8, 0.8, 0.8, 0.8, 0.8, 0.8, 0.8, 0.8, 0.9, 0.9, 0.9, 0.9, 0.9,\n",
    "          0.9, 0.9, 0.9, 0.9, 0.9, 0.9, 1.0, 1.0, 1.0, 1.0, 1.0, 1.0, 1.0, 1.0, 1.0, 1.0, 1.0]\n",
    "best_l = [0.0, 0.1, 0.2, 0.3, 0.4, 0.5, 0.6, 0.7, 0.8, 0.9, 1.0, 0.0, 0.1, 0.2, 0.3, 0.4, 0.5, 0.6, 0.7, 0.8, 0.9, 1.0, 0.0, 0.1, 0.2, 0.3,\n",
    "          0.4, 0.5, 0.6, 0.7, 0.8, 0.9, 1.0, 0.0, 0.1, 0.2, 0.3, 0.4, 0.5, 0.6, 0.7, 0.8, 0.9, 1.0, 0.0, 0.1, 0.2, 0.3, 0.4, 0.5, 0.6, 0.7,\n",
    "          0.8, 0.9, 1.0, 0.0, 0.1, 0.2, 0.3, 0.4, 0.5, 0.6, 0.7, 0.8, 0.9, 1.0, 0.0, 0.1, 0.2, 0.3, 0.4, 0.5, 0.6, 0.7, 0.8, 0.9, 1.0, 0.0,\n",
    "          0.1, 0.2, 0.3, 0.4, 0.5, 0.6, 0.7, 0.8, 0.9, 1.0, 0.0, 0.1, 0.2, 0.3, 0.4, 0.5, 0.6, 0.7, 0.8, 0.9, 1.0, 0.0, 0.1, 0.2, 0.3, 0.4,\n",
    "          0.5, 0.6, 0.7, 0.8, 0.9, 1.0, 0.0, 0.1, 0.2, 0.3, 0.4, 0.5, 0.6, 0.7, 0.8, 0.9, 1.0]\n",
    "\n",
    "#scores_exclusion, best_g, best_l = GridSearchExclusion(X_train_final, y_train, X_test_final, y_test)\n",
    "\n",
    "print(\"max_score exclusion:\\t\\t%.4f\" % np.max(scores_exclusion))\n",
    "print(\"best hyperparams:\")\n",
    "\"\"\"\n",
    "for e in range(len(best_g)):\n",
    "    print(\"\\tgamma: %1.1f lambda: %1.1f\" % (best_g[e], best_l[e]))\n",
    "\"\"\"\n",
    "print(\"\\ttodos\") # son demasiados para imprimir"
   ]
  },
  {
   "cell_type": "code",
   "execution_count": 49,
   "metadata": {},
   "outputs": [
    {
     "data": {
      "image/png": "[encoded data removed]",
      "text/plain": [
       "<Figure size 432x288 with 2 Axes>"
      ]
     },
     "metadata": {
      "needs_background": "light"
     },
     "output_type": "display_data"
    }
   ],
   "source": [
    "plot_scores(scores_exclusion)"
   ]
  },
  {
   "cell_type": "markdown",
   "metadata": {},
   "source": [
    "Como vemos, los resultados son pésimos. Estamos otra vez en el caso de *overfitting*, en el que se suministran demasiadas dimensiones que no proporcionan información adicional."
   ]
  },
  {
   "cell_type": "markdown",
   "metadata": {},
   "source": [
    "### **Evaluación de Isolet** con mezcla de **ACP** y **ADL**\n",
    "\n",
    "En esta sección se analizará primero con APC y ADL, y posteriormente con ADL y ACP. Se tomarán las componentes que contienen el 99,9% de la varianza para la primera fase y de estos se analizará cuántas componentes elegir para conservar el 99% y el 99,9% de la varianza para la segunda fase. "
   ]
  },
  {
   "cell_type": "markdown",
   "metadata": {},
   "source": [
    "##### **ACP** -> **ADL**\n",
    "\n",
    "Para ACP habíamos seleccionado 68 componentes, que mantienen el 99,9% de la varianza."
   ]
  },
  {
   "cell_type": "code",
   "execution_count": 50,
   "metadata": {},
   "outputs": [
    {
     "name": "stdout",
     "output_type": "stream",
     "text": [
      "X_train_final_ACP: (6238, 68)\n",
      "X_test_final_ACP: (1559, 68)\n"
     ]
    }
   ],
   "source": [
    "# Calcular la matriz A\n",
    "# Calcular la media del conjunto de datos de entrenamiento\n",
    "X_train_mean = np.mean(X_train, axis=0)\n",
    "\n",
    "# Estandarizar el conjunto de datos de entrenamiento\n",
    "X_norm = X_train - X_train_mean\n",
    "\n",
    "# Calcular la nueva matriz de covarianzas del conjunto de datos estandarizados\n",
    "X_train_cov = np.cov(X_norm, rowvar=False)\n",
    "\n",
    "# Calcular la descomposición espectral de la matriz de covarianzas\n",
    "u, autoval, autovec = np.linalg.svd(X_train_cov, full_matrices=False) # tarda 68.246s\n",
    "\n",
    "# Construir la matriz de proyección A seleccionando las 68 componentes principales\n",
    "n_componentes = 68 # hiperparámetro\n",
    "A = autovec[:n_componentes]\n",
    "\n",
    "# Proyectar el conjunto de datos de entrenamiento estandarizado sobre el nuevo espacio\n",
    "X_train_final_ACP = (A @ X_norm.T).T\n",
    "\n",
    "# Proyectar el conjunto de datos de test sobre el nuevo espacio:\n",
    "X_test_final_ACP = (A @ (X_test - np.mean(X_test, axis=0)).T).T\n",
    "\n",
    "print(\"X_train_final_ACP:\", X_train_final_ACP.shape)\n",
    "print(\"X_test_final_ACP:\", X_test_final_ACP.shape)"
   ]
  },
  {
   "cell_type": "markdown",
   "metadata": {},
   "source": [
    "Ahora se calculan y visualizan las varianzas acumuladas para estimar el hiperparámetro $c$ de ADL, pero primero hay que calcular las matrices $S_{w}$ y $S_{b}$:"
   ]
  },
  {
   "cell_type": "code",
   "execution_count": 51,
   "metadata": {},
   "outputs": [],
   "source": [
    "# Calcular las matrices Sb y Sw (ver apartado de Análisis Discriminante Lineal de la introducción).\n",
    "n_caracteristicas = X_train_final_ACP.shape[1]\n",
    "Sw = np.zeros((n_caracteristicas, n_caracteristicas))\n",
    "Sb = np.zeros((n_caracteristicas, n_caracteristicas))\n",
    "n_clases = len(np.unique(y_train))\n",
    "mu_clases = np.mean(X_train_final_ACP, axis=0)\n",
    "for i in range(n_clases):\n",
    "    X_clase = X_train_final_ACP[y_train==i]\n",
    "    Sw = Sw + np.cov(X_clase, rowvar=False)\n",
    "    Sb = Sb + (len(X_clase) * ((X_clase - mu_clases).T @ (X_clase - mu_clases)))\n",
    "\n",
    "# Calcular la descomposición espectral de la matriz Sw^-1 Sb\n",
    "u, autoval, autovec = np.linalg.svd((np.linalg.inv(Sw)@Sb), full_matrices=False) # tarda 68.246s\n"
   ]
  },
  {
   "cell_type": "markdown",
   "metadata": {},
   "source": [
    "Ahora se pueden visualizar las varianzas acumuladas para el conjunto de datos obtenido de hacer ACP con $k=68$ componentes."
   ]
  },
  {
   "cell_type": "code",
   "execution_count": 52,
   "metadata": {},
   "outputs": [
    {
     "name": "stdout",
     "output_type": "stream",
     "text": [
      "\t  1: 0.638590\t  2: 0.818469\t  3: 0.865391\t  4: 0.893118\t  5: 0.913279\t  6: 0.929994\t  7: 0.941599\t  8: 0.952724\t  9: 0.960716\n",
      "\t 10: 0.965241\t 11: 0.967882\t 12: 0.970030\t 13: 0.971660\t 14: 0.973022\t 15: 0.974177\t 16: 0.975133\t 17: 0.976004\t 18: 0.976779\n",
      "\t 19: 0.977474\t 20: 0.978121\t 21: 0.978760\t 22: 0.979386\t 23: 0.979963\t 24: 0.980517\t 25: 0.981032\t 26: 0.981507\t 27: 0.981982\n",
      "\t 28: 0.982457\t 29: 0.982932\t 30: 0.983407\t 31: 0.983882\t 32: 0.984357\t 33: 0.984831\t 34: 0.985306\t 35: 0.985781\t 36: 0.986256\n",
      "\t 37: 0.986730\t 38: 0.987205\t 39: 0.987679\t 40: 0.988154\t 41: 0.988628\t 42: 0.989102\t 43: 0.989576\t 44: 0.990050\t 45: 0.990523\n",
      "\t 46: 0.990995\t 47: 0.991466\t 48: 0.991936\t 49: 0.992405\t 50: 0.992873\t 51: 0.993340\t 52: 0.993803\t 53: 0.994265\t 54: 0.994721\n",
      "\t 55: 0.995175\t 56: 0.995628\t 57: 0.996078\t 58: 0.996512\t 59: 0.996939\t 60: 0.997364\t 61: 0.997776\t 62: 0.998177\t 63: 0.998561\n",
      "\t 64: 0.998938\t 65: 0.999270\t 66: 0.999577\t 67: 0.999809\t 68: 1.000000"
     ]
    }
   ],
   "source": [
    "print_cumvar(autoval, X_train.shape[0], 1, 68)"
   ]
  },
  {
   "cell_type": "markdown",
   "metadata": {},
   "source": [
    "Para conservar el 99% de la varianza, hay que seleccionar 44 componentes de la nueva matriz $A$."
   ]
  },
  {
   "cell_type": "code",
   "execution_count": 53,
   "metadata": {},
   "outputs": [
    {
     "name": "stdout",
     "output_type": "stream",
     "text": [
      "X_train_final_ACP_ADL: (6238, 44)\n",
      "X_test_final_ACP_ADL: (1559, 44)\n"
     ]
    }
   ],
   "source": [
    "# Seleccionamos las 44 primeras componentes\n",
    "A = autovec[:44]\n",
    "# Proyectar el conjunto de datos de entrenamiento estandarizado sobre el nuevo espacio\n",
    "X_train_final_ACP_ADL = (A @ X_train_final_ACP.T).T\n",
    "# Proyectar el conjunto de datos de test sobre el nuevo espacio:\n",
    "X_test_final_ACP_ADL = (A @ X_test_final_ACP.T).T\n",
    "\n",
    "print(\"X_train_final_ACP_ADL:\", X_train_final_ACP_ADL.shape)\n",
    "print(\"X_test_final_ACP_ADL:\", X_test_final_ACP_ADL.shape)"
   ]
  },
  {
   "cell_type": "code",
   "execution_count": 54,
   "metadata": {},
   "outputs": [
    {
     "name": "stdout",
     "output_type": "stream",
     "text": [
      "max_score exclusion:\t\t0.9545\n",
      "best hyperparams:\n",
      "\tgamma: 0.3 lambda: 0.0\n"
     ]
    }
   ],
   "source": [
    "# Entrenar el clasificador y evaluarlo para cada combinación de lambda y gamma\n",
    "# IMPORTANTE: el siguiente fragmento de codigo tarda en ejecutar unos 7 segundos.\n",
    "#             Los resultados se han precalculado y están guardados en scores_exclusion por si no se quiere ejecutar esta parte.\n",
    "\n",
    "scores_exclusion = np.array([[0.933932, 0.953175, 0.940988, 0.937139, 0.934573, 0.933291, 0.932649, 0.932008, 0.931366, 0.930725, 0.929442],\n",
    "                            [0.950609, 0.950609, 0.940346, 0.935215, 0.933291, 0.932008, 0.932649, 0.931366, 0.931366, 0.930725, 0.926876],\n",
    "                            [0.953817, 0.946119, 0.940988, 0.936498, 0.933291, 0.932649, 0.931366, 0.928801, 0.927518, 0.924952, 0.924952],\n",
    "                            [0.954458, 0.944836, 0.938422, 0.934573, 0.932008, 0.930725, 0.930083, 0.926876, 0.926235, 0.924952, 0.924310],\n",
    "                            [0.953817, 0.944195, 0.935856, 0.933932, 0.929442, 0.927518, 0.924952, 0.924310, 0.924310, 0.924310, 0.924310],\n",
    "                            [0.953175, 0.939705, 0.932008, 0.929442, 0.928159, 0.926235, 0.924952, 0.924310, 0.924310, 0.924310, 0.923669],\n",
    "                            [0.950609, 0.932008, 0.930083, 0.926235, 0.924310, 0.923669, 0.923669, 0.922386, 0.921745, 0.921745, 0.921103],\n",
    "                            [0.947402, 0.932008, 0.925593, 0.923669, 0.921745, 0.919179, 0.918538, 0.918538, 0.917896, 0.917896, 0.917255],\n",
    "                            [0.940988, 0.921103, 0.917896, 0.916613, 0.915972, 0.914689, 0.913406, 0.913406, 0.911482, 0.911482, 0.910840],\n",
    "                            [0.922386, 0.908916, 0.903784, 0.903143, 0.903143, 0.900577, 0.900577, 0.900577, 0.900577, 0.900577, 0.899294],\n",
    "                            [0.881976, 0.881334, 0.883258, 0.883900, 0.883258, 0.883258, 0.883258, 0.883258, 0.883258, 0.883258, 0.883258]])\n",
    "\n",
    "best_g = [0.3]\n",
    "best_l = [0.0]\n",
    "\n",
    "#scores_exclusion, best_g, best_l = GridSearchExclusion(X_train_final_ACP_ADL, y_train, X_test_final_ACP_ADL, y_test)\n",
    "\n",
    "print(\"max_score exclusion:\\t\\t%.4f\" % np.max(scores_exclusion))\n",
    "print(\"best hyperparams:\")\n",
    "for e in range(len(best_g)):\n",
    "    print(\"\\tgamma: %1.1f lambda: %1.1f\" % (best_g[e], best_l[e]))\n"
   ]
  },
  {
   "cell_type": "markdown",
   "metadata": {},
   "source": [
    "Se han empleado los datos `X_train_final_ACP_ADL` y `X_test_final_ACP_ADL`, que se han obtenido previamente seleccionando las 44 primeras componentes principales seleccionadas por ADL, de las 68 primeras componentes principales seleccionadas por ACP."
   ]
  },
  {
   "cell_type": "code",
   "execution_count": 178,
   "metadata": {},
   "outputs": [
    {
     "data": {
      "image/png": "[encoded data removed]",
      "text/plain": [
       "<Figure size 432x288 with 2 Axes>"
      ]
     },
     "metadata": {
      "needs_background": "light"
     },
     "output_type": "display_data"
    }
   ],
   "source": [
    "plot_scores(scores_exclusion)"
   ]
  },
  {
   "cell_type": "markdown",
   "metadata": {},
   "source": [
    "Como se puede observar, por lo general cuanto menor sean los valores de los hiperparámetros $\\lambda$ y $\\gamma$, mejores resultados se obtiene (sobre todo en el parámetro $\\lambda$), excepto en el caso de $\\lambda = \\gamma = 0$. La máxima puntuación es de 95,45%. Ahora seleccionaremos las componentes correspondientes al 99,9% de la varianza de las 68 componentes seleccionadas con ACP (igual que en el caso de 44 componentes para un 99%, pero esta vez para 99,9%). El número correspondiente es 65 componentes."
   ]
  },
  {
   "cell_type": "code",
   "execution_count": 55,
   "metadata": {},
   "outputs": [
    {
     "name": "stdout",
     "output_type": "stream",
     "text": [
      "X_train_final_ACP_ADL: (6238, 65)\n",
      "X_test_final_ACP_ADL: (1559, 65)\n"
     ]
    }
   ],
   "source": [
    "# Seleccionamos las 65 primeras componentes\n",
    "A = autovec[:65]\n",
    "# Proyectar el conjunto de datos de entrenamiento estandarizado sobre el nuevo espacio\n",
    "X_train_final_ACP_ADL = (A @ X_train_final_ACP.T).T\n",
    "# Proyectar el conjunto de datos de test sobre el nuevo espacio:\n",
    "X_test_final_ACP_ADL = (A @ X_test_final_ACP.T).T\n",
    "\n",
    "print(\"X_train_final_ACP_ADL:\", X_train_final_ACP_ADL.shape)\n",
    "print(\"X_test_final_ACP_ADL:\", X_test_final_ACP_ADL.shape)"
   ]
  },
  {
   "cell_type": "code",
   "execution_count": 56,
   "metadata": {},
   "outputs": [
    {
     "name": "stdout",
     "output_type": "stream",
     "text": [
      "max_score exclusion:\t\t0.9622\n",
      "best hyperparams:\n",
      "\tgamma: 0.4 lambda: 0.0\n"
     ]
    }
   ],
   "source": [
    "# Entrenar el clasificador y evaluarlo para cada combinación de lambda y gamma\n",
    "# IMPORTANTE: el siguiente fragmento de codigo tarda en ejecutar unos 14 segundos.\n",
    "#             Los resultados se han precalculado y están guardados en scores_exclusion por si no se quiere ejecutar esta parte.\n",
    "\n",
    "scores_exclusion = np.array([[0.933932, 0.954458, 0.948044, 0.940988, 0.936498, 0.936498, 0.935856, 0.934573, 0.935215, 0.933291, 0.932008],\n",
    "                            [0.949326, 0.956382, 0.948044, 0.942271, 0.939064, 0.937781, 0.935215, 0.935215, 0.934573, 0.933291, 0.931366],\n",
    "                            [0.955099, 0.957024, 0.949326, 0.944836, 0.940988, 0.937781, 0.935215, 0.933291, 0.933291, 0.932649, 0.932008],\n",
    "                            [0.960231, 0.954458, 0.945478, 0.941629, 0.938422, 0.935856, 0.933932, 0.933291, 0.932008, 0.931366, 0.930725],\n",
    "                            [0.962155, 0.953175, 0.944836, 0.938422, 0.936498, 0.934573, 0.934573, 0.933932, 0.932008, 0.931366, 0.930083],\n",
    "                            [0.958948, 0.948685, 0.940346, 0.935856, 0.935215, 0.934573, 0.932649, 0.931366, 0.930083, 0.929442, 0.928159],\n",
    "                            [0.958948, 0.944195, 0.935856, 0.933291, 0.931366, 0.929442, 0.928801, 0.926876, 0.925593, 0.924952, 0.924310],\n",
    "                            [0.955741, 0.937781, 0.933291, 0.930725, 0.927518, 0.924952, 0.923669, 0.921103, 0.919820, 0.919820, 0.919820],\n",
    "                            [0.951251, 0.930725, 0.923669, 0.921103, 0.918538, 0.917896, 0.915972, 0.915330, 0.914047, 0.913406, 0.912765],\n",
    "                            [0.929442, 0.912123, 0.905709, 0.905067, 0.902502, 0.901860, 0.901860, 0.901219, 0.899936, 0.899936, 0.900577],\n",
    "                            [0.870430, 0.874278, 0.873637, 0.872996, 0.872996, 0.872996, 0.873637, 0.873637, 0.873637, 0.873637, 0.873637]])\n",
    "\n",
    "best_g = [0.4]\n",
    "best_l = [0.0]\n",
    "\n",
    "#scores_exclusion, best_g, best_l = GridSearchExclusion(X_train_final_ACP_ADL, y_train, X_test_final_ACP_ADL, y_test)\n",
    "\n",
    "print(\"max_score exclusion:\\t\\t%.4f\" % np.max(scores_exclusion))\n",
    "print(\"best hyperparams:\")\n",
    "for e in range(len(best_g)):\n",
    "    print(\"\\tgamma: %1.1f lambda: %1.1f\" % (best_g[e], best_l[e]))\n"
   ]
  },
  {
   "cell_type": "markdown",
   "metadata": {},
   "source": [
    "Se han empleado los datos `X_train_final_ACP_ADL` y `X_test_final_ACP_ADL`, que se han obtenido previamente seleccionando las 65 primeras componentes principales seleccionadas por ADL, de las 68 primeras componentes principales seleccionadas por ACP."
   ]
  },
  {
   "cell_type": "code",
   "execution_count": 57,
   "metadata": {},
   "outputs": [
    {
     "data": {
      "image/png": "[encoded data removed]",
      "text/plain": [
       "<Figure size 432x288 with 2 Axes>"
      ]
     },
     "metadata": {
      "needs_background": "light"
     },
     "output_type": "display_data"
    }
   ],
   "source": [
    "plot_scores(scores_exclusion)"
   ]
  },
  {
   "cell_type": "markdown",
   "metadata": {},
   "source": [
    "Estamos en un caso similar al anterior, sólo que la major tasa de aciertos obtenida es 96,22%. En el caso anterior (seleccionando las correspondientes al 99% de la varianza de las 68 seleccionadas por ACP) se obtenía una tasa de aciertos del 95,45%. "
   ]
  },
  {
   "cell_type": "markdown",
   "metadata": {},
   "source": [
    "##### **ADL** -> **ACP**\n",
    "\n",
    "Para ADL habíamos seleccionado 527 componentes, que mantienen el 99,9% de la varianza."
   ]
  },
  {
   "cell_type": "code",
   "execution_count": 58,
   "metadata": {},
   "outputs": [
    {
     "name": "stdout",
     "output_type": "stream",
     "text": [
      "X_train_final_ADL: (6238, 527)\n",
      "X_test_final_ADL: (1559, 527)\n"
     ]
    }
   ],
   "source": [
    "# Calcular la matriz A\n",
    "# Calcular las matrices Sb y Sw (ver apartado de Análisis Discriminante Lineal de la introducción).\n",
    "n_caracteristicas = X_train.shape[1]\n",
    "Sw = np.zeros((n_caracteristicas, n_caracteristicas))\n",
    "Sb = np.zeros((n_caracteristicas, n_caracteristicas))\n",
    "n_clases = len(np.unique(y_train))\n",
    "mu_clases = np.mean(X_train, axis=0)\n",
    "for i in range(n_clases):\n",
    "    X_clase = X_train[y_train==i]\n",
    "    Sw = Sw + np.cov(X_clase, rowvar=False)\n",
    "    Sb = Sb + (len(X_clase) * ((X_clase - mu_clases).T @ (X_clase - mu_clases)))\n",
    "\n",
    "# Calcular la descomposición espectral de la matriz Sw^-1 Sb\n",
    "u, autoval, autovec = np.linalg.svd((np.linalg.inv(Sw)@Sb), full_matrices=False) # tarda 68.246s\n",
    "\n",
    "# Calcular la matriz A, seleccionando 527 componentes\n",
    "A = autovec[:527]\n",
    "# Proyectar el conjunto de datos de entrenamiento sobre el nuevo espacio\n",
    "X_train_final_ADL = (A @ X_train.T).T\n",
    "# Proyectar el conjunto de datos de test sobre el nuevo espacio:\n",
    "X_test_final_ADL = (A @ X_test.T).T\n",
    "\n",
    "print(\"X_train_final_ADL:\", X_train_final_ADL.shape)\n",
    "print(\"X_test_final_ADL:\", X_test_final_ADL.shape)"
   ]
  },
  {
   "cell_type": "markdown",
   "metadata": {},
   "source": [
    "Ahora se calculan y visualizan las varianzas acumuladas para estimar el hiperparámetro $k$ de ACP, pero primero hay que calcular la descomposición espectral de la matriz de covarianzas de `X_train_final_ADL`:"
   ]
  },
  {
   "cell_type": "code",
   "execution_count": 59,
   "metadata": {},
   "outputs": [],
   "source": [
    "# Calcular la media del conjunto de datos de entrenamiento\n",
    "X_train_mean = np.mean(X_train_final_ADL, axis=0)\n",
    "\n",
    "# Estandarizar el conjunto de datos de entrenamiento\n",
    "X_norm = X_train_final_ADL - X_train_mean\n",
    "\n",
    "# Calcular la nueva matriz de covarianzas del conjunto de datos estandarizados\n",
    "X_train_cov = np.cov(X_norm, rowvar=False)\n",
    "\n",
    "# Calcular la descomposición espectral de la matriz de covarianzas\n",
    "u, autoval, autovec = np.linalg.svd(X_train_cov, full_matrices=False) # tarda 68.246s\n"
   ]
  },
  {
   "cell_type": "markdown",
   "metadata": {},
   "source": [
    "Ahora se pueden visualizar las varianzas acumuladas para el conjunto de datos obtenido de hacer ADL con $k=527$ componentes."
   ]
  },
  {
   "cell_type": "code",
   "execution_count": 60,
   "metadata": {},
   "outputs": [
    {
     "name": "stdout",
     "output_type": "stream",
     "text": [
      "\t  1: 0.772973\t  2: 0.870120\t  3: 0.911416\t  4: 0.933808\t  5: 0.953047\t  6: 0.965424\t  7: 0.973532\t  8: 0.978324\t  9: 0.981497\n",
      "\t 10: 0.984010\t 11: 0.985972\t 12: 0.987566\t 13: 0.988882\t 14: 0.990072\t 15: 0.991160\t 16: 0.992032\t 17: 0.992810\t 18: 0.993523\n",
      "\t 19: 0.994127\t 20: 0.994585\t 21: 0.994982\t 22: 0.995317\t 23: 0.995619\t 24: 0.995896\t 25: 0.996157\t 26: 0.996395\t 27: 0.996608\n",
      "\t 28: 0.996799\t 29: 0.996961\t 30: 0.997109\t 31: 0.997244\t 32: 0.997365\t 33: 0.997484\t 34: 0.997593\t 35: 0.997697\t 36: 0.997798\n",
      "\t 37: 0.997891\t 38: 0.997975\t 39: 0.998056\t 40: 0.998131\t 41: 0.998201\t 42: 0.998265\t 43: 0.998327\t 44: 0.998387\t 45: 0.998443\n",
      "\t 46: 0.998496\t 47: 0.998548\t 48: 0.998596\t 49: 0.998644\t 50: 0.998689\t 51: 0.998732\t 52: 0.998773\t 53: 0.998814\t 54: 0.998850\n",
      "\t 55: 0.998886\t 56: 0.998921\t 57: 0.998955\t 58: 0.998988\t 59: 0.999020\t 60: 0.999049\t 61: 0.999077\t 62: 0.999105\t 63: 0.999130\n",
      "\t 64: 0.999156\t 65: 0.999180\t 66: 0.999204\t 67: 0.999227\t 68: 0.999249\t 69: 0.999270\t 70: 0.999290\t 71: 0.999310\t 72: 0.999329\n",
      "\t 73: 0.999347\t 74: 0.999363\t 75: 0.999380\t 76: 0.999396\t 77: 0.999411\t 78: 0.999426\t 79: 0.999440\t 80: 0.999454\t 81: 0.999468\n",
      "\t 82: 0.999481\t 83: 0.999494\t 84: 0.999506\t 85: 0.999518\t 86: 0.999529\t 87: 0.999540\t 88: 0.999551\t 89: 0.999562\t 90: 0.999572\n",
      "\t 91: 0.999582\t 92: 0.999592\t 93: 0.999602\t 94: 0.999611\t 95: 0.999619\t 96: 0.999628\t 97: 0.999636\t 98: 0.999644\t 99: 0.999651\n",
      "\t100: 0.999659"
     ]
    }
   ],
   "source": [
    "print_cumvar(autoval, X_train.shape[0], 1, 100)"
   ]
  },
  {
   "cell_type": "markdown",
   "metadata": {},
   "source": [
    "Para conservar el 99% de la varianza, hay que seleccionar 14 componentes para la nueva matriz $A$."
   ]
  },
  {
   "cell_type": "code",
   "execution_count": 61,
   "metadata": {},
   "outputs": [
    {
     "name": "stdout",
     "output_type": "stream",
     "text": [
      "X_train_final_ADL_ACP: (6238, 14)\n",
      "X_test_final_ADL_ACP: (1559, 14)\n"
     ]
    }
   ],
   "source": [
    "# Construir la matriz de proyección A seleccionando las n_componentes componentes principales\n",
    "A = autovec[:14]\n",
    "\n",
    "# Proyectar el conjunto de datos de entrenamiento estandarizado sobre el nuevo espacio\n",
    "X_train_final_ADL_ACP = (A @ X_norm.T).T\n",
    "\n",
    "# Proyectar el conjunto de datos de test sobre el nuevo espacio:\n",
    "X_test_final_ADL_ACP = (A @ (X_test_final_ADL - np.mean(X_test_final_ADL, axis=0)).T).T\n",
    "\n",
    "print(\"X_train_final_ADL_ACP:\", X_train_final_ADL_ACP.shape)\n",
    "print(\"X_test_final_ADL_ACP:\", X_test_final_ADL_ACP.shape)"
   ]
  },
  {
   "cell_type": "code",
   "execution_count": 62,
   "metadata": {},
   "outputs": [
    {
     "name": "stdout",
     "output_type": "stream",
     "text": [
      "Finalizado en 1.159s\n",
      "max_score exclusion:\t\t0.8820\n",
      "best hyperparams:\n",
      "\tgamma: 0.3 lambda: 0.0\n"
     ]
    }
   ],
   "source": [
    "# Entrenar el clasificador y evaluarlo para cada combinación de lambda y gamma\n",
    "scores_exclusion, best_g, best_l = GridSearchExclusion(X_train_final_ADL_ACP, y_train, X_test_final_ADL_ACP, y_test)\n",
    "\n",
    "print(\"max_score exclusion:\\t\\t%.4f\" % np.max(scores_exclusion))\n",
    "print(\"best hyperparams:\")\n",
    "for e in range(len(best_g)):\n",
    "    print(\"\\tgamma: %1.1f lambda: %1.1f\" % (best_g[e], best_l[e]))"
   ]
  },
  {
   "cell_type": "markdown",
   "metadata": {},
   "source": [
    "Se han empleado los datos `X_train_final_ADL_ACP` y `X_test_final_ADL_ACP`, que se han obtenido previamente seleccionando las 14 primeras componentes principales seleccionadas por ADL, de las 527 primeras componentes principales seleccionadas por ACP."
   ]
  },
  {
   "cell_type": "code",
   "execution_count": 63,
   "metadata": {},
   "outputs": [
    {
     "data": {
      "image/png": "[encoded data removed]",
      "text/plain": [
       "<Figure size 432x288 with 2 Axes>"
      ]
     },
     "metadata": {
      "needs_background": "light"
     },
     "output_type": "display_data"
    }
   ],
   "source": [
    "plot_scores(scores_exclusion)"
   ]
  },
  {
   "cell_type": "markdown",
   "metadata": {},
   "source": [
    "Como se puede observar, por lo general cuanto menor sean los valores de los hiperparámetros $\\lambda$ y $\\gamma$, mejores resultados se obtiene (sobre todo en el parámetro $\\lambda$). La máxima puntuación es de 88,2%.\n",
    "\n",
    "Ahora seleccionaremos las componentes correspondientes al 99,9% de la varianza de las 527 componentes seleccionadas con ADL (igual que en el caso de 14 componentes para un 99%, pero esta vez para 99,9%). El número correspondiente es 59 componentes."
   ]
  },
  {
   "cell_type": "code",
   "execution_count": 64,
   "metadata": {},
   "outputs": [
    {
     "name": "stdout",
     "output_type": "stream",
     "text": [
      "X_train_final_ADL_ACP: (6238, 59)\n",
      "X_test_final_ADL_ACP: (1559, 59)\n"
     ]
    }
   ],
   "source": [
    "# Seleccionamos las 65 primeras componentes\n",
    "A = autovec[:59]\n",
    "# Proyectar el conjunto de datos de entrenamiento estandarizado sobre el nuevo espacio\n",
    "X_train_final_ADL_ACP = (A @ X_train_final_ADL.T).T\n",
    "# Proyectar el conjunto de datos de test sobre el nuevo espacio:\n",
    "X_test_final_ADL_ACP = (A @ X_test_final_ADL.T).T\n",
    "\n",
    "print(\"X_train_final_ADL_ACP:\", X_train_final_ADL_ACP.shape)\n",
    "print(\"X_test_final_ADL_ACP:\", X_test_final_ADL_ACP.shape)"
   ]
  },
  {
   "cell_type": "code",
   "execution_count": 65,
   "metadata": {},
   "outputs": [
    {
     "name": "stdout",
     "output_type": "stream",
     "text": [
      "max_score exclusion:\t\t0.9654\n",
      "best hyperparams:\n",
      "\tgamma: 0.4 lambda: 0.0\n"
     ]
    }
   ],
   "source": [
    "# Entrenar el clasificador y evaluarlo para cada combinación de lambda y gamma\n",
    "# IMPORTANTE: el siguiente fragmento de codigo tarda en ejecutar unos 12 segundos.\n",
    "#             Los resultados se han precalculado y están guardados en scores_exclusion por si no se quiere ejecutar esta parte.\n",
    "\n",
    "scores_exclusion = np.array([[0.932649, 0.954458, 0.948685, 0.944836, 0.942271, 0.940346, 0.940346, 0.937781, 0.937139, 0.936498, 0.935215],\n",
    "                            [0.953175, 0.955099, 0.951251, 0.946119, 0.944195, 0.940988, 0.939064, 0.937139, 0.935856, 0.935215, 0.934573],\n",
    "                            [0.960872, 0.954458, 0.949968, 0.946119, 0.940988, 0.939705, 0.937781, 0.937139, 0.936498, 0.935856, 0.935215],\n",
    "                            [0.962797, 0.954458, 0.948044, 0.942271, 0.939705, 0.937139, 0.936498, 0.935215, 0.934573, 0.934573, 0.933932],\n",
    "                            [0.965362, 0.953817, 0.942912, 0.939064, 0.937781, 0.937139, 0.936498, 0.935215, 0.934573, 0.933291, 0.932649],\n",
    "                            [0.960231, 0.951892, 0.941629, 0.937139, 0.936498, 0.935856, 0.934573, 0.933932, 0.933291, 0.933291, 0.931366],\n",
    "                            [0.957024, 0.946119, 0.937139, 0.935215, 0.933291, 0.932008, 0.930725, 0.928801, 0.928801, 0.926876, 0.926235],\n",
    "                            [0.952534, 0.939064, 0.931366, 0.930083, 0.927518, 0.926876, 0.926876, 0.925593, 0.924952, 0.924952, 0.924952],\n",
    "                            [0.942912, 0.929442, 0.923669, 0.920462, 0.919820, 0.919179, 0.917896, 0.916613, 0.915972, 0.915330, 0.914689],\n",
    "                            [0.926235, 0.911482, 0.908916, 0.906350, 0.905067, 0.904426, 0.903784, 0.903784, 0.903784, 0.903143, 0.902502],\n",
    "                            [0.867864, 0.867864, 0.867864, 0.868505, 0.868505, 0.868505, 0.868505, 0.868505, 0.868505, 0.868505, 0.868505]])\n",
    "\n",
    "best_g = [0.4]\n",
    "best_l = [0.0]\n",
    "\n",
    "#scores_exclusion, best_g, best_l = GridSearchExclusion(X_train_final_ADL_ACP, y_train, X_test_final_ADL_ACP, y_test)\n",
    "\n",
    "print(\"max_score exclusion:\\t\\t%.4f\" % np.max(scores_exclusion))\n",
    "print(\"best hyperparams:\")\n",
    "for e in range(len(best_g)):\n",
    "    print(\"\\tgamma: %1.1f lambda: %1.1f\" % (best_g[e], best_l[e]))"
   ]
  },
  {
   "cell_type": "markdown",
   "metadata": {},
   "source": [
    "Se han empleado los datos `X_train_final_ADL_ACP` y `X_test_final_ADL_ACP`, que se han obtenido previamente seleccionando las 59 primeras componentes principales seleccionadas por ACP, de las 527 primeras componentes principales seleccionadas por ADL."
   ]
  },
  {
   "cell_type": "code",
   "execution_count": 66,
   "metadata": {},
   "outputs": [
    {
     "data": {
      "image/png": "[encoded data removed]",
      "text/plain": [
       "<Figure size 432x288 with 2 Axes>"
      ]
     },
     "metadata": {
      "needs_background": "light"
     },
     "output_type": "display_data"
    }
   ],
   "source": [
    "plot_scores(scores_exclusion)"
   ]
  },
  {
   "cell_type": "markdown",
   "metadata": {},
   "source": [
    "Estamos en una situación mejor que la anterior. La tasa de aciertos obtenida es 96,54%, mientras que en el caso anterior (seleccionando las correspondientes al 99% de la varianza de las 527 seleccionadas por ADL) se obtenía una tasa de aciertos del 88,20%. "
   ]
  },
  {
   "cell_type": "markdown",
   "metadata": {},
   "source": [
    "***"
   ]
  },
  {
   "cell_type": "markdown",
   "metadata": {},
   "source": [
    "##### **Resultados de los experimentos con la base de datos Isolet:**\n",
    "\n",
    "En los casos en los que se prueba primero ACP y luego ADL (y viceversa), de la \"primera fase\" se seleccionan las componentes correspondientes que conservan el 99,9% de la varianza. En la \"segunda fase\" se seleccionan las componentes correspondientes al 99% y 99,9% de la varianza acumulada. También se indican (cuando corresponde) los hiperparámetros $\\lambda$ y $\\gamma$ que mejores resultados dan. Tanto en ACP como en ADL, se emplea el clasificador estadístico regularizado (nuestra implementación).\n",
    "\n",
    "| Técnica empleada | nº de componentes seleccionadas | nº de componentes totales| proporción de varianza conservado | Tasa de aciertos (por exclusion) | gamma | lambda |\n",
    "| --- | --- | --- | --- | --- | --- | --- |\n",
    "| Clasificador distancia euclídea | - | 617 | 1.00 | 0.8743 | - | - |\n",
    "||||||||\n",
    "| Estadístico regularizado de sklearn   | - | - | 1.0 | 0.956 | 0.23 | - |\n",
    "||||||||\n",
    "| Estadístico regularizado con ACP          | 100 | 617 | 0.999572 | 0.9660 | 0.4 | 0 |\n",
    "| Estadístico regularizado con ACP (99%)   | 18 | 617 | 0.990238 | 0.9140 | 0.2 | 0 |\n",
    "| Estadístico regularizado con ACP (99,9%)  | 68 | 617 | 0.999015 | 0.9666 | 0.4 | 0 |\n",
    "||||||||\n",
    "| Estadístico regularizado con ADL (99%)   | 15 | 617 | 0.990363 | 0.9307 | 0.3 | 0 |\n",
    "| Estadístico regularizado con ADL (99,9%) | 527 | 617 | 0.999003 | 0.0385 | 0 | 0 |\n",
    "||||||||\n",
    "| Est. reg. con ACP y ADL (99%)  | 44 | 68 | 0.990050 | 0.9545 | 0.3 | 0 |\n",
    "| Est. reg. con ACP y ADL (99,9%)| 65 | 68 | 0.999270 | 0.9622 | 0.4 | 0 |\n",
    "||||||||\n",
    "| Est. reg. con ADL y ACP (99%)  | 14 | 527 | 0.990072 | 0.8820 | 0.3 | 0 |\n",
    "| Est. reg. con ADL y ACP (99,9%)| 59 | 527 | 0.999020 | 0.9654 | 0.4 | 0 |\n"
   ]
  },
  {
   "cell_type": "markdown",
   "metadata": {},
   "source": [
    "Como se puede observar, la mejor tasa de aciertos que hemos conseguido en la base de datos Isolet, es de 96,66%. Este resultado se obtiene seleccionando las 68 componentes principales más importantes, que conservan un 99,9015% de la varianza total de los datos, y con hiperparámetros $\\gamma=0.4$ y $\\lambda=0$.\n",
    "\n",
    "El motivo por el que no conseguimos que la tasa de aciertos aumente más es porque la base de datos presenta muchos datos atípicos. Vamos a visualizar los diagramas de cajas de los datos de las clases 5 y 6 (por ejemplo). Se muestran las 15 primeras componentes porque las 617 totales son demasiadas para visualizar en una gráfica."
   ]
  },
  {
   "cell_type": "code",
   "execution_count": 67,
   "metadata": {},
   "outputs": [
    {
     "data": {
      "image/png": "[encoded data removed]",
      "text/plain": [
       "<Figure size 1368x360 with 2 Axes>"
      ]
     },
     "metadata": {
      "needs_background": "light"
     },
     "output_type": "display_data"
    }
   ],
   "source": [
    "# visualizar las [start:end] componentes de las clases clase1 y clase2\n",
    "start = 15\n",
    "end = 50\n",
    "clase1 = 5\n",
    "clase2 = 6\n",
    "\n",
    "fig = plt.figure(figsize=(19, 5))\n",
    "ax = fig.add_subplot(121)\n",
    "bp = ax.boxplot(X[y==clase1][:,start:end])\n",
    "labels = ax.set_xticklabels(list(range(start, end)))\n",
    "title = ax.set_title('clase %d' % clase1)\n",
    "\n",
    "ax = fig.add_subplot(122)\n",
    "bp = ax.boxplot(X[y==clase2][:,start:end])\n",
    "labels = ax.set_xticklabels(list(range(start, end)))\n",
    "title = ax.set_title('clase %d' % clase2)"
   ]
  },
  {
   "cell_type": "markdown",
   "metadata": {},
   "source": [
    "Como se puede observar, algunas de las componentes (dimensiones del vector X, sin reducción de dimensiones) presentan una gran cantidad de datos atípicos. También se puede visualizar la similitud entre algunas de las componentes, por ejemplo la 18. Estas componentes muy parecidas son las que causaban el *overfitting*."
   ]
  },
  {
   "cell_type": "markdown",
   "metadata": {},
   "source": [
    "# **Reconocedor de Caras**\n",
    "\n",
    "\n",
    "A continuación se muestra el código necesario para implementar un reconocedor de caras. Como nuestro Dataset tenemos el \"Labeled Faces in the Wild\" o LFW\n"
   ]
  },
  {
   "cell_type": "markdown",
   "metadata": {},
   "source": [
    "Importamos las bibliotecas necesarias:"
   ]
  },
  {
   "cell_type": "code",
   "execution_count": null,
   "metadata": {
    "collapsed": false,
    "jupyter": {
     "outputs_hidden": false
    },
    "pycharm": {
     "name": "#%%\n"
    }
   },
   "outputs": [],
   "source": [
    "\n",
    "import logging\n",
    "import matplotlib.pyplot as plt\n",
    "import numpy as np\n",
    "from time import time\n",
    "\n",
    "from sklearn.decomposition import PCA\n",
    "from sklearn.svm import SVC\n",
    "\n",
    "from sklearn.model_selection import train_test_split\n",
    "from sklearn.model_selection import GridSearchCV\n",
    "\n",
    "from sklearn.discriminant_analysis import LinearDiscriminantAnalysis #as LDA\n",
    "\n",
    "from sklearn.naive_bayes import GaussianNB\n",
    "from sklearn.datasets import fetch_lfw_people\n",
    "from sklearn.metrics import classification_report\n",
    "from sklearn.metrics import confusion_matrix\n",
    "\n"
   ]
  },
  {
   "cell_type": "markdown",
   "metadata": {},
   "source": [
    "Cargamos el dataset:"
   ]
  },
  {
   "cell_type": "code",
   "execution_count": null,
   "metadata": {
    "collapsed": false,
    "jupyter": {
     "outputs_hidden": false
    },
    "pycharm": {
     "name": "#%%\n"
    }
   },
   "outputs": [],
   "source": [
    "lfw_people = fetch_lfw_people(min_faces_per_person=73, resize=0.5)\n",
    "\n",
    "n_samples, h, w = lfw_people.images.shape\n",
    "\n",
    "X = lfw_people.data\n",
    "n_features = X.shape[1]\n",
    "\n",
    "y = lfw_people.target\n",
    "target_names = lfw_people.target_names\n",
    "n_classes = target_names.shape[0]\n",
    "\n",
    "print(\"Tamaño total del dataset:\")\n",
    "print(f\"n_samples: {n_samples}, hxw: {h} x {w}\")\n",
    "print(f\"Numero de caracteristicas: {n_features}, actually {h} x {w} = {h*w}\")\n",
    "print(f\"Numero de clases: {n_classes}, nombres: {target_names}\")\n"
   ]
  },
  {
   "cell_type": "markdown",
   "metadata": {},
   "source": [
    "A continuación se imprimen algunos de los datos de nuestro dataset. Es posible cambiar la dimensión de la matriz de fotos que se muestran editando los valores n_row (número de filas) y n_col (número de columnas) dentro de la función plot_gallery"
   ]
  },
  {
   "cell_type": "code",
   "execution_count": null,
   "metadata": {
    "collapsed": false,
    "jupyter": {
     "outputs_hidden": false
    },
    "pycharm": {
     "name": "#%%\n"
    }
   },
   "outputs": [],
   "source": [
    "def plot_gallery(images, titles, h, w, n_row=3, n_col=4):\n",
    "    \"\"\"Helper function to plot a gallery of portraits\"\"\"\n",
    "    plt.figure(figsize=(1.8 * n_col, 2.4 * n_row))\n",
    "    plt.subplots_adjust(bottom=0, left=0.01, right=0.99, top=0.90, hspace=0.35)\n",
    "    for i in range(n_row * n_col):\n",
    "        plt.subplot(n_row, n_col, i + 1)\n",
    "        plt.imshow(images[i].reshape((h, w)), cmap=plt.cm.gray)\n",
    "        plt.title(titles[i], size=12)\n",
    "        plt.xticks(())\n",
    "        plt.yticks(())\n",
    "plot_gallery(X, list(y), h, w, n_row=3, n_col=6)"
   ]
  },
  {
   "cell_type": "markdown",
   "metadata": {},
   "source": [
    "Extraemos el conjunto de entrenamiento (X_train), el conjunto de test (X_train) y sus respectivas etiquetas (y_train, y_test) de nuestro dataset"
   ]
  },
  {
   "cell_type": "code",
   "execution_count": null,
   "metadata": {
    "collapsed": false,
    "jupyter": {
     "outputs_hidden": false
    },
    "pycharm": {
     "name": "#%%\n"
    }
   },
   "outputs": [],
   "source": [
    "X_train, X_test, y_train, y_test = train_test_split(X, y, test_size=0.2, random_state=42)\n",
    "print(\"Estadisticas de los datos:\")\n",
    "print(f\"Numero de datos de entrenamiento: {X_train.shape[0]}\")\n",
    "print(f\"Numero de datos de test: {X_test.shape[0]}\")\n"
   ]
  },
  {
   "cell_type": "markdown",
   "metadata": {},
   "source": [
    "Si miramos la dimensión de los componentes del dataset de enternamiento:"
   ]
  },
  {
   "cell_type": "code",
   "execution_count": null,
   "metadata": {
    "collapsed": false,
    "jupyter": {
     "outputs_hidden": false
    },
    "pycharm": {
     "name": "#%%\n"
    }
   },
   "outputs": [],
   "source": [
    "print(\"X_train.shape: \", X_train.shape)"
   ]
  },
  {
   "cell_type": "markdown",
   "metadata": {},
   "source": [
    "Podemos comprobar que los vectores del dataset tienen 2914 componentes. Independientemente de que pueda haber variables colíneares, es necesario reducir el número de componentes de nuestro dataset simplemente por el gasto computacional que supone tratar con vectores tan grandes. Para ello hemos implementado la combinación de análisis de componentes principales y análisis discriminante lineal.\n",
    "\n",
    "\n",
    "Realizamos el análisis de componentes principales (PCA) de la misma forma que lo hemos hecho para el dataset Isolet.\n",
    "En este caso hemos elegido X componentes, que nos proporcionan un Y% de la varianza."
   ]
  },
  {
   "cell_type": "code",
   "execution_count": null,
   "metadata": {
    "collapsed": false,
    "jupyter": {
     "outputs_hidden": false
    },
    "pycharm": {
     "name": "#%%\n"
    }
   },
   "outputs": [],
   "source": [
    "# PCA\n",
    "\n",
    "\n",
    "t0 = time()\n",
    "\n",
    "# Paso 1: hacer la media del conjunto de datos de entrenamiento\n",
    "X_train_mean = np.mean(X_train, axis=0)\n",
    "\n",
    "\n",
    "# Paso 2: estandarizar el conjunto de datos de entrenamiento\n",
    "X_norm = X_train - X_train_mean\n",
    "\n",
    "print(\"X_train.shape: \", X_train.shape)\n",
    "\n",
    "# Paso 3: calcular la nueva matriz de covarianzas del conjunto de datos estandarizados\n",
    "X_train_cov = np.cov(X_norm, rowvar=False)\n",
    "\n",
    "\n",
    "\n",
    "# Paso 4: calcular la descomposición espectral de la matriz de covarianzas\n",
    "u, autoval, autovec = np.linalg.svd(X_train_cov, full_matrices=False) # tarda 68.246s\n",
    "\n",
    "print(\"SVD done in %0.3fs\" % (time() - t0))\n",
    "\n"
   ]
  },
  {
   "cell_type": "markdown",
   "metadata": {},
   "source": [
    "Una vez hecha la descomposición espectral de la matriz, usando la funcion print_cumvar podemos imprimir las varianzas acumuladas por cada componente para así poder elegir un número adecuado de características a reducir"
   ]
  },
  {
   "cell_type": "code",
   "execution_count": null,
   "metadata": {
    "collapsed": false,
    "jupyter": {
     "outputs_hidden": false
    },
    "pycharm": {
     "name": "#%%\n"
    }
   },
   "outputs": [],
   "source": [
    "print_cumvar(autoval, X_train.shape[0], 1, 300)\n"
   ]
  },
  {
   "cell_type": "markdown",
   "metadata": {},
   "source": [
    "Tras hacer el PCA, podemos ver en la matriz de varianzas acumuladas lo siguiente:\n",
    "\n",
    "-Las 5 componentes más óptimas nos garantizan mas de un 90% de la varianza\n",
    "\n",
    "-7 componentes nos garantizan un 95% de la varianza\n",
    "\n",
    "-19 componentes nos garantizan un 99% de la varianza\n",
    "\n",
    "-29 componentes nos garantizan un 99,5% de la varianza\n",
    "\n",
    "-68 componentes nos garantizan un 99,9% de la varianza\n",
    "\n",
    "-168 componentes nos garantizan un 99,99% de la varianza\n",
    "\n",
    "\n",
    "Una vez seleccionado el número de componentes a las que queremos reducir los vectores del dataset, seguimos con el PCA. Cabe destacar que se puede modificar el numero de componentes a las que reducir mediante el parámetro n_component, que por defecto tenemos en 168."
   ]
  },
  {
   "cell_type": "code",
   "execution_count": null,
   "metadata": {
    "collapsed": false,
    "jupyter": {
     "outputs_hidden": false
    },
    "pycharm": {
     "name": "#%%\n"
    }
   },
   "outputs": [],
   "source": [
    "n_components = 168\n",
    "\n",
    "t0 = time()\n",
    "\n",
    "\n",
    "# Paso 5: construir la matriz de proyección A seleccionando las n_componentes componentes principales\n",
    "A = autovec[:n_components]\n",
    "\n",
    "\n",
    "# Paso 6: proyectar el conjunto de datos de entrenamiento estandarizado sobre el nuevo espacio\n",
    "X_train_pca = (A @ (X_train - np.mean(X_train, axis=0)).T).T\n",
    "\n",
    "\n",
    "# Paso 7: proyectar el conjunto de datos de test sobre el nuevo espacio:\n",
    "X_test_pca = (A @ (X_test - np.mean(X_test, axis=0)).T).T\n",
    "\n",
    "print(\"PCA done in %0.3fs\" % (time() - t0))\n"
   ]
  },
  {
   "cell_type": "markdown",
   "metadata": {},
   "source": [
    "Imprimimos las fotos tras la eliminación de las componentes menos discriminates:"
   ]
  },
  {
   "cell_type": "code",
   "execution_count": null,
   "metadata": {
    "collapsed": false,
    "jupyter": {
     "outputs_hidden": false
    },
    "pycharm": {
     "name": "#%%\n"
    }
   },
   "outputs": [],
   "source": [
    "eigenfaces2 = A.reshape((n_components,h,w))\n",
    "eigenface_titles2 = [\"eigenfaces %d\" % i for i in range(eigenfaces2.shape[0])]\n",
    "plot_gallery(eigenfaces2, eigenface_titles2, h, w, n_row=3, n_col=6)\n",
    "plt.show()"
   ]
  },
  {
   "cell_type": "markdown",
   "metadata": {},
   "source": [
    "Estas caras, conocidas como eigenfaces, son nuestras fotos iniciales una vez eliminadas sus componentes menos discriminantes.\n",
    "\n",
    "A continuación prodecemos a realizar el análisis discriminante lineal (LDA)\n"
   ]
  },
  {
   "cell_type": "code",
   "execution_count": null,
   "metadata": {
    "collapsed": false,
    "jupyter": {
     "outputs_hidden": false
    },
    "pycharm": {
     "name": "#%%\n"
    }
   },
   "outputs": [],
   "source": [
    "\n",
    "#LDA\n",
    "t0 = time()\n",
    "\n",
    "#Inicializamos las matrices Sw y Sb\n",
    "#Sw = np.zeros((X_train_pca.shape[1], X_train_pca.shape[1]))\n",
    "#Sb = np.zeros((X_train_pca.shape[1], X_train_pca.shape[1]))\n",
    "\n",
    "Sw = np.zeros((X_train.shape[1], X_train.shape[1]))\n",
    "Sb = np.zeros((X_train.shape[1], X_train.shape[1]))\n",
    "\n",
    "\n",
    "n_clases = len(np.unique(y_train))\n",
    "\n",
    "#mu_clases = np.mean(X_train_pca, axis=0)\n",
    "mu_clases = np.mean(X_train, axis=0)\n",
    "\n",
    "for i in range(n_clases):\n",
    "    X_clase = X_train[y_train==i]\n",
    "   # X_clase = X_train_pca[y_train==i]\n",
    "    Sw = Sw + np.cov(X_clase, rowvar=False)\n",
    "    Sb = Sb + (len(X_clase) * ((X_clase - mu_clases).T @ (X_clase - mu_clases)))\n",
    "\n",
    "# Calcular la descomposición espectral de la matriz Sw^-1 Sb\n",
    "u, autoval, autovec = np.linalg.svd((np.linalg.inv(Sw)@Sb), full_matrices=False)\n",
    "\n"
   ]
  },
  {
   "cell_type": "markdown",
   "metadata": {},
   "source": [
    "Imprimimos las varianzas acumuladas de cada componente"
   ]
  },
  {
   "cell_type": "code",
   "execution_count": null,
   "metadata": {
    "collapsed": false,
    "jupyter": {
     "outputs_hidden": false
    },
    "pycharm": {
     "name": "#%%\n"
    }
   },
   "outputs": [],
   "source": [
    "'''\n",
    "print_cumvar(autoval, X_train.shape[0], 1, 314)\n",
    "'''"
   ]
  },
  {
   "cell_type": "code",
   "execution_count": null,
   "metadata": {
    "collapsed": false,
    "jupyter": {
     "outputs_hidden": false
    },
    "pycharm": {
     "name": "#%%\n"
    }
   },
   "outputs": [],
   "source": [
    "\n",
    "n_components = 168\n",
    "A = autovec[:n_components]\n",
    "\n",
    "print(\"A_lda.shape:\", A.shape)\n",
    "\n",
    "X_train_lda = (A @ X_train_pca.T).T\n",
    "\n",
    "print(\"X_train_lda: \", X_train_lda.shape)\n",
    "\n",
    "# Paso 7: proyectar el conjunto de datos de test sobre el nuevo espacio:\n",
    "X_test_lda = (A @ X_test_pca.T).T\n",
    "\n",
    "#eigenfaces2 = A.reshape((n_components,h,w))\n",
    "print(\"LDA done in %0.3fs\" % (time() - t0))\n",
    "\n"
   ]
  },
  {
   "cell_type": "code",
   "execution_count": null,
   "metadata": {
    "collapsed": false,
    "jupyter": {
     "outputs_hidden": false
    },
    "pycharm": {
     "name": "#%%\n"
    }
   },
   "outputs": [],
   "source": [
    "print(\"Predicting people's names on the test set\")\n",
    "t0 = time()\n",
    "#clf = ClassifEuclid(np.unique(y_train))\n",
    "clf = LinearDiscriminantAnalysis()\n",
    "clf = clf.fit(X_train_pca, y_train)\n",
    "y_pred = clf.predict(X_test_pca)\n",
    "print(\"done in %0.3fs\" % (time() - t0))\n",
    "\n",
    "print(\"y_test:\", y_test.shape)\n",
    "print(\"y_pred:\", y_pred.shape)\n",
    "\n",
    "print(classification_report(y_test, y_pred, target_names=target_names))\n",
    "print(confusion_matrix(y_test, y_pred, labels=range(n_classes)))\n",
    "\n",
    "def title(y_pred, y_test, target_names, i):\n",
    "    pred_name = target_names[y_pred[i]].rsplit(\" \", 1)[-1]\n",
    "    true_name = target_names[y_test[i]].rsplit(\" \", 1)[-1]\n",
    "    return \"predicted: %s\\ntrue:      %s\" % (pred_name, true_name)\n",
    "prediction_titles = [title(y_pred, y_test, target_names, i) for i in range(y_pred.shape[0])]\n",
    "plot_gallery(X_test, prediction_titles, h, w)"
   ]
  },
  {
   "cell_type": "code",
   "execution_count": null,
   "metadata": {
    "collapsed": false,
    "jupyter": {
     "outputs_hidden": false
    },
    "pycharm": {
     "name": "#%%\n"
    }
   },
   "outputs": [],
   "source": []
  }
 ],
 "metadata": {
  "colab": {
   "collapsed_sections": [],
   "name": "Esqueleto(2).ipynb",
   "provenance": [],
   "version": "0.3.2"
  },
  "kernelspec": {
   "display_name": "Python 3 (ipykernel)",
   "language": "python",
   "name": "python3"
  },
  "language_info": {
   "codemirror_mode": {
    "name": "ipython",
    "version": 3
   },
   "file_extension": ".py",
   "mimetype": "text/x-python",
   "name": "python",
   "nbconvert_exporter": "python",
   "pygments_lexer": "ipython3",
   "version": "3.9.0"
  }
 },
 "nbformat": 4,
 "nbformat_minor": 4
}
