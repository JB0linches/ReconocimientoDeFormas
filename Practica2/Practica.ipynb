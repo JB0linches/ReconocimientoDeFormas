{
 "cells": [
  {
   "cell_type": "markdown",
   "id": "26dcae2d-a218-421c-87bd-f7da8443540b",
   "metadata": {},
   "source": [
    "# **Práctica 2**\n",
    "* **Alumno 1**: Bolinches Segovia, Jorge\n",
    "* **Alumno 2**: Cerezo Pomykol, Jan\n",
    "***\n",
    "\n",
    "### **Índice**\n",
    "* [Carga de datasets](#1)\n",
    "* [Entrenamiento y evaluación del Perceptrón](#2)\n",
    "* [Ensemble del clasificador](#3)"
   ]
  },
  {
   "cell_type": "markdown",
   "id": "3c2b50ba-27f0-4a31-b585-a49c4494ca60",
   "metadata": {},
   "source": [
    "### **Carga de datasets** <a class=\"anchor\" id=\"1\"></a>"
   ]
  },
  {
   "cell_type": "code",
   "execution_count": 2,
   "id": "622f63a0-ada3-45b3-96d0-140fde22d1e7",
   "metadata": {},
   "outputs": [],
   "source": [
    "import numpy as np\n",
    "import pandas as pd\n",
    "import os.path\n",
    "from sklearn.datasets import load_iris, load_wine, load_breast_cancer, fetch_openml\n",
    "\n",
    "# Iris\n",
    "dataset = load_iris()\n",
    "X_iris = dataset.data\n",
    "y_iris = dataset.target\n",
    "\n",
    "# Wine\n",
    "dataset = load_wine()\n",
    "X_wine = dataset.data\n",
    "y_wine = dataset.target\n",
    "\n",
    "# Cancer\n",
    "dataset = load_breast_cancer()\n",
    "X_cancer = dataset.data\n",
    "y_cancer = dataset.target\n",
    "\n",
    "\n",
    "# Isolet\n",
    "# Si existe la base de datos, cargo las variables\n",
    "if os.path.exists(\"isolet_X.pickle\"):\n",
    "    X = pd.read_pickle('isolet_X.pickle')\n",
    "    y = pd.read_pickle('isolet_y.pickle')\n",
    "else:\n",
    "    # Cargamos desde internet ( https://www.openml.org ) y la guardamos en el directorio local\n",
    "    X, y = fetch_openml('isolet', version=1, return_X_y=True, cache=False)\n",
    "    # Guardamos los datos para no volver a descargarlos\n",
    "    X.to_pickle(\"isolet_X.pickle\")\n",
    "    y.to_pickle(\"isolet_y.pickle\")\n",
    "\n",
    "X_isolet = np.array(X)\n",
    "y_isolet = pd.factorize(y)[0]\n",
    "\n",
    "# MNIST\n",
    "# Si existe la base de datos, cargo las variables\n",
    "if os.path.exists(\"mnist_X.pickle\"):\n",
    "    X = pd.read_pickle('mnist_X.pickle')\n",
    "    y = pd.read_pickle('mnist_y.pickle')\n",
    "else:\n",
    "    # Cargamos desde internet ( https://www.openml.org ) y la guardamos en el directorio local\n",
    "    X, y = fetch_openml('mnist_784', version=1, return_X_y=True, cache=False)\n",
    "    # Guardamos los datos para no volver a descargarlos\n",
    "    X.to_pickle(\"mnist_X.pickle\")\n",
    "    y.to_pickle(\"mnist_y.pickle\")\n",
    "\n",
    "X_mnist = np.array(X)\n",
    "y_mnist = pd.factorize(y)[0]\n",
    "\n",
    "datasets = {\"iris\": (X_iris, y_iris),\n",
    "            \"wine\": (X_wine, y_wine),\n",
    "            \"cancer\": (X_cancer, y_cancer),\n",
    "            \"isolet\": (X_isolet, y_isolet),\n",
    "            \"mnist\": (X_mnist, y_mnist)}"
   ]
  },
  {
   "cell_type": "code",
   "execution_count": 3,
   "id": "03963aea-c2ca-429d-a858-3124ff783ef6",
   "metadata": {},
   "outputs": [
    {
     "name": "stdout",
     "output_type": "stream",
     "text": [
      "Dimensiones de los datasets:\n",
      "iris:\t(150, 4)\n",
      "wine:\t(178, 13)\n",
      "cancer:\t(569, 30)\n",
      "isolet:\t(7797, 617)\n",
      "mnist:\t(70000, 784)\n"
     ]
    }
   ],
   "source": [
    "print(\"Dimensiones de los datasets:\")\n",
    "for i in datasets:\n",
    "    print(i, \":\\t\", datasets[i][0].shape, sep='')"
   ]
  },
  {
   "cell_type": "markdown",
   "id": "1edec771-5ed1-4b50-a2ad-1c66ad2ff4b8",
   "metadata": {},
   "source": [
    "## **Entrenamiento y evaluación del Perceptrón** <a class=\"anchor\" id=\"2\"></a>"
   ]
  },
  {
   "cell_type": "code",
   "execution_count": 4,
   "id": "fe6c4890-7c68-4649-a8d2-7c47b38951ae",
   "metadata": {},
   "outputs": [],
   "source": [
    "from sklearn.linear_model import Perceptron\n",
    "from sklearn.model_selection import cross_val_score, KFold, GridSearchCV\n",
    "from time import time"
   ]
  },
  {
   "cell_type": "markdown",
   "id": "da9fa490-86c6-495b-bd05-8a768dbb7b1b",
   "metadata": {},
   "source": [
    "Para la evaluación del Perceptrón vamos a emplear la siguiente función, que recibe como parámetros el dataset (X, y) y la lista de valores de fracción de validación. Devuelve como resultado un array con las tasas de acierto para cada valor de esta lista, así como el índice del mejor valor."
   ]
  },
  {
   "cell_type": "code",
   "execution_count": 4,
   "id": "265e9423-3e36-4157-baa0-45c45ec03351",
   "metadata": {},
   "outputs": [],
   "source": [
    "def find_val(X, y, v):\n",
    "    nv = len(v)\n",
    "    scores = np.empty((nv, 10))\n",
    "    scores_mean = np.empty(nv)\n",
    "    best_v = 0\n",
    "    prev = 0\n",
    "    for vi in range(nv):\n",
    "        clf = Perceptron(early_stopping=True, random_state=0, n_jobs=-1, validation_fraction=v[vi])\n",
    "        kf = KFold(n_splits=10)\n",
    "        n_iter = 1\n",
    "        inicial = True\n",
    "        for train_index, test_index in kf.split(X):\n",
    "            X_train, X_test = X[train_index], X[test_index]\n",
    "            y_train, y_test = y[train_index], y[test_index]\n",
    "            if inicial:\n",
    "                clf.set_params(eta0=1)\n",
    "                inicial = False\n",
    "            else:\n",
    "                clf.set_params(eta0=1/clf.n_iter_)\n",
    "            scores[vi][n_iter-1] = clf.fit(X_train, y_train).score(X_test, y_test)\n",
    "            n_iter = n_iter + 1\n",
    "        scores_mean[vi] = np.mean(scores[vi])\n",
    "        if scores_mean[vi] > prev:\n",
    "            best_v = vi\n",
    "            prev = scores_mean[vi]\n",
    "    return scores_mean, best_v"
   ]
  },
  {
   "cell_type": "markdown",
   "id": "9de1889c-045f-40fc-8a44-06d0f081ee3b",
   "metadata": {},
   "source": [
    "## Dataset iris"
   ]
  },
  {
   "cell_type": "code",
   "execution_count": 5,
   "id": "4197c00d-05eb-4000-b2fa-0298776b1c91",
   "metadata": {
    "tags": []
   },
   "outputs": [
    {
     "name": "stdout",
     "output_type": "stream",
     "text": [
      "iris: max_score: 0.6667, std: 0.0843, best_val: 0.0250, time: 6.1336s\n"
     ]
    }
   ],
   "source": [
    "t0 = time()\n",
    "interval = 0.1\n",
    "val = np.arange(0.02, 0.4, 0.005)\n",
    "scores, best_v = find_val(X_iris, y_iris, val)\n",
    "print(\"iris: \", \"max_score: %.4f\" % np.max(scores), \", std: %.4f\" % np.std(scores), \", best_val: %.4f\" % val[best_v], \", time: %.4fs\" % (time()-t0), sep='')"
   ]
  },
  {
   "cell_type": "markdown",
   "id": "1d1fd1a1-ad23-4307-875c-7d8395deb6fd",
   "metadata": {},
   "source": [
    "Para el dataset de Iris, la mejor proporción de validación interna que hemos encontrado es 0.025 (2.5%), dando una tasa de aciertos del 66.67% (33.33% de fallos). Esta tasa tan baja se debe a que el dataset consta de 3 clases, y dos de ellas no son linealmente separables. Se asignan datos correctamente a una clase, pero los datos correspondientes a las otras dos se mezclan."
   ]
  },
  {
   "cell_type": "markdown",
   "id": "94240bd2-0c06-4bb2-9465-bfd70c766039",
   "metadata": {},
   "source": [
    "## Dataset wine"
   ]
  },
  {
   "cell_type": "code",
   "execution_count": 6,
   "id": "0294b90a-db08-4654-a9af-3825086044af",
   "metadata": {},
   "outputs": [
    {
     "name": "stdout",
     "output_type": "stream",
     "text": [
      "wine: max_score: 0.8598, std: 0.1814, best_val: 0.4350, time: 14.0112s\n"
     ]
    }
   ],
   "source": [
    "t0 = time()\n",
    "interval = 0.1\n",
    "val = np.arange(0.1, 0.9, 0.005)\n",
    "scores, best_v = find_val(X_wine, y_wine, val)\n",
    "print(\"wine: \", \"max_score: %.4f\" % np.max(scores), \", std: %.4f\" % np.std(scores), \", best_val: %.4f\" % val[best_v], \", time: %.4fs\" % (time()-t0), sep='')"
   ]
  },
  {
   "cell_type": "markdown",
   "id": "778f384e-f019-4656-b014-ae34de03759e",
   "metadata": {},
   "source": [
    "La mejor fracción de validación interna que hemos encontrado para el dataset Wine es 0.4350, dando una tasa de aciertos del 85.98% (14% de fallos)."
   ]
  },
  {
   "cell_type": "markdown",
   "id": "2aad4f47-c27c-4fbd-90c5-c2a10dea8600",
   "metadata": {},
   "source": [
    "## Dataset cancer"
   ]
  },
  {
   "cell_type": "code",
   "execution_count": 7,
   "id": "41cd7a18-5b40-4f9a-91f3-011ab31fd568",
   "metadata": {},
   "outputs": [
    {
     "name": "stdout",
     "output_type": "stream",
     "text": [
      "cancer: max_score: 0.8947, std: 0.0666, best_val: 0.7330, time: 20.8467s\n"
     ]
    }
   ],
   "source": [
    "t0 = time()\n",
    "interval = 0.1\n",
    "val = np.arange(0.1, 0.9, 0.001)\n",
    "scores, best_v = find_val(X_cancer, y_cancer, val)\n",
    "print(\"cancer: \", \"max_score: %.4f\" % np.max(scores), \", std: %.4f\" % np.std(scores), \", best_val: %.4f\" % val[best_v], \", time: %.4fs\" % (time()-t0), sep='')"
   ]
  },
  {
   "cell_type": "markdown",
   "id": "8092a158-5f15-4d96-8b3f-9fd0a59d1e94",
   "metadata": {},
   "source": [
    "En cuanto al dataset Cancer, la mejor fracción de validación interna que hemos encontrado es 0.733, dando una tasa de aciertos del 89.47% (10% de fallos)."
   ]
  },
  {
   "cell_type": "markdown",
   "id": "de4f4b2b-35cb-4b6a-b890-1f15c4511099",
   "metadata": {},
   "source": [
    "## Dataset isolet"
   ]
  },
  {
   "cell_type": "code",
   "execution_count": 8,
   "id": "78d3d648-6f3d-44b0-a976-ea3c7eab33b0",
   "metadata": {},
   "outputs": [
    {
     "name": "stdout",
     "output_type": "stream",
     "text": [
      "isolet: max_score: 0.9277, std: 0.0217, best_val: 0.1300, time: 385.9607s\n"
     ]
    }
   ],
   "source": [
    "t0 = time()\n",
    "interval = 0.1\n",
    "val = np.arange(0.1, 0.9, 0.01)\n",
    "scores, best_v = find_val(X_isolet, y_isolet, val)\n",
    "print(\"isolet: \", \"max_score: %.4f\" % np.max(scores), \", std: %.4f\" % np.std(scores), \", best_val: %.4f\" % val[best_v], \", time: %.4fs\" % (time()-t0), sep='')"
   ]
  },
  {
   "cell_type": "markdown",
   "id": "e2840d04-827e-45f4-ac0b-9b7064790823",
   "metadata": {},
   "source": [
    "Los mejores resultados con el Perceptrón que hemos obtenido han sido con el dataset de Isolet. La fracción de validación interna seleccionada es 0.13, dando una tasa de aciertos del 92.77% (7.2% de fallos)."
   ]
  },
  {
   "cell_type": "markdown",
   "id": "8cd7f117-a2cf-4f35-99e1-386215c22dba",
   "metadata": {},
   "source": [
    "## Dataset MNIST"
   ]
  },
  {
   "cell_type": "code",
   "execution_count": 9,
   "id": "c5039698-36e7-4b2e-ae4f-6333175bb49e",
   "metadata": {
    "tags": []
   },
   "outputs": [
    {
     "name": "stdout",
     "output_type": "stream",
     "text": [
      "mnist: max_score: 0.8688, std: 0.0081, best_val: 0.7000, time: 465.0147s\n"
     ]
    }
   ],
   "source": [
    "t0 = time()\n",
    "val = np.arange(0.05, 1, 0.05)\n",
    "scores, best_v = find_val(X_mnist, y_mnist, val)\n",
    "print(\"mnist: \", \"max_score: %.4f\" % np.max(scores), \", std: %.4f\" % np.std(scores), \", best_val: %.4f\" % val[best_v], \", time: %.4fs\" % (time()-t0), sep='')"
   ]
  },
  {
   "cell_type": "markdown",
   "id": "4f68a0a6-4840-4b42-96a3-f9afb3005286",
   "metadata": {},
   "source": [
    "La mejor fracción de validación interna que hemos encontrado para el dataset MNIST es 0.7. Como se puede observar, ha tardado unos 490 segundos en buscar el mejor parámetro de entre una lista de 19 (val). No vamos a buscar uno mejor dado que tardaría demasiado. Con este parámetro, hemos conseguido una tasa de aciertos de 86.88% (13% de aciertos)."
   ]
  },
  {
   "cell_type": "markdown",
   "id": "c0c9bc27-01de-4d3b-961f-477860c14a0d",
   "metadata": {},
   "source": [
    "***\n",
    "#### **Resumen de resultados**\n",
    "\n",
    "**Nota**: no hemos buscado mejores valores, dado que tarda demasiado tiempo en ejecutar la función en algunos casos.\n",
    "\n",
    "La siguiente tabla muestra la mejor tasa de aciertos que hemos conseguido con el Perceptrón para cada dataset, así como el valor de la fracción de validación interna seleccionado.\n",
    "\n",
    "|dataset|fraccion de validación interna|tasa de aciertos|\n",
    "|---|---|---|\n",
    "|iris|0.0250|0.6667|\n",
    "|wine|0.4350|0.8598|\n",
    "|cancer|0.7330|0.8947|\n",
    "|isolet|0.1300|0.9277|\n",
    "|mnist|0.7000|0.8688|\n"
   ]
  },
  {
   "cell_type": "code",
   "execution_count": 10,
   "id": "67e997d3-da64-4750-9841-b6d07b4852b0",
   "metadata": {},
   "outputs": [],
   "source": [
    "def find_best_parameters_perceptron(X, y, eta0, vals):\n",
    "    perceptron = Perceptron()\n",
    "    params = {'eta0': eta0, 'validation_fraction': vals}\n",
    "    gscv = GridSearchCV(perceptron, params, n_jobs=-1, scoring='accuracy', cv=10).fit(X, y)\n",
    "    best_clf = gscv.best_estimator_\n",
    "    result_score_mean = gscv.cv_results_['mean_test_score'][gscv.best_index_]\n",
    "    result_score_std = gscv.cv_results_['std_test_score'][gscv.best_index_]\n",
    "    print(\"eta0: %.4f, validation_fraction: %.4f, score: %.4f, std: %.4f\" % (best_clf.eta0, best_clf.validation_fraction, result_score_mean, result_score_std))\n",
    "    return best_clf"
   ]
  },
  {
   "cell_type": "markdown",
   "id": "0f547663-16cc-4619-beed-981e7d5f3f3f",
   "metadata": {},
   "source": [
    "## **Ensemble del clasificador** <a class=\"anchor\" id=\"3\"></a>"
   ]
  },
  {
   "cell_type": "code",
   "execution_count": 29,
   "id": "3c3e350a-cb60-4734-abb8-6090883fad0e",
   "metadata": {},
   "outputs": [],
   "source": [
    "from sklearn.ensemble import VotingClassifier\n",
    "from sklearn.ensemble import AdaBoostClassifier\n",
    "\n",
    "def ensembler(X, y, name):\n",
    "    X_aux = np.copy(X)\n",
    "    y_aux = np.copy(y)\n",
    "    estimators = []\n",
    "    i = 0\n",
    "    anterior = 0\n",
    "\n",
    "    #mientras haya fallos o sea la primera iteración\n",
    "\n",
    "    while(len(np.unique(y_aux))>1 or i==0):\n",
    "\n",
    "        #se crea un perceptron\n",
    "        clf = Perceptron(eta0=0.5, early_stopping=True, random_state=0)\n",
    "\n",
    "        #se entrena con el dataset de errores de la iteración\n",
    "        clf = clf.fit(X_aux, y_aux)\n",
    "\n",
    "\n",
    "        #se añade a la lista de clasificadores\n",
    "        estimators.append((str(i), clf))\n",
    "\n",
    "        #se crea el ensemble con la lista de clasificadores\n",
    "        Vclf = VotingClassifier(estimators=estimators, voting = 'hard', n_jobs= -1)\n",
    "\n",
    "        #se entrena el ensemble\n",
    "        Vclf = Vclf.fit(X, y)\n",
    "\n",
    "        #se comprueba los aciertos del ensemble\n",
    "        predicts = Vclf.predict(X)\n",
    "        scores = cross_val_score(Vclf, X, y, scoring='accuracy', cv=10)\n",
    "        tasa = scores.mean()\n",
    "\n",
    "\n",
    "\n",
    "        #Se extraen los datos mal clasificados por el ensemble y sus correspondientes etiquetas\n",
    "        X_aux = X[y!=predicts]\n",
    "        y_aux = y[y!=predicts]\n",
    "\n",
    "        #Se comprueba que la tasa de acierto haya mejorado con respecto a la anterior iteración\n",
    "        # que la tasa de acierto sea mayor que el 95%\n",
    "        # y que el numero de clases en las que ha fallado sea mayor que 1 como condiciones de parada\n",
    "\n",
    "        v, c = np.unique(y_aux, return_counts=True)\n",
    "        if(tasa<=anterior or tasa>0.95 or np.sum(c<2)):\n",
    "            break\n",
    "\n",
    "        #se incrementa la iteración y se actualiza la tasa de acierto para la siguiente iteración\n",
    "        i+=+1\n",
    "        anterior = tasa\n",
    "    print(name + \":\\tscore: %0.4f (std: %0.4f)\" % (tasa, scores.std()))"
   ]
  },
  {
   "cell_type": "code",
   "execution_count": 22,
   "id": "2a7b0109-e745-40e4-a898-a72e2e126e52",
   "metadata": {},
   "outputs": [
    {
     "name": "stdout",
     "output_type": "stream",
     "text": [
      "iris:\tscore: 0.6667 (std: 0.0000)\n",
      "\ttime: 0.0840s\n",
      "wine:\tscore: 0.5297 (std: 0.1177)\n",
      "\ttime: 0.1730s\n",
      "cancer:\tscore: 0.7823 (std: 0.2063)\n",
      "\ttime: 0.1120s\n",
      "isolet:\tscore: 0.9259 (std: 0.0147)\n",
      "\ttime: 21.1489s\n",
      "mnist:\tscore: 0.8687 (std: 0.0144)\n",
      "\ttime: 185.5608s\n"
     ]
    }
   ],
   "source": [
    "t0 = time()\n",
    "ensembler(X_iris, y_iris, 'iris')\n",
    "print(\"\\ttime: %.4fs\" % (time()-t0))\n",
    "t0 = time()\n",
    "ensembler(X_wine,y_wine, 'wine')\n",
    "print(\"\\ttime: %.4fs\" % (time()-t0))\n",
    "t0 = time()\n",
    "ensembler(X_cancer, y_cancer, 'cancer')\n",
    "print(\"\\ttime: %.4fs\" % (time()-t0))\n",
    "t0 = time()\n",
    "ensembler(X_isolet, y_isolet, 'isolet')\n",
    "print(\"\\ttime: %.4fs\" % (time()-t0))\n",
    "t0 = time()\n",
    "ensembler(X_mnist, y_mnist, 'mnist')\n",
    "print(\"\\ttime: %.4fs\" % (time()-t0))"
   ]
  },
  {
   "cell_type": "markdown",
   "id": "5d268504-8153-400b-95f1-db741dcbe63e",
   "metadata": {},
   "source": [
    "## Dataset iris"
   ]
  },
  {
   "cell_type": "code",
   "execution_count": 30,
   "id": "6c80a687",
   "metadata": {
    "collapsed": false,
    "jupyter": {
     "outputs_hidden": false
    },
    "pycharm": {
     "name": "#%%\n"
    }
   },
   "outputs": [
    {
     "name": "stdout",
     "output_type": "stream",
     "text": [
      "iris:\tscore: 0.8133, std: 0.1293, time: 0.4371s\n"
     ]
    }
   ],
   "source": [
    "#Crear el perceptron\n",
    "clf = Perceptron(early_stopping=True, random_state=0, validation_fraction=0.0250, n_jobs=-1)\n",
    "t0 = time()\n",
    "#Crear el ensemble indicando que queremos hasta 5 perceptrones de los anteriores\n",
    "Ada = AdaBoostClassifier(base_estimator=clf, n_estimators=5, learning_rate=0.5, algorithm='SAMME', random_state=0)\n",
    "\n",
    "#Entrenar el ensemble\n",
    "Ada = Ada.fit(X_iris, y_iris)\n",
    "\n",
    "#evaluación con validación cruzada con k=10\n",
    "scores = cross_val_score(Ada, X_iris, y_iris, scoring='accuracy', cv=10)\n",
    "\n",
    "print(\"iris:\\tscore: %0.4f, std: %0.4f, time: %.4fs\" % (scores.mean(), scores.std(), time()-t0))\n",
    "#print(\"Accuracy: %0.2f (+/- %0.2f) [%s]\" % (scores.mean(), scores.std(), 'Iris'))"
   ]
  },
  {
   "cell_type": "markdown",
   "id": "325776ba-12bd-4c58-9f20-14e34a5e5d8f",
   "metadata": {},
   "source": [
    "## Dataset wine"
   ]
  },
  {
   "cell_type": "code",
   "execution_count": 31,
   "id": "45e5faf3",
   "metadata": {
    "collapsed": false,
    "jupyter": {
     "outputs_hidden": false
    },
    "pycharm": {
     "name": "#%%\n"
    }
   },
   "outputs": [
    {
     "name": "stdout",
     "output_type": "stream",
     "text": [
      "wine:\tscore: 0.6304, std: 0.0753, time: 0.4231s\n"
     ]
    }
   ],
   "source": [
    "#Crear el perceptron\n",
    "clf = Perceptron(early_stopping=True, random_state=0, validation_fraction=0.4350, n_jobs=-1)\n",
    "t0 = time()\n",
    "#Crear el ensemble indicando que queremos hasta 5 perceptrones de los anteriores\n",
    "Ada = AdaBoostClassifier(base_estimator=clf, n_estimators=5, learning_rate=0.5, algorithm='SAMME', random_state=0)\n",
    "\n",
    "#Entrenar el ensemble\n",
    "Ada = Ada.fit(X_wine, y_wine)\n",
    "\n",
    "#evaluación con validación cruzada con k=10\n",
    "scores = cross_val_score(Ada, X_wine, y_wine, scoring='accuracy', cv=10)\n",
    "\n",
    "print(\"wine:\\tscore: %0.4f, std: %0.4f, time: %.4fs\" % (scores.mean(), scores.std(), time()-t0))\n",
    "#print(\"Accuracy: %0.2f (+/- %0.2f) [%s]\" % (scores.mean(), scores.std(), 'Wine'))"
   ]
  },
  {
   "cell_type": "markdown",
   "id": "3a72d5f8-16ce-4de9-bc8a-7ef8c59c83f3",
   "metadata": {},
   "source": [
    "## Dataset cancer"
   ]
  },
  {
   "cell_type": "code",
   "execution_count": 32,
   "id": "7620021c",
   "metadata": {
    "collapsed": false,
    "jupyter": {
     "outputs_hidden": false
    },
    "pycharm": {
     "name": "#%%\n"
    }
   },
   "outputs": [
    {
     "name": "stdout",
     "output_type": "stream",
     "text": [
      "cancer:\tscore: 0.8823, std: 0.0422, time: 0.1040s\n"
     ]
    }
   ],
   "source": [
    "#Crear el perceptron\n",
    "clf = Perceptron(early_stopping=True, random_state=0, validation_fraction=0.7330, n_jobs=-1)\n",
    "t0 = time()\n",
    "#Crear el ensemble indicando que queremos hasta 5 perceptrones de los anteriores\n",
    "Ada = AdaBoostClassifier(base_estimator=clf, n_estimators=5, learning_rate=0.5, algorithm='SAMME', random_state=0)\n",
    "\n",
    "#Entrenar el ensemble\n",
    "Ada = Ada.fit(X_cancer, y_cancer)\n",
    "\n",
    "#evaluación con validación cruzada con k=10\n",
    "scores = cross_val_score(Ada, X_cancer, y_cancer, scoring='accuracy', cv=10)\n",
    "\n",
    "print(\"cancer:\\tscore: %0.4f, std: %0.4f, time: %.4fs\" % (scores.mean(), scores.std(), time()-t0))\n",
    "#print(\"Accuracy: %0.2f (+/- %0.2f) [%s]\" % (scores.mean(), scores.std(), 'Cancer'))"
   ]
  },
  {
   "cell_type": "markdown",
   "id": "2f205dcb-b4ac-49c6-b969-d20e76c4bcc3",
   "metadata": {},
   "source": [
    "## Dataset isolet"
   ]
  },
  {
   "cell_type": "code",
   "execution_count": 33,
   "id": "54b3a2d8",
   "metadata": {
    "collapsed": false,
    "jupyter": {
     "outputs_hidden": false
    },
    "pycharm": {
     "name": "#%%\n"
    }
   },
   "outputs": [
    {
     "name": "stdout",
     "output_type": "stream",
     "text": [
      "isolet:\tscore: 0.9256, std: 0.0153, time: 29.6337s\n"
     ]
    }
   ],
   "source": [
    "#Crear el perceptron\n",
    "clf = Perceptron(early_stopping=True, random_state=0, validation_fraction=0.1300, n_jobs=-1)\n",
    "t0 = time()\n",
    "#Crear el ensemble indicando que queremos hasta 5 perceptrones de los anteriores\n",
    "Ada = AdaBoostClassifier(base_estimator=clf, n_estimators=5, learning_rate=0.5, algorithm='SAMME', random_state=0)\n",
    "\n",
    "#Entrenar el ensemble\n",
    "Ada = Ada.fit(X_isolet, y_isolet)\n",
    "\n",
    "#evaluación con validación cruzada con k=10\n",
    "scores = cross_val_score(Ada, X_isolet, y_isolet, scoring='accuracy', cv=10)\n",
    "\n",
    "print(\"isolet:\\tscore: %0.4f, std: %0.4f, time: %.4fs\" % (scores.mean(), scores.std(), time()-t0))\n",
    "#print(\"Accuracy: %0.2f (+/- %0.2f) [%s]\" % (scores.mean(), scores.std(), 'Isolet'))"
   ]
  },
  {
   "cell_type": "markdown",
   "id": "b8ce0894-3b94-4d1a-98e9-f6db174a177a",
   "metadata": {},
   "source": [
    "## Dataset mnist"
   ]
  },
  {
   "cell_type": "code",
   "execution_count": 34,
   "id": "e6f735c2",
   "metadata": {
    "collapsed": false,
    "jupyter": {
     "outputs_hidden": false
    },
    "pycharm": {
     "name": "#%%\n"
    }
   },
   "outputs": [
    {
     "name": "stdout",
     "output_type": "stream",
     "text": [
      "mnist:\tscore: 0.8796, std: 0.0080, time: 136.8499s\n"
     ]
    }
   ],
   "source": [
    "#Crear el perceptron\n",
    "clf = Perceptron(early_stopping=True, random_state=0, validation_fraction=0.7000, n_jobs=-1)\n",
    "t0 = time()\n",
    "#Crear el ensemble indicando que queremos hasta 5 perceptrones de los anteriores\n",
    "Ada = AdaBoostClassifier(base_estimator=clf, n_estimators=5, learning_rate=0.5, algorithm='SAMME', random_state=0)\n",
    "\n",
    "#Entrenar el ensemble\n",
    "Ada = Ada.fit(X_mnist, y_mnist)\n",
    "\n",
    "#evaluación con validación cruzada con k=10\n",
    "scores = cross_val_score(Ada, X_mnist, y_mnist, scoring='accuracy', cv=10)\n",
    "\n",
    "print(\"mnist:\\tscore: %0.4f, std: %0.4f, time: %.4fs\" % (scores.mean(), scores.std(), time()-t0))\n",
    "#print(\"Accuracy: %0.2f (+/- %0.2f) [%s]\" % (scores.mean(), scores.std(), 'Mnist'))"
   ]
  },
  {
   "cell_type": "code",
   "execution_count": null,
   "id": "73e7e5f3-f6a4-466a-98d7-b82dd9e57b0e",
   "metadata": {},
   "outputs": [],
   "source": []
  }
 ],
 "metadata": {
  "kernelspec": {
   "display_name": "Python 3 (ipykernel)",
   "language": "python",
   "name": "python3"
  },
  "language_info": {
   "codemirror_mode": {
    "name": "ipython",
    "version": 3
   },
   "file_extension": ".py",
   "mimetype": "text/x-python",
   "name": "python",
   "nbconvert_exporter": "python",
   "pygments_lexer": "ipython3",
   "version": "3.9.0"
  }
 },
 "nbformat": 4,
 "nbformat_minor": 5
}
