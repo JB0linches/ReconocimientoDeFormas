{
 "cells": [
  {
   "cell_type": "markdown",
   "id": "26dcae2d-a218-421c-87bd-f7da8443540b",
   "metadata": {},
   "source": [
    "# **Práctica 2**\n",
    "\n",
    "* **Alumno 1**: Bolinches Segovia, Jorge\n",
    "* **Alumno 2**: Cerezo Pomykol, Jan"
   ]
  },
  {
   "cell_type": "code",
   "execution_count": null,
   "id": "2761bab0-1cdb-4c3d-89a5-cfbe45ab9d9a",
   "metadata": {},
   "outputs": [],
   "source": []
  },
  {
   "cell_type": "code",
   "execution_count": null,
   "id": "f7d4d5f6-c6e5-4b31-8749-de40ef6de369",
   "metadata": {},
   "outputs": [],
   "source": []
  }
 ],
 "metadata": {
  "kernelspec": {
   "display_name": "Python 3 (ipykernel)",
   "language": "python",
   "name": "python3"
  },
  "language_info": {
   "codemirror_mode": {
    "name": "ipython",
    "version": 3
   },
   "file_extension": ".py",
   "mimetype": "text/x-python",
   "name": "python",
   "nbconvert_exporter": "python",
   "pygments_lexer": "ipython3",
   "version": "3.9.0"
  }
 },
 "nbformat": 4,
 "nbformat_minor": 5
}
