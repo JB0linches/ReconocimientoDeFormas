{
 "cells": [
  {
   "cell_type": "markdown",
   "id": "26dcae2d-a218-421c-87bd-f7da8443540b",
   "metadata": {},
   "source": [
    "# **Práctica 2**\n",
    "* **Alumno 1**: Bolinches Segovia, Jorge\n",
    "* **Alumno 2**: Cerezo Pomykol, Jan\n",
    "***"
   ]
  },
  {
   "cell_type": "markdown",
   "id": "3c2b50ba-27f0-4a31-b585-a49c4494ca60",
   "metadata": {},
   "source": [
    "### **Carga de datasets.**"
   ]
  },
  {
   "cell_type": "code",
   "execution_count": 34,
   "id": "622f63a0-ada3-45b3-96d0-140fde22d1e7",
   "metadata": {},
   "outputs": [],
   "source": [
    "import numpy as np\n",
    "import pandas as pd\n",
    "import os.path\n",
    "from sklearn.datasets import load_iris, load_wine, load_breast_cancer, fetch_openml\n",
    "\n",
    "# Iris\n",
    "dataset = load_iris()\n",
    "X_iris = dataset.data\n",
    "y_iris = dataset.target\n",
    "\n",
    "# Wine\n",
    "dataset = load_wine()\n",
    "X_wine = dataset.data\n",
    "y_wine = dataset.target\n",
    "\n",
    "# Cancer\n",
    "dataset = load_breast_cancer()\n",
    "X_cancer = dataset.data\n",
    "y_cancer = dataset.target\n",
    "\n",
    "\n",
    "# Isolet\n",
    "# Si existe la base de datos, cargo las variables\n",
    "if os.path.exists(\"isolet_X.pickle\"):\n",
    "    X = pd.read_pickle('isolet_X.pickle')\n",
    "    y = pd.read_pickle('isolet_y.pickle')\n",
    "else:\n",
    "    # Cargamos desde internet ( https://www.openml.org ) y la guardamos en el directorio local\n",
    "    X, y = fetch_openml('isolet', version=1, return_X_y=True, cache=False)\n",
    "    # Guardamos los datos para no volver a descargarlos\n",
    "    X.to_pickle(\"isolet_X.pickle\")\n",
    "    y.to_pickle(\"isolet_y.pickle\")\n",
    "\n",
    "X_isolet = np.array(X)\n",
    "y_isolet = pd.factorize(y)[0]\n",
    "\n",
    "# MNIST\n",
    "# Si existe la base de datos, cargo las variables\n",
    "if os.path.exists(\"mnist_X.pickle\"):\n",
    "    X = pd.read_pickle('mnist_X.pickle')\n",
    "    y = pd.read_pickle('mnist_y.pickle')\n",
    "else:\n",
    "    # Cargamos desde internet ( https://www.openml.org ) y la guardamos en el directorio local\n",
    "    X, y = fetch_openml('mnist_784', version=1, return_X_y=True, cache=False)\n",
    "    # Guardamos los datos para no volver a descargarlos\n",
    "    X.to_pickle(\"mnist_X.pickle\")\n",
    "    y.to_pickle(\"mnist_y.pickle\")\n",
    "\n",
    "X_mnist = np.array(X)\n",
    "y_mnist = pd.factorize(y)[0]\n",
    "\n",
    "datasets = {\"iris\": (X_iris, y_iris),\n",
    "            \"wine\": (X_wine, y_wine),\n",
    "            \"cancer\": (X_cancer, y_cancer),\n",
    "            \"isolet\": (X_isolet, y_isolet),\n",
    "            \"mnist\": (X_mnist, y_mnist)}"
   ]
  },
  {
   "cell_type": "code",
   "execution_count": 19,
   "id": "03963aea-c2ca-429d-a858-3124ff783ef6",
   "metadata": {},
   "outputs": [
    {
     "name": "stdout",
     "output_type": "stream",
     "text": [
      "iris:\t(150, 4)\n",
      "wine:\t(178, 13)\n",
      "cancer:\t(569, 30)\n",
      "isolet:\t(7797, 617)\n",
      "mnist:\t(70000, 784)\n"
     ]
    }
   ],
   "source": [
    "for i in datasets:\n",
    "    print(i, \":\\t\", datasets[i][0].shape, sep='')"
   ]
  },
  {
   "cell_type": "markdown",
   "id": "1edec771-5ed1-4b50-a2ad-1c66ad2ff4b8",
   "metadata": {},
   "source": [
    "## **Entrenamiento y evaluación del perceptrón.**"
   ]
  },
  {
   "cell_type": "code",
   "execution_count": 21,
   "id": "fe6c4890-7c68-4649-a8d2-7c47b38951ae",
   "metadata": {},
   "outputs": [],
   "source": [
    "from sklearn.linear_model import Perceptron\n",
    "from sklearn.model_selection import cross_val_score\n",
    "from time import time"
   ]
  },
  {
   "cell_type": "markdown",
   "id": "231fc218-07ef-4373-9a96-859f3dd73e71",
   "metadata": {},
   "source": [
    "#### **Parámetros por defecto**"
   ]
  },
  {
   "cell_type": "code",
   "execution_count": 28,
   "id": "d9a20c3b-440d-4943-8c28-1674896ac5b3",
   "metadata": {},
   "outputs": [
    {
     "name": "stdout",
     "output_type": "stream",
     "text": [
      "iris:\t0.7067, std: 0.0611, time:   0.0150s\n",
      "wine:\t0.6134, std: 0.1230, time:   0.0160s\n",
      "cancer:\t0.8964, std: 0.0345, time:   0.0100s\n",
      "isolet:\t0.9433, std: 0.0181, time:  19.3106s\n",
      "mnist:\t0.8671, std: 0.0123, time:  75.9903s\n"
     ]
    }
   ],
   "source": [
    "for i in datasets:\n",
    "    t0 = time()\n",
    "    clf = Perceptron(random_state=0)\n",
    "    scores = cross_val_score(clf, datasets[i][0], datasets[i][1], cv=10)\n",
    "    print(i, \":\\t\", \"%.4f\" % np.mean(scores), \", std: \", \"%.4f\" % np.std(scores), \", time: %8.4fs\" % (time()-t0), sep='')"
   ]
  },
  {
   "cell_type": "markdown",
   "id": "393ee6c5-1b4a-4271-8c0f-a5a3d075ee8e",
   "metadata": {},
   "source": [
    "#### **Parámetro $\\delta$**"
   ]
  },
  {
   "cell_type": "markdown",
   "id": "b7a0443b-93fc-47b0-80fc-1aa14dca601b",
   "metadata": {},
   "source": [
    "##### Dataset iris"
   ]
  },
  {
   "cell_type": "code",
   "execution_count": 29,
   "id": "1ef542fd-13d1-4ba4-bf79-ab7f6953ef59",
   "metadata": {},
   "outputs": [
    {
     "name": "stdout",
     "output_type": "stream",
     "text": [
      "iris:\t0.6667, std: 0.0000, time: 0.0480s\n"
     ]
    }
   ],
   "source": [
    "t0 = time()\n",
    "clf = Perceptron(eta0=0.5, early_stopping=True, random_state=0)\n",
    "scores = cross_val_score(clf, X_iris, y_iris, cv=10)\n",
    "print(\"iris:\\t\", \"%.4f\" % np.mean(scores), \", std: \", \"%.4f\" % np.std(scores), \", time: %.4fs\" % (time()-t0), sep='')"
   ]
  },
  {
   "cell_type": "markdown",
   "id": "3251df41-b618-4c4c-a61f-d83b04521a45",
   "metadata": {},
   "source": [
    "***\n",
    "##### Dataset wine"
   ]
  },
  {
   "cell_type": "code",
   "execution_count": 30,
   "id": "061f8056-0907-464c-b3b8-272a97bfe066",
   "metadata": {},
   "outputs": [
    {
     "name": "stdout",
     "output_type": "stream",
     "text": [
      "wine:\t0.5297, std: 0.1177, time: 0.0540s\n"
     ]
    }
   ],
   "source": [
    "t0 = time()\n",
    "clf = Perceptron(eta0=0.5, early_stopping=True, random_state=0)\n",
    "scores = cross_val_score(clf, X_wine, y_wine, cv=10)\n",
    "print(\"wine:\\t\", \"%.4f\" % np.mean(scores), \", std: \", \"%.4f\" % np.std(scores), \", time: %.4fs\" % (time()-t0), sep='')"
   ]
  },
  {
   "cell_type": "markdown",
   "id": "971be11c-d681-4b5d-bbb8-3cb5b89451c6",
   "metadata": {},
   "source": [
    "***\n",
    "##### Dataset cancer"
   ]
  },
  {
   "cell_type": "code",
   "execution_count": 31,
   "id": "bd239b37-f1ad-49a9-a527-4cc48929f191",
   "metadata": {},
   "outputs": [
    {
     "name": "stdout",
     "output_type": "stream",
     "text": [
      "cancer:\t0.7823, std: 0.2063, time: 0.0300s\n"
     ]
    }
   ],
   "source": [
    "t0 = time()\n",
    "clf = Perceptron(eta0=0.5, early_stopping=True, random_state=0)\n",
    "scores = cross_val_score(clf, X_cancer, y_cancer, cv=10)\n",
    "print(\"cancer:\\t\", \"%.4f\" % np.mean(scores), \", std: \", \"%.4f\" % np.std(scores), \", time: %.4fs\" % (time()-t0), sep='')"
   ]
  },
  {
   "cell_type": "markdown",
   "id": "cde6cc55-5147-476a-ac4c-26bb6960bd56",
   "metadata": {},
   "source": [
    "***\n",
    "##### Dataset isolet"
   ]
  },
  {
   "cell_type": "code",
   "execution_count": 32,
   "id": "661010ec-49fd-4ab6-b039-d1a421de81b1",
   "metadata": {},
   "outputs": [
    {
     "name": "stdout",
     "output_type": "stream",
     "text": [
      "isolet:\t0.9259, std: 0.0147, time: 14.6223s\n"
     ]
    }
   ],
   "source": [
    "t0 = time()\n",
    "clf = Perceptron(eta0=0.5, early_stopping=True, random_state=0)\n",
    "scores = cross_val_score(clf, X_isolet, y_isolet, cv=10)\n",
    "print(\"isolet:\\t\", \"%.4f\" % np.mean(scores), \", std: \", \"%.4f\" % np.std(scores), \", time: %.4fs\" % (time()-t0), sep='')"
   ]
  },
  {
   "cell_type": "markdown",
   "id": "17c52c7a-6bb8-4aa2-b64a-9a1b4dfc2a1a",
   "metadata": {},
   "source": [
    "***\n",
    "##### Dataset mnist"
   ]
  },
  {
   "cell_type": "code",
   "execution_count": 33,
   "id": "999d6df4-0e8e-4fda-a2da-fc7abd2a5cb6",
   "metadata": {},
   "outputs": [
    {
     "name": "stdout",
     "output_type": "stream",
     "text": [
      "mnist:\t0.8687, std: 0.0144, time: 69.6371s\n"
     ]
    }
   ],
   "source": [
    "t0 = time()\n",
    "clf = Perceptron(eta0=0.5, early_stopping=True, random_state=0)\n",
    "scores = cross_val_score(clf, X_mnist, y_mnist, cv=10)\n",
    "print(\"mnist:\\t\", \"%.4f\" % np.mean(scores), \", std: \", \"%.4f\" % np.std(scores), \", time: %.4fs\" % (time()-t0), sep='')"
   ]
  },
  {
   "cell_type": "markdown",
   "id": "3cdccf02-e558-414b-9d1a-7bd64968362d",
   "metadata": {},
   "source": [
    "***\n",
    "#### **Resumen de resultados**\n",
    "\n",
    "|dataset|ratio de aprendizaje ($\\delta$)|fraccion de validación interna|tasa de aciertos|\n",
    "|---|---|---|---|\n",
    "|iris|default|default|0.6667|\n",
    "|wine|default|default|0.5297|\n",
    "|cancer|default|default|0.7823|\n",
    "|isolet|default|default|0.9259|\n",
    "|mnist|default|default|0.8687|\n"
   ]
  },
  {
   "cell_type": "markdown",
   "id": "0f547663-16cc-4619-beed-981e7d5f3f3f",
   "metadata": {},
   "source": [
    "## **Ensemble del clasificador.**"
   ]
  },
  {
   "cell_type": "code",
   "execution_count": null,
   "id": "85c0ef1e-6323-43cd-ae22-90ba774abae7",
   "metadata": {},
   "outputs": [],
   "source": []
  }
 ],
 "metadata": {
  "kernelspec": {
   "display_name": "Python 3 (ipykernel)",
   "language": "python",
   "name": "python3"
  },
  "language_info": {
   "codemirror_mode": {
    "name": "ipython",
    "version": 3
   },
   "file_extension": ".py",
   "mimetype": "text/x-python",
   "name": "python",
   "nbconvert_exporter": "python",
   "pygments_lexer": "ipython3",
   "version": "3.9.0"
  }
 },
 "nbformat": 4,
 "nbformat_minor": 5
}
