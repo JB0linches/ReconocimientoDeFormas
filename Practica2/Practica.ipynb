{
 "cells": [
  {
   "cell_type": "markdown",
   "id": "26dcae2d-a218-421c-87bd-f7da8443540b",
   "metadata": {},
   "source": [
    "# **Práctica 2**\n",
    "* **Alumno 1**: Bolinches Segovia, Jorge\n",
    "* **Alumno 2**: Cerezo Pomykol, Jan"
   ]
  },
  {
   "cell_type": "code",
   "execution_count": 13,
   "id": "622f63a0-ada3-45b3-96d0-140fde22d1e7",
   "metadata": {},
   "outputs": [],
   "source": [
    "import numpy as np\n",
    "import pandas as pd\n",
    "import os.path\n",
    "from sklearn.datasets import load_iris, load_wine, load_breast_cancer, fetch_openml\n",
    "\n",
    "# Iris\n",
    "dataset = load_iris()\n",
    "X_iris = dataset.data\n",
    "y_iris = dataset.target\n",
    "\n",
    "# Wine\n",
    "dataset = load_wine()\n",
    "X_wine = dataset.data\n",
    "y_wine = dataset.target\n",
    "\n",
    "# Cancer\n",
    "dataset = load_breast_cancer()\n",
    "X_cancer = dataset.data\n",
    "y_cancer = dataset.target\n",
    "\n",
    "\n",
    "# Isolet\n",
    "# Si existe la base de datos, cargo las variables\n",
    "if os.path.exists(\"isolet_X.pickle\"):\n",
    "    X = pd.read_pickle('isolet_X.pickle')\n",
    "    y = pd.read_pickle('isolet_y.pickle')\n",
    "else:\n",
    "    # Cargamos desde internet ( https://www.openml.org ) y la guardamos en el directorio local\n",
    "    X, y = fetch_openml('isolet', version=1, return_X_y=True, cache=False)\n",
    "    # Guardamos los datos para no volver a descargarlos\n",
    "    X.to_pickle(\"isolet_X.pickle\")\n",
    "    y.to_pickle(\"isolet_y.pickle\")\n",
    "\n",
    "X_isolet = np.array(X)\n",
    "y_isolet = pd.factorize(y)[0]\n",
    "\n",
    "# MNIST\n",
    "# Si existe la base de datos, cargo las variables\n",
    "if os.path.exists(\"mnist_X.pickle\"):\n",
    "    X = pd.read_pickle('mnist_X.pickle')\n",
    "    y = pd.read_pickle('mnist_y.pickle')\n",
    "else:\n",
    "    # Cargamos desde internet ( https://www.openml.org ) y la guardamos en el directorio local\n",
    "    X, y = fetch_openml('mnist_784', version=1, return_X_y=True, cache=False)\n",
    "    # Guardamos los datos para no volver a descargarlos\n",
    "    X.to_pickle(\"mnist_X.pickle\")\n",
    "    y.to_pickle(\"mnist_y.pickle\")\n",
    "\n",
    "X_mnist = np.array(X)\n",
    "y_mnist = pd.factorize(y)[0]\n",
    "\n",
    "datasets = {\"iris\": (X_iris, y_iris),\n",
    "            \"wine\": (X_wine, y_wine),\n",
    "            \"cancer\": (X_cancer, y_cancer),\n",
    "            \"isolet\": (X_isolet, y_isolet),\n",
    "            \"mnist\": (X_mnist, y_mnist)}"
   ]
  },
  {
   "cell_type": "code",
   "execution_count": 16,
   "id": "03963aea-c2ca-429d-a858-3124ff783ef6",
   "metadata": {},
   "outputs": [
    {
     "name": "stdout",
     "output_type": "stream",
     "text": [
      "iris: (150, 4)\n",
      "wine: (178, 13)\n",
      "cancer: (569, 30)\n",
      "isolet: (7797, 617)\n",
      "mnist: (70000, 784)\n"
     ]
    }
   ],
   "source": [
    "for i in datasets:\n",
    "    print(i, \": \", datasets[i][0].shape, sep='')"
   ]
  },
  {
   "cell_type": "markdown",
   "id": "1edec771-5ed1-4b50-a2ad-1c66ad2ff4b8",
   "metadata": {},
   "source": [
    "## Entrenamiento y evaluación del perceptrón."
   ]
  },
  {
   "cell_type": "code",
   "execution_count": 17,
   "id": "fe6c4890-7c68-4649-a8d2-7c47b38951ae",
   "metadata": {},
   "outputs": [],
   "source": [
    "from sklearn.linear_model import Perceptron\n",
    "from sklearn.model_selection import cross_val_score"
   ]
  },
  {
   "cell_type": "code",
   "execution_count": 18,
   "id": "d9a20c3b-440d-4943-8c28-1674896ac5b3",
   "metadata": {},
   "outputs": [
    {
     "name": "stdout",
     "output_type": "stream",
     "text": [
      "iris: 0.7067, std: 0.0611\n",
      "wine: 0.6134, std: 0.1230\n",
      "cancer: 0.8964, std: 0.0345\n",
      "isolet: 0.9433, std: 0.0181\n",
      "mnist: 0.8671, std: 0.0123\n"
     ]
    }
   ],
   "source": [
    "clf = Perceptron(tol=1e-3, random_state=0)\n",
    "\n",
    "for i in datasets:\n",
    "    scores = cross_val_score(clf, datasets[i][0], datasets[i][1], cv=10)\n",
    "    print(i, \": \", \"%.4f\" % np.mean(scores), \", std: \", \"%.4f\" % np.std(scores), sep='')\n",
    "\n",
    "\n"
   ]
  },
  {
   "cell_type": "markdown",
   "id": "0f547663-16cc-4619-beed-981e7d5f3f3f",
   "metadata": {},
   "source": [
    "## Ensemble del clasificador."
   ]
  },
  {
   "cell_type": "code",
   "execution_count": null,
   "id": "85c0ef1e-6323-43cd-ae22-90ba774abae7",
   "metadata": {},
   "outputs": [],
   "source": []
  }
 ],
 "metadata": {
  "kernelspec": {
   "display_name": "Python 3 (ipykernel)",
   "language": "python",
   "name": "python3"
  },
  "language_info": {
   "codemirror_mode": {
    "name": "ipython",
    "version": 3
   },
   "file_extension": ".py",
   "mimetype": "text/x-python",
   "name": "python",
   "nbconvert_exporter": "python",
   "pygments_lexer": "ipython3",
   "version": "3.9.0"
  }
 },
 "nbformat": 4,
 "nbformat_minor": 5
}
