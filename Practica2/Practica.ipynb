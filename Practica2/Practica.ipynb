{
 "cells": [
  {
   "cell_type": "markdown",
   "id": "26dcae2d-a218-421c-87bd-f7da8443540b",
   "metadata": {},
   "source": [
    "# **Práctica 2**\n",
    "* **Alumno 1**: Bolinches Segovia, Jorge\n",
    "* **Alumno 2**: Cerezo Pomykol, Jan"
   ]
  },
  {
   "cell_type": "code",
   "execution_count": 2,
   "id": "622f63a0-ada3-45b3-96d0-140fde22d1e7",
   "metadata": {},
   "outputs": [],
   "source": [
    "import numpy as np\n",
    "import pandas as pd\n",
    "import os.path\n",
    "from sklearn.datasets import load_iris, load_wine, load_breast_cancer, fetch_openml\n",
    "\n",
    "# Iris\n",
    "dataset = load_iris()\n",
    "X_iris = dataset.data\n",
    "y_iris = dataset.target\n",
    "\n",
    "# Wine\n",
    "dataset = load_wine()\n",
    "X_wine = dataset.data\n",
    "y_wine = dataset.target\n",
    "\n",
    "# Cancer\n",
    "dataset = load_breast_cancer()\n",
    "X_cancer = dataset.data\n",
    "y_cancer = dataset.target\n",
    "\n",
    "\n",
    "# Isolet\n",
    "# Si existe la base de datos, cargo las variables\n",
    "if os.path.exists(\"isolet_X.pickle\"):\n",
    "    X = pd.read_pickle('isolet_X.pickle')\n",
    "    y = pd.read_pickle('isolet_y.pickle')\n",
    "else:\n",
    "    # Cargamos desde internet ( https://www.openml.org ) y la guardamos en el directorio local\n",
    "    X, y = fetch_openml('isolet', version=1, return_X_y=True, cache=False)\n",
    "    # Guardamos los datos para no volver a descargarlos\n",
    "    X.to_pickle(\"isolet_X.pickle\")\n",
    "    y.to_pickle(\"isolet_y.pickle\")\n",
    "\n",
    "X_isolet = np.array(X)\n",
    "y_isolet = pd.factorize(y)[0]\n",
    "\n",
    "# MNIST\n",
    "# Si existe la base de datos, cargo las variables\n",
    "if os.path.exists(\"mnist_X.pickle\"):\n",
    "    X = pd.read_pickle('mnist_X.pickle')\n",
    "    y = pd.read_pickle('mnist_y.pickle')\n",
    "else:\n",
    "    # Cargamos desde internet ( https://www.openml.org ) y la guardamos en el directorio local\n",
    "    X, y = fetch_openml('mnist_784', version=1, return_X_y=True, cache=False)\n",
    "    # Guardamos los datos para no volver a descargarlos\n",
    "    X.to_pickle(\"mnist_X.pickle\")\n",
    "    y.to_pickle(\"mnist_y.pickle\")\n",
    "\n",
    "X_mnist = np.array(X)\n",
    "y_mnist = pd.factorize(y)[0]"
   ]
  },
  {
   "cell_type": "markdown",
   "id": "1edec771-5ed1-4b50-a2ad-1c66ad2ff4b8",
   "metadata": {},
   "source": [
    "## Entrenamiento y evaluación del perceptrón."
   ]
  },
  {
   "cell_type": "code",
   "execution_count": null,
   "id": "f7d4d5f6-c6e5-4b31-8749-de40ef6de369",
   "metadata": {},
   "outputs": [],
   "source": []
  }
 ],
 "metadata": {
  "kernelspec": {
   "display_name": "Python 3 (ipykernel)",
   "language": "python",
   "name": "python3"
  },
  "language_info": {
   "codemirror_mode": {
    "name": "ipython",
    "version": 3
   },
   "file_extension": ".py",
   "mimetype": "text/x-python",
   "name": "python",
   "nbconvert_exporter": "python",
   "pygments_lexer": "ipython3",
   "version": "3.9.0"
  }
 },
 "nbformat": 4,
 "nbformat_minor": 5
}
